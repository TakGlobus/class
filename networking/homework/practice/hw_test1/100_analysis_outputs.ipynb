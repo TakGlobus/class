{
 "cells": [
  {
   "cell_type": "markdown",
   "metadata": {},
   "source": [
    "## Analysis notebook for HW1"
   ]
  },
  {
   "cell_type": "code",
   "execution_count": 2,
   "metadata": {},
   "outputs": [],
   "source": [
    "import os\n",
    "import sys\n",
    "import nstrace # nstrace module \n",
    "import numpy as np\n",
    "import matplotlib.pyplot as plt"
   ]
  },
  {
   "cell_type": "code",
   "execution_count": 2,
   "metadata": {},
   "outputs": [
    {
     "name": "stdout",
     "output_type": "stream",
     "text": [
      "Collecting PyGnuplot\n",
      "  Downloading https://files.pythonhosted.org/packages/54/82/3247821d4c0aac68cad23649add1ab421fa12bb8bf4d0468a00c1b8d7df9/PyGnuplot-0.11.16.tar.gz\n",
      "Building wheels for collected packages: PyGnuplot\n",
      "  Building wheel for PyGnuplot (setup.py) ... \u001b[?25ldone\n",
      "\u001b[?25h  Created wheel for PyGnuplot: filename=PyGnuplot-0.11.16-cp36-none-any.whl size=4490 sha256=6fb80fbf465d0d3d52aa8965f4b915c1c490b26ad09d0240b32fcba0b32c67ca\n",
      "  Stored in directory: /home/tkurihana/.cache/pip/wheels/df/4c/cb/d2da508081e226d79c0c27ebf2d9e975e6a840a9c9b8e02c40\n",
      "Successfully built PyGnuplot\n",
      "Installing collected packages: PyGnuplot\n",
      "Successfully installed PyGnuplot-0.11.16\n"
     ]
    }
   ],
   "source": [
    "### if no PyGnuplot module\n",
    "!pip install PyGnuplot"
   ]
  },
  {
   "cell_type": "code",
   "execution_count": 3,
   "metadata": {},
   "outputs": [],
   "source": [
    "import PyGnuplot as gp"
   ]
  },
  {
   "cell_type": "code",
   "execution_count": 4,
   "metadata": {},
   "outputs": [],
   "source": [
    "import pandas as pd"
   ]
  },
  {
   "cell_type": "markdown",
   "metadata": {},
   "source": [
    "####  Practice: Read files"
   ]
  },
  {
   "cell_type": "code",
   "execution_count": 7,
   "metadata": {},
   "outputs": [],
   "source": [
    "data = pd.read_table(\"./reno_reno/out_0.1Mb.tr\",header=None,sep=' ',) "
   ]
  },
  {
   "cell_type": "code",
   "execution_count": 10,
   "metadata": {},
   "outputs": [],
   "source": [
    "data.columns = ['event', 'time', 'from node', 'to node', \n",
    "              'pkt type', 'pkt size', 'flags', 'fid', \n",
    "              'src addr', 'dst addr', 'seq num', 'pkt id']"
   ]
  },
  {
   "cell_type": "code",
   "execution_count": 11,
   "metadata": {},
   "outputs": [
    {
     "data": {
      "text/html": [
       "<div>\n",
       "<style scoped>\n",
       "    .dataframe tbody tr th:only-of-type {\n",
       "        vertical-align: middle;\n",
       "    }\n",
       "\n",
       "    .dataframe tbody tr th {\n",
       "        vertical-align: top;\n",
       "    }\n",
       "\n",
       "    .dataframe thead th {\n",
       "        text-align: right;\n",
       "    }\n",
       "</style>\n",
       "<table border=\"1\" class=\"dataframe\">\n",
       "  <thead>\n",
       "    <tr style=\"text-align: right;\">\n",
       "      <th></th>\n",
       "      <th>event</th>\n",
       "      <th>time</th>\n",
       "      <th>from node</th>\n",
       "      <th>to node</th>\n",
       "      <th>pkt type</th>\n",
       "      <th>pkt size</th>\n",
       "      <th>flags</th>\n",
       "      <th>fid</th>\n",
       "      <th>src addr</th>\n",
       "      <th>dst addr</th>\n",
       "      <th>seq num</th>\n",
       "      <th>pkt id</th>\n",
       "    </tr>\n",
       "  </thead>\n",
       "  <tbody>\n",
       "    <tr>\n",
       "      <th>0</th>\n",
       "      <td>+</td>\n",
       "      <td>0.500000</td>\n",
       "      <td>0</td>\n",
       "      <td>1</td>\n",
       "      <td>tcp</td>\n",
       "      <td>40</td>\n",
       "      <td>-------</td>\n",
       "      <td>0</td>\n",
       "      <td>0.0</td>\n",
       "      <td>3.0</td>\n",
       "      <td>0</td>\n",
       "      <td>0</td>\n",
       "    </tr>\n",
       "    <tr>\n",
       "      <th>1</th>\n",
       "      <td>-</td>\n",
       "      <td>0.500000</td>\n",
       "      <td>0</td>\n",
       "      <td>1</td>\n",
       "      <td>tcp</td>\n",
       "      <td>40</td>\n",
       "      <td>-------</td>\n",
       "      <td>0</td>\n",
       "      <td>0.0</td>\n",
       "      <td>3.0</td>\n",
       "      <td>0</td>\n",
       "      <td>0</td>\n",
       "    </tr>\n",
       "    <tr>\n",
       "      <th>2</th>\n",
       "      <td>+</td>\n",
       "      <td>0.500000</td>\n",
       "      <td>4</td>\n",
       "      <td>1</td>\n",
       "      <td>tcp</td>\n",
       "      <td>40</td>\n",
       "      <td>-------</td>\n",
       "      <td>1</td>\n",
       "      <td>4.0</td>\n",
       "      <td>5.0</td>\n",
       "      <td>0</td>\n",
       "      <td>1</td>\n",
       "    </tr>\n",
       "    <tr>\n",
       "      <th>3</th>\n",
       "      <td>-</td>\n",
       "      <td>0.500000</td>\n",
       "      <td>4</td>\n",
       "      <td>1</td>\n",
       "      <td>tcp</td>\n",
       "      <td>40</td>\n",
       "      <td>-------</td>\n",
       "      <td>1</td>\n",
       "      <td>4.0</td>\n",
       "      <td>5.0</td>\n",
       "      <td>0</td>\n",
       "      <td>1</td>\n",
       "    </tr>\n",
       "    <tr>\n",
       "      <th>4</th>\n",
       "      <td>r</td>\n",
       "      <td>0.510032</td>\n",
       "      <td>0</td>\n",
       "      <td>1</td>\n",
       "      <td>tcp</td>\n",
       "      <td>40</td>\n",
       "      <td>-------</td>\n",
       "      <td>0</td>\n",
       "      <td>0.0</td>\n",
       "      <td>3.0</td>\n",
       "      <td>0</td>\n",
       "      <td>0</td>\n",
       "    </tr>\n",
       "    <tr>\n",
       "      <th>...</th>\n",
       "      <td>...</td>\n",
       "      <td>...</td>\n",
       "      <td>...</td>\n",
       "      <td>...</td>\n",
       "      <td>...</td>\n",
       "      <td>...</td>\n",
       "      <td>...</td>\n",
       "      <td>...</td>\n",
       "      <td>...</td>\n",
       "      <td>...</td>\n",
       "      <td>...</td>\n",
       "      <td>...</td>\n",
       "    </tr>\n",
       "    <tr>\n",
       "      <th>2077</th>\n",
       "      <td>+</td>\n",
       "      <td>10.476784</td>\n",
       "      <td>1</td>\n",
       "      <td>2</td>\n",
       "      <td>tcp</td>\n",
       "      <td>1000</td>\n",
       "      <td>-------</td>\n",
       "      <td>0</td>\n",
       "      <td>0.0</td>\n",
       "      <td>3.0</td>\n",
       "      <td>65</td>\n",
       "      <td>238</td>\n",
       "    </tr>\n",
       "    <tr>\n",
       "      <th>2078</th>\n",
       "      <td>r</td>\n",
       "      <td>10.482752</td>\n",
       "      <td>3</td>\n",
       "      <td>2</td>\n",
       "      <td>ack</td>\n",
       "      <td>40</td>\n",
       "      <td>-------</td>\n",
       "      <td>0</td>\n",
       "      <td>3.0</td>\n",
       "      <td>0.0</td>\n",
       "      <td>63</td>\n",
       "      <td>239</td>\n",
       "    </tr>\n",
       "    <tr>\n",
       "      <th>2079</th>\n",
       "      <td>+</td>\n",
       "      <td>10.482752</td>\n",
       "      <td>2</td>\n",
       "      <td>1</td>\n",
       "      <td>ack</td>\n",
       "      <td>40</td>\n",
       "      <td>-------</td>\n",
       "      <td>0</td>\n",
       "      <td>3.0</td>\n",
       "      <td>0.0</td>\n",
       "      <td>63</td>\n",
       "      <td>239</td>\n",
       "    </tr>\n",
       "    <tr>\n",
       "      <th>2080</th>\n",
       "      <td>-</td>\n",
       "      <td>10.482752</td>\n",
       "      <td>2</td>\n",
       "      <td>1</td>\n",
       "      <td>ack</td>\n",
       "      <td>40</td>\n",
       "      <td>-------</td>\n",
       "      <td>0</td>\n",
       "      <td>3.0</td>\n",
       "      <td>0.0</td>\n",
       "      <td>63</td>\n",
       "      <td>239</td>\n",
       "    </tr>\n",
       "    <tr>\n",
       "      <th>2081</th>\n",
       "      <td>-</td>\n",
       "      <td>10.491920</td>\n",
       "      <td>1</td>\n",
       "      <td>2</td>\n",
       "      <td>tcp</td>\n",
       "      <td>1000</td>\n",
       "      <td>-------</td>\n",
       "      <td>1</td>\n",
       "      <td>4.0</td>\n",
       "      <td>5.0</td>\n",
       "      <td>40</td>\n",
       "      <td>233</td>\n",
       "    </tr>\n",
       "  </tbody>\n",
       "</table>\n",
       "<p>2082 rows × 12 columns</p>\n",
       "</div>"
      ],
      "text/plain": [
       "     event       time  from node  to node pkt type  pkt size    flags  fid  \\\n",
       "0        +   0.500000          0        1      tcp        40  -------    0   \n",
       "1        -   0.500000          0        1      tcp        40  -------    0   \n",
       "2        +   0.500000          4        1      tcp        40  -------    1   \n",
       "3        -   0.500000          4        1      tcp        40  -------    1   \n",
       "4        r   0.510032          0        1      tcp        40  -------    0   \n",
       "...    ...        ...        ...      ...      ...       ...      ...  ...   \n",
       "2077     +  10.476784          1        2      tcp      1000  -------    0   \n",
       "2078     r  10.482752          3        2      ack        40  -------    0   \n",
       "2079     +  10.482752          2        1      ack        40  -------    0   \n",
       "2080     -  10.482752          2        1      ack        40  -------    0   \n",
       "2081     -  10.491920          1        2      tcp      1000  -------    1   \n",
       "\n",
       "      src addr  dst addr  seq num  pkt id  \n",
       "0          0.0       3.0        0       0  \n",
       "1          0.0       3.0        0       0  \n",
       "2          4.0       5.0        0       1  \n",
       "3          4.0       5.0        0       1  \n",
       "4          0.0       3.0        0       0  \n",
       "...        ...       ...      ...     ...  \n",
       "2077       0.0       3.0       65     238  \n",
       "2078       3.0       0.0       63     239  \n",
       "2079       3.0       0.0       63     239  \n",
       "2080       3.0       0.0       63     239  \n",
       "2081       4.0       5.0       40     233  \n",
       "\n",
       "[2082 rows x 12 columns]"
      ]
     },
     "execution_count": 11,
     "metadata": {},
     "output_type": "execute_result"
    }
   ],
   "source": [
    "data"
   ]
  },
  {
   "cell_type": "markdown",
   "metadata": {},
   "source": [
    "- Extract rows where loss/drop packet happened"
   ]
  },
  {
   "cell_type": "code",
   "execution_count": 16,
   "metadata": {},
   "outputs": [],
   "source": [
    "drops = data[data['event'] == 'd']"
   ]
  },
  {
   "cell_type": "code",
   "execution_count": 17,
   "metadata": {},
   "outputs": [
    {
     "data": {
      "text/html": [
       "<div>\n",
       "<style scoped>\n",
       "    .dataframe tbody tr th:only-of-type {\n",
       "        vertical-align: middle;\n",
       "    }\n",
       "\n",
       "    .dataframe tbody tr th {\n",
       "        vertical-align: top;\n",
       "    }\n",
       "\n",
       "    .dataframe thead th {\n",
       "        text-align: right;\n",
       "    }\n",
       "</style>\n",
       "<table border=\"1\" class=\"dataframe\">\n",
       "  <thead>\n",
       "    <tr style=\"text-align: right;\">\n",
       "      <th></th>\n",
       "      <th>event</th>\n",
       "      <th>time</th>\n",
       "      <th>from node</th>\n",
       "      <th>to node</th>\n",
       "      <th>pkt type</th>\n",
       "      <th>pkt size</th>\n",
       "      <th>flags</th>\n",
       "      <th>fid</th>\n",
       "      <th>src addr</th>\n",
       "      <th>dst addr</th>\n",
       "      <th>seq num</th>\n",
       "      <th>pkt id</th>\n",
       "    </tr>\n",
       "  </thead>\n",
       "  <tbody>\n",
       "    <tr>\n",
       "      <th>170</th>\n",
       "      <td>d</td>\n",
       "      <td>1.202992</td>\n",
       "      <td>1</td>\n",
       "      <td>2</td>\n",
       "      <td>tcp</td>\n",
       "      <td>1000</td>\n",
       "      <td>-------</td>\n",
       "      <td>0</td>\n",
       "      <td>0.0</td>\n",
       "      <td>3.0</td>\n",
       "      <td>8</td>\n",
       "      <td>22</td>\n",
       "    </tr>\n",
       "    <tr>\n",
       "      <th>193</th>\n",
       "      <td>d</td>\n",
       "      <td>1.282992</td>\n",
       "      <td>1</td>\n",
       "      <td>2</td>\n",
       "      <td>tcp</td>\n",
       "      <td>1000</td>\n",
       "      <td>-------</td>\n",
       "      <td>0</td>\n",
       "      <td>0.0</td>\n",
       "      <td>3.0</td>\n",
       "      <td>10</td>\n",
       "      <td>25</td>\n",
       "    </tr>\n",
       "    <tr>\n",
       "      <th>216</th>\n",
       "      <td>d</td>\n",
       "      <td>1.362992</td>\n",
       "      <td>1</td>\n",
       "      <td>2</td>\n",
       "      <td>tcp</td>\n",
       "      <td>1000</td>\n",
       "      <td>-------</td>\n",
       "      <td>0</td>\n",
       "      <td>0.0</td>\n",
       "      <td>3.0</td>\n",
       "      <td>12</td>\n",
       "      <td>28</td>\n",
       "    </tr>\n",
       "    <tr>\n",
       "      <th>239</th>\n",
       "      <td>d</td>\n",
       "      <td>1.442992</td>\n",
       "      <td>1</td>\n",
       "      <td>2</td>\n",
       "      <td>tcp</td>\n",
       "      <td>1000</td>\n",
       "      <td>-------</td>\n",
       "      <td>0</td>\n",
       "      <td>0.0</td>\n",
       "      <td>3.0</td>\n",
       "      <td>14</td>\n",
       "      <td>31</td>\n",
       "    </tr>\n",
       "    <tr>\n",
       "      <th>262</th>\n",
       "      <td>d</td>\n",
       "      <td>1.522992</td>\n",
       "      <td>1</td>\n",
       "      <td>2</td>\n",
       "      <td>tcp</td>\n",
       "      <td>1000</td>\n",
       "      <td>-------</td>\n",
       "      <td>1</td>\n",
       "      <td>4.0</td>\n",
       "      <td>5.0</td>\n",
       "      <td>8</td>\n",
       "      <td>34</td>\n",
       "    </tr>\n",
       "    <tr>\n",
       "      <th>285</th>\n",
       "      <td>d</td>\n",
       "      <td>1.602992</td>\n",
       "      <td>1</td>\n",
       "      <td>2</td>\n",
       "      <td>tcp</td>\n",
       "      <td>1000</td>\n",
       "      <td>-------</td>\n",
       "      <td>1</td>\n",
       "      <td>4.0</td>\n",
       "      <td>5.0</td>\n",
       "      <td>10</td>\n",
       "      <td>37</td>\n",
       "    </tr>\n",
       "    <tr>\n",
       "      <th>308</th>\n",
       "      <td>d</td>\n",
       "      <td>1.682992</td>\n",
       "      <td>1</td>\n",
       "      <td>2</td>\n",
       "      <td>tcp</td>\n",
       "      <td>1000</td>\n",
       "      <td>-------</td>\n",
       "      <td>1</td>\n",
       "      <td>4.0</td>\n",
       "      <td>5.0</td>\n",
       "      <td>12</td>\n",
       "      <td>40</td>\n",
       "    </tr>\n",
       "    <tr>\n",
       "      <th>331</th>\n",
       "      <td>d</td>\n",
       "      <td>1.762992</td>\n",
       "      <td>1</td>\n",
       "      <td>2</td>\n",
       "      <td>tcp</td>\n",
       "      <td>1000</td>\n",
       "      <td>-------</td>\n",
       "      <td>1</td>\n",
       "      <td>4.0</td>\n",
       "      <td>5.0</td>\n",
       "      <td>14</td>\n",
       "      <td>43</td>\n",
       "    </tr>\n",
       "    <tr>\n",
       "      <th>354</th>\n",
       "      <td>d</td>\n",
       "      <td>1.842992</td>\n",
       "      <td>1</td>\n",
       "      <td>2</td>\n",
       "      <td>tcp</td>\n",
       "      <td>1000</td>\n",
       "      <td>-------</td>\n",
       "      <td>0</td>\n",
       "      <td>0.0</td>\n",
       "      <td>3.0</td>\n",
       "      <td>16</td>\n",
       "      <td>46</td>\n",
       "    </tr>\n",
       "    <tr>\n",
       "      <th>431</th>\n",
       "      <td>d</td>\n",
       "      <td>2.162992</td>\n",
       "      <td>1</td>\n",
       "      <td>2</td>\n",
       "      <td>tcp</td>\n",
       "      <td>1000</td>\n",
       "      <td>-------</td>\n",
       "      <td>1</td>\n",
       "      <td>4.0</td>\n",
       "      <td>5.0</td>\n",
       "      <td>16</td>\n",
       "      <td>55</td>\n",
       "    </tr>\n",
       "    <tr>\n",
       "      <th>976</th>\n",
       "      <td>d</td>\n",
       "      <td>5.598384</td>\n",
       "      <td>1</td>\n",
       "      <td>2</td>\n",
       "      <td>tcp</td>\n",
       "      <td>1000</td>\n",
       "      <td>-------</td>\n",
       "      <td>1</td>\n",
       "      <td>4.0</td>\n",
       "      <td>5.0</td>\n",
       "      <td>21</td>\n",
       "      <td>116</td>\n",
       "    </tr>\n",
       "    <tr>\n",
       "      <th>1035</th>\n",
       "      <td>d</td>\n",
       "      <td>5.837584</td>\n",
       "      <td>1</td>\n",
       "      <td>2</td>\n",
       "      <td>tcp</td>\n",
       "      <td>1000</td>\n",
       "      <td>-------</td>\n",
       "      <td>0</td>\n",
       "      <td>0.0</td>\n",
       "      <td>3.0</td>\n",
       "      <td>31</td>\n",
       "      <td>123</td>\n",
       "    </tr>\n",
       "    <tr>\n",
       "      <th>1598</th>\n",
       "      <td>d</td>\n",
       "      <td>8.317584</td>\n",
       "      <td>1</td>\n",
       "      <td>2</td>\n",
       "      <td>tcp</td>\n",
       "      <td>1000</td>\n",
       "      <td>-------</td>\n",
       "      <td>1</td>\n",
       "      <td>4.0</td>\n",
       "      <td>5.0</td>\n",
       "      <td>33</td>\n",
       "      <td>186</td>\n",
       "    </tr>\n",
       "    <tr>\n",
       "      <th>1783</th>\n",
       "      <td>d</td>\n",
       "      <td>9.117584</td>\n",
       "      <td>1</td>\n",
       "      <td>2</td>\n",
       "      <td>tcp</td>\n",
       "      <td>1000</td>\n",
       "      <td>-------</td>\n",
       "      <td>0</td>\n",
       "      <td>0.0</td>\n",
       "      <td>3.0</td>\n",
       "      <td>56</td>\n",
       "      <td>207</td>\n",
       "    </tr>\n",
       "  </tbody>\n",
       "</table>\n",
       "</div>"
      ],
      "text/plain": [
       "     event      time  from node  to node pkt type  pkt size    flags  fid  \\\n",
       "170      d  1.202992          1        2      tcp      1000  -------    0   \n",
       "193      d  1.282992          1        2      tcp      1000  -------    0   \n",
       "216      d  1.362992          1        2      tcp      1000  -------    0   \n",
       "239      d  1.442992          1        2      tcp      1000  -------    0   \n",
       "262      d  1.522992          1        2      tcp      1000  -------    1   \n",
       "285      d  1.602992          1        2      tcp      1000  -------    1   \n",
       "308      d  1.682992          1        2      tcp      1000  -------    1   \n",
       "331      d  1.762992          1        2      tcp      1000  -------    1   \n",
       "354      d  1.842992          1        2      tcp      1000  -------    0   \n",
       "431      d  2.162992          1        2      tcp      1000  -------    1   \n",
       "976      d  5.598384          1        2      tcp      1000  -------    1   \n",
       "1035     d  5.837584          1        2      tcp      1000  -------    0   \n",
       "1598     d  8.317584          1        2      tcp      1000  -------    1   \n",
       "1783     d  9.117584          1        2      tcp      1000  -------    0   \n",
       "\n",
       "      src addr  dst addr  seq num  pkt id  \n",
       "170        0.0       3.0        8      22  \n",
       "193        0.0       3.0       10      25  \n",
       "216        0.0       3.0       12      28  \n",
       "239        0.0       3.0       14      31  \n",
       "262        4.0       5.0        8      34  \n",
       "285        4.0       5.0       10      37  \n",
       "308        4.0       5.0       12      40  \n",
       "331        4.0       5.0       14      43  \n",
       "354        0.0       3.0       16      46  \n",
       "431        4.0       5.0       16      55  \n",
       "976        4.0       5.0       21     116  \n",
       "1035       0.0       3.0       31     123  \n",
       "1598       4.0       5.0       33     186  \n",
       "1783       0.0       3.0       56     207  "
      ]
     },
     "execution_count": 17,
     "metadata": {},
     "output_type": "execute_result"
    }
   ],
   "source": [
    "drops"
   ]
  },
  {
   "cell_type": "markdown",
   "metadata": {},
   "source": [
    "- Extract number of \"ack\" packet (col name == 'pkt type')"
   ]
  },
  {
   "cell_type": "code",
   "execution_count": 18,
   "metadata": {},
   "outputs": [],
   "source": [
    "acks = data[data['pkt type'] == 'ack']"
   ]
  },
  {
   "cell_type": "code",
   "execution_count": 19,
   "metadata": {},
   "outputs": [
    {
     "data": {
      "text/html": [
       "<div>\n",
       "<style scoped>\n",
       "    .dataframe tbody tr th:only-of-type {\n",
       "        vertical-align: middle;\n",
       "    }\n",
       "\n",
       "    .dataframe tbody tr th {\n",
       "        vertical-align: top;\n",
       "    }\n",
       "\n",
       "    .dataframe thead th {\n",
       "        text-align: right;\n",
       "    }\n",
       "</style>\n",
       "<table border=\"1\" class=\"dataframe\">\n",
       "  <thead>\n",
       "    <tr style=\"text-align: right;\">\n",
       "      <th></th>\n",
       "      <th>event</th>\n",
       "      <th>time</th>\n",
       "      <th>from node</th>\n",
       "      <th>to node</th>\n",
       "      <th>pkt type</th>\n",
       "      <th>pkt size</th>\n",
       "      <th>flags</th>\n",
       "      <th>fid</th>\n",
       "      <th>src addr</th>\n",
       "      <th>dst addr</th>\n",
       "      <th>seq num</th>\n",
       "      <th>pkt id</th>\n",
       "    </tr>\n",
       "  </thead>\n",
       "  <tbody>\n",
       "    <tr>\n",
       "      <th>17</th>\n",
       "      <td>+</td>\n",
       "      <td>0.573264</td>\n",
       "      <td>3</td>\n",
       "      <td>2</td>\n",
       "      <td>ack</td>\n",
       "      <td>40</td>\n",
       "      <td>-------</td>\n",
       "      <td>0</td>\n",
       "      <td>3.0</td>\n",
       "      <td>0.0</td>\n",
       "      <td>0</td>\n",
       "      <td>2</td>\n",
       "    </tr>\n",
       "    <tr>\n",
       "      <th>18</th>\n",
       "      <td>-</td>\n",
       "      <td>0.573264</td>\n",
       "      <td>3</td>\n",
       "      <td>2</td>\n",
       "      <td>ack</td>\n",
       "      <td>40</td>\n",
       "      <td>-------</td>\n",
       "      <td>0</td>\n",
       "      <td>3.0</td>\n",
       "      <td>0.0</td>\n",
       "      <td>0</td>\n",
       "      <td>2</td>\n",
       "    </tr>\n",
       "    <tr>\n",
       "      <th>20</th>\n",
       "      <td>+</td>\n",
       "      <td>0.576464</td>\n",
       "      <td>5</td>\n",
       "      <td>2</td>\n",
       "      <td>ack</td>\n",
       "      <td>40</td>\n",
       "      <td>-------</td>\n",
       "      <td>1</td>\n",
       "      <td>5.0</td>\n",
       "      <td>4.0</td>\n",
       "      <td>0</td>\n",
       "      <td>3</td>\n",
       "    </tr>\n",
       "    <tr>\n",
       "      <th>21</th>\n",
       "      <td>-</td>\n",
       "      <td>0.576464</td>\n",
       "      <td>5</td>\n",
       "      <td>2</td>\n",
       "      <td>ack</td>\n",
       "      <td>40</td>\n",
       "      <td>-------</td>\n",
       "      <td>1</td>\n",
       "      <td>5.0</td>\n",
       "      <td>4.0</td>\n",
       "      <td>0</td>\n",
       "      <td>3</td>\n",
       "    </tr>\n",
       "    <tr>\n",
       "      <th>22</th>\n",
       "      <td>r</td>\n",
       "      <td>0.583296</td>\n",
       "      <td>3</td>\n",
       "      <td>2</td>\n",
       "      <td>ack</td>\n",
       "      <td>40</td>\n",
       "      <td>-------</td>\n",
       "      <td>0</td>\n",
       "      <td>3.0</td>\n",
       "      <td>0.0</td>\n",
       "      <td>0</td>\n",
       "      <td>2</td>\n",
       "    </tr>\n",
       "    <tr>\n",
       "      <th>...</th>\n",
       "      <td>...</td>\n",
       "      <td>...</td>\n",
       "      <td>...</td>\n",
       "      <td>...</td>\n",
       "      <td>...</td>\n",
       "      <td>...</td>\n",
       "      <td>...</td>\n",
       "      <td>...</td>\n",
       "      <td>...</td>\n",
       "      <td>...</td>\n",
       "      <td>...</td>\n",
       "      <td>...</td>\n",
       "    </tr>\n",
       "    <tr>\n",
       "      <th>2074</th>\n",
       "      <td>+</td>\n",
       "      <td>10.472720</td>\n",
       "      <td>3</td>\n",
       "      <td>2</td>\n",
       "      <td>ack</td>\n",
       "      <td>40</td>\n",
       "      <td>-------</td>\n",
       "      <td>0</td>\n",
       "      <td>3.0</td>\n",
       "      <td>0.0</td>\n",
       "      <td>63</td>\n",
       "      <td>239</td>\n",
       "    </tr>\n",
       "    <tr>\n",
       "      <th>2075</th>\n",
       "      <td>-</td>\n",
       "      <td>10.472720</td>\n",
       "      <td>3</td>\n",
       "      <td>2</td>\n",
       "      <td>ack</td>\n",
       "      <td>40</td>\n",
       "      <td>-------</td>\n",
       "      <td>0</td>\n",
       "      <td>3.0</td>\n",
       "      <td>0.0</td>\n",
       "      <td>63</td>\n",
       "      <td>239</td>\n",
       "    </tr>\n",
       "    <tr>\n",
       "      <th>2078</th>\n",
       "      <td>r</td>\n",
       "      <td>10.482752</td>\n",
       "      <td>3</td>\n",
       "      <td>2</td>\n",
       "      <td>ack</td>\n",
       "      <td>40</td>\n",
       "      <td>-------</td>\n",
       "      <td>0</td>\n",
       "      <td>3.0</td>\n",
       "      <td>0.0</td>\n",
       "      <td>63</td>\n",
       "      <td>239</td>\n",
       "    </tr>\n",
       "    <tr>\n",
       "      <th>2079</th>\n",
       "      <td>+</td>\n",
       "      <td>10.482752</td>\n",
       "      <td>2</td>\n",
       "      <td>1</td>\n",
       "      <td>ack</td>\n",
       "      <td>40</td>\n",
       "      <td>-------</td>\n",
       "      <td>0</td>\n",
       "      <td>3.0</td>\n",
       "      <td>0.0</td>\n",
       "      <td>63</td>\n",
       "      <td>239</td>\n",
       "    </tr>\n",
       "    <tr>\n",
       "      <th>2080</th>\n",
       "      <td>-</td>\n",
       "      <td>10.482752</td>\n",
       "      <td>2</td>\n",
       "      <td>1</td>\n",
       "      <td>ack</td>\n",
       "      <td>40</td>\n",
       "      <td>-------</td>\n",
       "      <td>0</td>\n",
       "      <td>3.0</td>\n",
       "      <td>0.0</td>\n",
       "      <td>63</td>\n",
       "      <td>239</td>\n",
       "    </tr>\n",
       "  </tbody>\n",
       "</table>\n",
       "<p>995 rows × 12 columns</p>\n",
       "</div>"
      ],
      "text/plain": [
       "     event       time  from node  to node pkt type  pkt size    flags  fid  \\\n",
       "17       +   0.573264          3        2      ack        40  -------    0   \n",
       "18       -   0.573264          3        2      ack        40  -------    0   \n",
       "20       +   0.576464          5        2      ack        40  -------    1   \n",
       "21       -   0.576464          5        2      ack        40  -------    1   \n",
       "22       r   0.583296          3        2      ack        40  -------    0   \n",
       "...    ...        ...        ...      ...      ...       ...      ...  ...   \n",
       "2074     +  10.472720          3        2      ack        40  -------    0   \n",
       "2075     -  10.472720          3        2      ack        40  -------    0   \n",
       "2078     r  10.482752          3        2      ack        40  -------    0   \n",
       "2079     +  10.482752          2        1      ack        40  -------    0   \n",
       "2080     -  10.482752          2        1      ack        40  -------    0   \n",
       "\n",
       "      src addr  dst addr  seq num  pkt id  \n",
       "17         3.0       0.0        0       2  \n",
       "18         3.0       0.0        0       2  \n",
       "20         5.0       4.0        0       3  \n",
       "21         5.0       4.0        0       3  \n",
       "22         3.0       0.0        0       2  \n",
       "...        ...       ...      ...     ...  \n",
       "2074       3.0       0.0       63     239  \n",
       "2075       3.0       0.0       63     239  \n",
       "2078       3.0       0.0       63     239  \n",
       "2079       3.0       0.0       63     239  \n",
       "2080       3.0       0.0       63     239  \n",
       "\n",
       "[995 rows x 12 columns]"
      ]
     },
     "execution_count": 19,
     "metadata": {},
     "output_type": "execute_result"
    }
   ],
   "source": [
    "acks"
   ]
  },
  {
   "cell_type": "markdown",
   "metadata": {},
   "source": [
    "- Get packet loss rate  \n",
    "$$ \\text{loss rate} = \\frac{\\text{\\# of drops}}{\\text{\\# of acks}} $$"
   ]
  },
  {
   "cell_type": "code",
   "execution_count": 22,
   "metadata": {},
   "outputs": [
    {
     "data": {
      "text/plain": [
       "1.407035175879397"
      ]
     },
     "execution_count": 22,
     "metadata": {},
     "output_type": "execute_result"
    }
   ],
   "source": [
    "loss_rate = len(drops)/len(acks)*100 \n",
    "loss_rate"
   ]
  },
  {
   "cell_type": "markdown",
   "metadata": {},
   "source": [
    "- Get average bandwidth\n",
    "$$ \\text{Avg. Bandwidth} = \\frac{ \\text{\\# of ack packets [bytes] * 8}}{ \\text{time} } [bits / sec] $$ "
   ]
  },
  {
   "cell_type": "code",
   "execution_count": 27,
   "metadata": {},
   "outputs": [
    {
     "name": "stdout",
     "output_type": "stream",
     "text": [
      " Average bandwidth == 1324.0 [packets/sec]\n"
     ]
    }
   ],
   "source": [
    "avg_bandwidth = acks[acks['event'] == 'r']['pkt size'].sum()/10\n",
    "print(\" Average bandwidth == {} [packets/sec]\".format(avg_bandwidth))"
   ]
  },
  {
   "cell_type": "code",
   "execution_count": 28,
   "metadata": {},
   "outputs": [
    {
     "data": {
      "text/plain": [
       "165.5"
      ]
     },
     "execution_count": 28,
     "metadata": {},
     "output_type": "execute_result"
    }
   ],
   "source": [
    "avg_bandwidth*8, "
   ]
  },
  {
   "cell_type": "markdown",
   "metadata": {},
   "source": [
    "- gnuplot with python"
   ]
  },
  {
   "cell_type": "markdown",
   "metadata": {},
   "source": [
    "#### Workflow\n",
    "1. Load 2 'tcp' files; 1 is for Node 1--> Node 4, 5 is Node 5--> Node 6.  \n",
    "2. get df array which only has \"time:\" and 'cwnd:'\n",
    "3. Save them in tmp files\n",
    "4. Load these files by PyGnuplot and Draw"
   ]
  },
  {
   "cell_type": "code",
   "execution_count": 121,
   "metadata": {},
   "outputs": [
    {
     "name": "stderr",
     "output_type": "stream",
     "text": [
      "/home/tkurihana/.conda/envs/tf-cpu/lib/python3.6/site-packages/ipykernel_launcher.py:1: ParserWarning: Falling back to the 'python' engine because the 'c' engine does not support regex separators (separators > 1 char and different from '\\s+' are interpreted as regex); you can avoid this warning by specifying engine='python'.\n",
      "  \"\"\"Entry point for launching an IPython kernel.\n"
     ]
    }
   ],
   "source": [
    "node1 = pd.read_table(\"./reno_reno/out_1Mb_5.tcp\",header=None,sep=\"\\s*\", error_bad_lines=False)"
   ]
  },
  {
   "cell_type": "code",
   "execution_count": 122,
   "metadata": {},
   "outputs": [],
   "source": [
    "node1.drop(node1.columns[[ i for i in range(0,30,2)]], axis=1, inplace=True)"
   ]
  },
  {
   "cell_type": "code",
   "execution_count": 123,
   "metadata": {},
   "outputs": [],
   "source": [
    "node1.columns= [\n",
    "    \"time\", \"saddr\", \"sport\", \"daddr\", \"dport\", \"maxseq\", \"hiack\", \"seqno\", \n",
    "    \"cwnd\", \"ssthresh\", \"dupacks\", \"rtt\", \"srtt\", \"rttvar\", \"bkoff\"\n",
    "]"
   ]
  },
  {
   "cell_type": "code",
   "execution_count": 124,
   "metadata": {},
   "outputs": [
    {
     "data": {
      "text/html": [
       "<div>\n",
       "<style scoped>\n",
       "    .dataframe tbody tr th:only-of-type {\n",
       "        vertical-align: middle;\n",
       "    }\n",
       "\n",
       "    .dataframe tbody tr th {\n",
       "        vertical-align: top;\n",
       "    }\n",
       "\n",
       "    .dataframe thead th {\n",
       "        text-align: right;\n",
       "    }\n",
       "</style>\n",
       "<table border=\"1\" class=\"dataframe\">\n",
       "  <thead>\n",
       "    <tr style=\"text-align: right;\">\n",
       "      <th></th>\n",
       "      <th>time</th>\n",
       "      <th>saddr</th>\n",
       "      <th>sport</th>\n",
       "      <th>daddr</th>\n",
       "      <th>dport</th>\n",
       "      <th>maxseq</th>\n",
       "      <th>hiack</th>\n",
       "      <th>seqno</th>\n",
       "      <th>cwnd</th>\n",
       "      <th>ssthresh</th>\n",
       "      <th>dupacks</th>\n",
       "      <th>rtt</th>\n",
       "      <th>srtt</th>\n",
       "      <th>rttvar</th>\n",
       "      <th>bkoff</th>\n",
       "    </tr>\n",
       "  </thead>\n",
       "  <tbody>\n",
       "    <tr>\n",
       "      <th>0</th>\n",
       "      <td>0.00000</td>\n",
       "      <td>4</td>\n",
       "      <td>0</td>\n",
       "      <td>5</td>\n",
       "      <td>0</td>\n",
       "      <td>-1</td>\n",
       "      <td>-1</td>\n",
       "      <td>0</td>\n",
       "      <td>1.000</td>\n",
       "      <td>20</td>\n",
       "      <td>0</td>\n",
       "      <td>0.00</td>\n",
       "      <td>0.00</td>\n",
       "      <td>12.000</td>\n",
       "      <td>1</td>\n",
       "    </tr>\n",
       "    <tr>\n",
       "      <th>1</th>\n",
       "      <td>0.34019</td>\n",
       "      <td>4</td>\n",
       "      <td>0</td>\n",
       "      <td>5</td>\n",
       "      <td>0</td>\n",
       "      <td>0</td>\n",
       "      <td>0</td>\n",
       "      <td>1</td>\n",
       "      <td>2.000</td>\n",
       "      <td>100</td>\n",
       "      <td>0</td>\n",
       "      <td>0.14</td>\n",
       "      <td>0.14</td>\n",
       "      <td>0.070</td>\n",
       "      <td>1</td>\n",
       "    </tr>\n",
       "    <tr>\n",
       "      <th>2</th>\n",
       "      <td>0.48269</td>\n",
       "      <td>4</td>\n",
       "      <td>0</td>\n",
       "      <td>5</td>\n",
       "      <td>0</td>\n",
       "      <td>2</td>\n",
       "      <td>1</td>\n",
       "      <td>3</td>\n",
       "      <td>3.000</td>\n",
       "      <td>100</td>\n",
       "      <td>0</td>\n",
       "      <td>0.14</td>\n",
       "      <td>0.14</td>\n",
       "      <td>0.052</td>\n",
       "      <td>1</td>\n",
       "    </tr>\n",
       "    <tr>\n",
       "      <th>3</th>\n",
       "      <td>0.48349</td>\n",
       "      <td>4</td>\n",
       "      <td>0</td>\n",
       "      <td>5</td>\n",
       "      <td>0</td>\n",
       "      <td>4</td>\n",
       "      <td>2</td>\n",
       "      <td>5</td>\n",
       "      <td>4.000</td>\n",
       "      <td>100</td>\n",
       "      <td>0</td>\n",
       "      <td>0.14</td>\n",
       "      <td>0.14</td>\n",
       "      <td>0.052</td>\n",
       "      <td>1</td>\n",
       "    </tr>\n",
       "    <tr>\n",
       "      <th>4</th>\n",
       "      <td>0.62518</td>\n",
       "      <td>4</td>\n",
       "      <td>0</td>\n",
       "      <td>5</td>\n",
       "      <td>0</td>\n",
       "      <td>6</td>\n",
       "      <td>3</td>\n",
       "      <td>7</td>\n",
       "      <td>5.000</td>\n",
       "      <td>100</td>\n",
       "      <td>0</td>\n",
       "      <td>0.14</td>\n",
       "      <td>0.14</td>\n",
       "      <td>0.040</td>\n",
       "      <td>1</td>\n",
       "    </tr>\n",
       "    <tr>\n",
       "      <th>...</th>\n",
       "      <td>...</td>\n",
       "      <td>...</td>\n",
       "      <td>...</td>\n",
       "      <td>...</td>\n",
       "      <td>...</td>\n",
       "      <td>...</td>\n",
       "      <td>...</td>\n",
       "      <td>...</td>\n",
       "      <td>...</td>\n",
       "      <td>...</td>\n",
       "      <td>...</td>\n",
       "      <td>...</td>\n",
       "      <td>...</td>\n",
       "      <td>...</td>\n",
       "      <td>...</td>\n",
       "    </tr>\n",
       "    <tr>\n",
       "      <th>6063</th>\n",
       "      <td>20.61182</td>\n",
       "      <td>4</td>\n",
       "      <td>0</td>\n",
       "      <td>5</td>\n",
       "      <td>0</td>\n",
       "      <td>6274</td>\n",
       "      <td>6271</td>\n",
       "      <td>6275</td>\n",
       "      <td>78.331</td>\n",
       "      <td>43</td>\n",
       "      <td>0</td>\n",
       "      <td>0.14</td>\n",
       "      <td>0.14</td>\n",
       "      <td>0.007</td>\n",
       "      <td>1</td>\n",
       "    </tr>\n",
       "    <tr>\n",
       "      <th>6064</th>\n",
       "      <td>20.61342</td>\n",
       "      <td>4</td>\n",
       "      <td>0</td>\n",
       "      <td>5</td>\n",
       "      <td>0</td>\n",
       "      <td>6274</td>\n",
       "      <td>6272</td>\n",
       "      <td>6275</td>\n",
       "      <td>78.344</td>\n",
       "      <td>43</td>\n",
       "      <td>0</td>\n",
       "      <td>0.14</td>\n",
       "      <td>0.14</td>\n",
       "      <td>0.007</td>\n",
       "      <td>1</td>\n",
       "    </tr>\n",
       "    <tr>\n",
       "      <th>6065</th>\n",
       "      <td>20.61422</td>\n",
       "      <td>4</td>\n",
       "      <td>0</td>\n",
       "      <td>5</td>\n",
       "      <td>0</td>\n",
       "      <td>6274</td>\n",
       "      <td>6273</td>\n",
       "      <td>6275</td>\n",
       "      <td>78.357</td>\n",
       "      <td>43</td>\n",
       "      <td>0</td>\n",
       "      <td>0.14</td>\n",
       "      <td>0.14</td>\n",
       "      <td>0.007</td>\n",
       "      <td>1</td>\n",
       "    </tr>\n",
       "    <tr>\n",
       "      <th>6066</th>\n",
       "      <td>20.61582</td>\n",
       "      <td>4</td>\n",
       "      <td>0</td>\n",
       "      <td>5</td>\n",
       "      <td>0</td>\n",
       "      <td>6274</td>\n",
       "      <td>6274</td>\n",
       "      <td>6275</td>\n",
       "      <td>78.369</td>\n",
       "      <td>43</td>\n",
       "      <td>0</td>\n",
       "      <td>0.14</td>\n",
       "      <td>0.14</td>\n",
       "      <td>0.007</td>\n",
       "      <td>1</td>\n",
       "    </tr>\n",
       "    <tr>\n",
       "      <th>6067</th>\n",
       "      <td>20.81582</td>\n",
       "      <td>4</td>\n",
       "      <td>0</td>\n",
       "      <td>5</td>\n",
       "      <td>0</td>\n",
       "      <td>6274</td>\n",
       "      <td>6274</td>\n",
       "      <td>6275</td>\n",
       "      <td>1.000</td>\n",
       "      <td>43</td>\n",
       "      <td>0</td>\n",
       "      <td>0.14</td>\n",
       "      <td>0.14</td>\n",
       "      <td>0.007</td>\n",
       "      <td>1</td>\n",
       "    </tr>\n",
       "  </tbody>\n",
       "</table>\n",
       "<p>6068 rows × 15 columns</p>\n",
       "</div>"
      ],
      "text/plain": [
       "          time  saddr  sport  daddr  dport  maxseq  hiack  seqno    cwnd  \\\n",
       "0      0.00000      4      0      5      0      -1     -1      0   1.000   \n",
       "1      0.34019      4      0      5      0       0      0      1   2.000   \n",
       "2      0.48269      4      0      5      0       2      1      3   3.000   \n",
       "3      0.48349      4      0      5      0       4      2      5   4.000   \n",
       "4      0.62518      4      0      5      0       6      3      7   5.000   \n",
       "...        ...    ...    ...    ...    ...     ...    ...    ...     ...   \n",
       "6063  20.61182      4      0      5      0    6274   6271   6275  78.331   \n",
       "6064  20.61342      4      0      5      0    6274   6272   6275  78.344   \n",
       "6065  20.61422      4      0      5      0    6274   6273   6275  78.357   \n",
       "6066  20.61582      4      0      5      0    6274   6274   6275  78.369   \n",
       "6067  20.81582      4      0      5      0    6274   6274   6275   1.000   \n",
       "\n",
       "      ssthresh  dupacks   rtt  srtt  rttvar  bkoff  \n",
       "0           20        0  0.00  0.00  12.000      1  \n",
       "1          100        0  0.14  0.14   0.070      1  \n",
       "2          100        0  0.14  0.14   0.052      1  \n",
       "3          100        0  0.14  0.14   0.052      1  \n",
       "4          100        0  0.14  0.14   0.040      1  \n",
       "...        ...      ...   ...   ...     ...    ...  \n",
       "6063        43        0  0.14  0.14   0.007      1  \n",
       "6064        43        0  0.14  0.14   0.007      1  \n",
       "6065        43        0  0.14  0.14   0.007      1  \n",
       "6066        43        0  0.14  0.14   0.007      1  \n",
       "6067        43        0  0.14  0.14   0.007      1  \n",
       "\n",
       "[6068 rows x 15 columns]"
      ]
     },
     "execution_count": 124,
     "metadata": {},
     "output_type": "execute_result"
    }
   ],
   "source": [
    "node1"
   ]
  },
  {
   "cell_type": "markdown",
   "metadata": {},
   "source": [
    "##### Get and Merge necessary columns"
   ]
  },
  {
   "cell_type": "code",
   "execution_count": 125,
   "metadata": {},
   "outputs": [],
   "source": [
    "out1 = pd.merge(node1['time'], node1['cwnd'], left_index=True, right_index=True)"
   ]
  },
  {
   "cell_type": "code",
   "execution_count": 126,
   "metadata": {},
   "outputs": [
    {
     "data": {
      "text/html": [
       "<div>\n",
       "<style scoped>\n",
       "    .dataframe tbody tr th:only-of-type {\n",
       "        vertical-align: middle;\n",
       "    }\n",
       "\n",
       "    .dataframe tbody tr th {\n",
       "        vertical-align: top;\n",
       "    }\n",
       "\n",
       "    .dataframe thead th {\n",
       "        text-align: right;\n",
       "    }\n",
       "</style>\n",
       "<table border=\"1\" class=\"dataframe\">\n",
       "  <thead>\n",
       "    <tr style=\"text-align: right;\">\n",
       "      <th></th>\n",
       "      <th>time</th>\n",
       "      <th>cwnd</th>\n",
       "    </tr>\n",
       "  </thead>\n",
       "  <tbody>\n",
       "    <tr>\n",
       "      <th>0</th>\n",
       "      <td>0.00000</td>\n",
       "      <td>1.000</td>\n",
       "    </tr>\n",
       "    <tr>\n",
       "      <th>1</th>\n",
       "      <td>0.34019</td>\n",
       "      <td>2.000</td>\n",
       "    </tr>\n",
       "    <tr>\n",
       "      <th>2</th>\n",
       "      <td>0.48269</td>\n",
       "      <td>3.000</td>\n",
       "    </tr>\n",
       "    <tr>\n",
       "      <th>3</th>\n",
       "      <td>0.48349</td>\n",
       "      <td>4.000</td>\n",
       "    </tr>\n",
       "    <tr>\n",
       "      <th>4</th>\n",
       "      <td>0.62518</td>\n",
       "      <td>5.000</td>\n",
       "    </tr>\n",
       "    <tr>\n",
       "      <th>...</th>\n",
       "      <td>...</td>\n",
       "      <td>...</td>\n",
       "    </tr>\n",
       "    <tr>\n",
       "      <th>6063</th>\n",
       "      <td>20.61182</td>\n",
       "      <td>78.331</td>\n",
       "    </tr>\n",
       "    <tr>\n",
       "      <th>6064</th>\n",
       "      <td>20.61342</td>\n",
       "      <td>78.344</td>\n",
       "    </tr>\n",
       "    <tr>\n",
       "      <th>6065</th>\n",
       "      <td>20.61422</td>\n",
       "      <td>78.357</td>\n",
       "    </tr>\n",
       "    <tr>\n",
       "      <th>6066</th>\n",
       "      <td>20.61582</td>\n",
       "      <td>78.369</td>\n",
       "    </tr>\n",
       "    <tr>\n",
       "      <th>6067</th>\n",
       "      <td>20.81582</td>\n",
       "      <td>1.000</td>\n",
       "    </tr>\n",
       "  </tbody>\n",
       "</table>\n",
       "<p>6068 rows × 2 columns</p>\n",
       "</div>"
      ],
      "text/plain": [
       "          time    cwnd\n",
       "0      0.00000   1.000\n",
       "1      0.34019   2.000\n",
       "2      0.48269   3.000\n",
       "3      0.48349   4.000\n",
       "4      0.62518   5.000\n",
       "...        ...     ...\n",
       "6063  20.61182  78.331\n",
       "6064  20.61342  78.344\n",
       "6065  20.61422  78.357\n",
       "6066  20.61582  78.369\n",
       "6067  20.81582   1.000\n",
       "\n",
       "[6068 rows x 2 columns]"
      ]
     },
     "execution_count": 126,
     "metadata": {},
     "output_type": "execute_result"
    }
   ],
   "source": [
    "out1"
   ]
  },
  {
   "cell_type": "code",
   "execution_count": 127,
   "metadata": {},
   "outputs": [],
   "source": [
    "### Save to tmp file as txt\n",
    "out1.to_csv(\"./reno_reno/_tmp_out_1Mb_1.out\", sep=',', header=False)"
   ]
  },
  {
   "cell_type": "code",
   "execution_count": 128,
   "metadata": {},
   "outputs": [],
   "source": [
    "### Plot all\n",
    "gp.c('set title \"cwnd N1 to N4 at 1Mb\"; set xlabel \"time [sec]\"; set ylabel; \"# of packets\"')\n",
    "gp.c('set datafile separator \",\"')\n",
    "gp.c('set autoscale y')\n",
    "gp.c('set autoscale x')\n",
    "gp.c('plot \"./reno_reno/_tmp_out_1Mb_1.out\" u 2:3 w p')\n",
    "gp.p('./out_0.1_.eps')"
   ]
  },
  {
   "cell_type": "markdown",
   "metadata": {},
   "source": [
    "-------------------\n",
    "### Part 1\n",
    "\n",
    "#### 1.1\n",
    "- reno-reno\n",
    "- newreno-reno\n",
    "- vegas-vegas\n",
    "- newreno-vegas\n",
    "\n",
    "#### 1.2\n",
    "- single-reno\n",
    "- single-newreno\n",
    "- single-vegas\n",
    "\n",
    "##### bandwidth \n",
    "0.01, 0.1, 0.5, 1, 5, 10, 100"
   ]
  },
  {
   "cell_type": "markdown",
   "metadata": {},
   "source": [
    "###### 1.1"
   ]
  },
  {
   "cell_type": "code",
   "execution_count": 94,
   "metadata": {},
   "outputs": [],
   "source": [
    "expdirname=[\n",
    "    \"reno_reno\",\n",
    "    \"newreno_reno\",\n",
    "    \"vegas_vegas\",\n",
    "    \"newreno_vegas\",\n",
    "]"
   ]
  },
  {
   "cell_type": "code",
   "execution_count": 9,
   "metadata": {},
   "outputs": [],
   "source": [
    "bandwidths = [ str(i) for i in range(1,11,1) ]"
   ]
  },
  {
   "cell_type": "code",
   "execution_count": 10,
   "metadata": {},
   "outputs": [
    {
     "data": {
      "text/plain": [
       "['1', '2', '3', '4', '5', '6', '7', '8', '9', '10']"
      ]
     },
     "execution_count": 10,
     "metadata": {},
     "output_type": "execute_result"
    }
   ],
   "source": [
    "bandwidths"
   ]
  },
  {
   "cell_type": "code",
   "execution_count": 141,
   "metadata": {},
   "outputs": [],
   "source": [
    "def compute_loss_bd(drops, acks, ctime=10.0): \n",
    "    # compute\n",
    "    loss_rate = len(drops)/len(acks)*100 \n",
    "    #avg_bandwidth = acks[acks['event'] == 'r']['pkt size'].sum()/ctime\n",
    "    avg_bandwidth = acks[acks['event'] == '-']['pkt size'].sum()/ctime\n",
    "    return loss_rate, avg_bandwidth"
   ]
  },
  {
   "cell_type": "code",
   "execution_count": 142,
   "metadata": {},
   "outputs": [],
   "source": [
    "def get_trfile(filename):\n",
    "    \"\"\"compute average loss rate & bandwidth\n",
    "        filename : directory + filename\n",
    "        ctime : simulation computing time 10s for all test \n",
    "    \"\"\"\n",
    "    data = pd.read_table(filename,header=None,sep=' ',) \n",
    "    data.columns = ['event', 'time', 'from node', 'to node', \n",
    "              'pkt type', 'pkt size', 'flags', 'fid', \n",
    "              'src addr', 'dst addr', 'seq num', 'pkt id']\n",
    "    drops = data[data['event'] == 'd']\n",
    "    acks = data[data['pkt type'] == 'ack']\n",
    "    return drops, acks"
   ]
  },
  {
   "cell_type": "code",
   "execution_count": 95,
   "metadata": {},
   "outputs": [
    {
     "name": "stdout",
     "output_type": "stream",
     "text": [
      " ### END reno_reno ###\n",
      " ### END newreno_reno ###\n",
      " ### END vegas_vegas ###\n",
      " ### END newreno_vegas ###\n"
     ]
    }
   ],
   "source": [
    "loss_rates = np.zeros((len(expdirname), len(bandwidths))).astype(np.float64)\n",
    "avg_bds = np.zeros((len(expdirname), len(bandwidths))).astype(np.float64)\n",
    "for idx, iexpdir in enumerate(expdirname):\n",
    "    for jdx, ibandwidth in enumerate(bandwidths):\n",
    "        \n",
    "        # get file content\n",
    "        basefname = 'out_'+ibandwidth+'Mb.tr'\n",
    "        ifile = os.path.join('./'+iexpdir, basefname)\n",
    "        drops, acks = get_tcpfile(ifile)\n",
    "        \n",
    "        loss_rate, avg_bandwidth = compute_loss_bd(drops, acks)\n",
    "        loss_rates[idx, jdx] = loss_rate\n",
    "        avg_bds[idx, jdx] = avg_bandwidth\n",
    "    print(\" ### END {} ###\".format(iexpdir))"
   ]
  },
  {
   "cell_type": "markdown",
   "metadata": {},
   "source": [
    "- Check visualization"
   ]
  },
  {
   "cell_type": "code",
   "execution_count": 107,
   "metadata": {},
   "outputs": [
    {
     "data": {
      "image/png": "[encoded data removed]",
      "text/plain": [
       "<Figure size 432x288 with 1 Axes>"
      ]
     },
     "metadata": {
      "needs_background": "light"
     },
     "output_type": "display_data"
    }
   ],
   "source": [
    "### drop rate\n",
    "plt.figure()\n",
    "for i in range(4):\n",
    "    x = [i for i in range(len(bandwidths))]\n",
    "    plt.plot(loss_rates[i, :], color='C{}'.format(i), label=expdirname[i], linewidth=3)\n",
    "    plt.xticks(x, bandwidths)\n",
    "plt.grid(True)\n",
    "plt.legend()\n",
    "plt.show()"
   ]
  },
  {
   "cell_type": "code",
   "execution_count": 106,
   "metadata": {},
   "outputs": [
    {
     "data": {
      "image/png": "[encoded data removed]",
      "text/plain": [
       "<Figure size 432x288 with 1 Axes>"
      ]
     },
     "metadata": {
      "needs_background": "light"
     },
     "output_type": "display_data"
    }
   ],
   "source": [
    "### avg bandwith\n",
    "plt.figure()\n",
    "for i in range(4):\n",
    "    x = [i for i in range(len(bandwidths))]\n",
    "    plt.plot(avg_bds[i, :], color='C{}'.format(i), label=expdirname[i], linewidth=3)\n",
    "    plt.xticks(x, bandwidths)\n",
    "plt.grid(True)\n",
    "plt.legend()\n",
    "plt.show()"
   ]
  },
  {
   "cell_type": "markdown",
   "metadata": {},
   "source": [
    "##### save files"
   ]
  },
  {
   "cell_type": "code",
   "execution_count": 111,
   "metadata": {},
   "outputs": [],
   "source": [
    "# column --> exp type\n",
    "# row --> bandwidths\n",
    "np.savetxt('part1_twoflows_loss.txt',loss_rates.T)"
   ]
  },
  {
   "cell_type": "code",
   "execution_count": 110,
   "metadata": {},
   "outputs": [],
   "source": [
    "# column --> exp type\n",
    "# row --> bandwidths\n",
    "np.savetxt('part1_twoflows_bandwidth.txt',avg_bds.T)"
   ]
  },
  {
   "cell_type": "markdown",
   "metadata": {},
   "source": [
    "##### 1.2"
   ]
  },
  {
   "cell_type": "code",
   "execution_count": 112,
   "metadata": {},
   "outputs": [],
   "source": [
    "expdirname=[\n",
    "    \"single_reno\",\n",
    "    \"single_newreno\",\n",
    "    \"single_vegas\",\n",
    "]"
   ]
  },
  {
   "cell_type": "code",
   "execution_count": 113,
   "metadata": {},
   "outputs": [
    {
     "name": "stdout",
     "output_type": "stream",
     "text": [
      " ### END single_reno ###\n",
      " ### END single_newreno ###\n",
      " ### END single_vegas ###\n"
     ]
    }
   ],
   "source": [
    "loss_rates = np.zeros((len(expdirname), len(bandwidths))).astype(np.float64)\n",
    "avg_bds = np.zeros((len(expdirname), len(bandwidths))).astype(np.float64)\n",
    "for idx, iexpdir in enumerate(expdirname):\n",
    "    for jdx, ibandwidth in enumerate(bandwidths):\n",
    "        \n",
    "        # get file content\n",
    "        basefname = 'out_'+ibandwidth+'Mb.tr'\n",
    "        ifile = os.path.join('./'+iexpdir, basefname)\n",
    "        drops, acks = get_tcpfile(ifile)\n",
    "        \n",
    "        loss_rate, avg_bandwidth = compute_loss_bd(drops, acks)\n",
    "        loss_rates[idx, jdx] = loss_rate\n",
    "        avg_bds[idx, jdx] = avg_bandwidth\n",
    "    print(\" ### END {} ###\".format(iexpdir))"
   ]
  },
  {
   "cell_type": "markdown",
   "metadata": {},
   "source": [
    "- check visualization"
   ]
  },
  {
   "cell_type": "code",
   "execution_count": 115,
   "metadata": {},
   "outputs": [
    {
     "data": {
      "image/png": "[encoded data removed]",
      "text/plain": [
       "<Figure size 432x288 with 1 Axes>"
      ]
     },
     "metadata": {
      "needs_background": "light"
     },
     "output_type": "display_data"
    }
   ],
   "source": [
    "### drop rate\n",
    "plt.figure()\n",
    "for i in range(3):\n",
    "    x = [i for i in range(len(bandwidths))]\n",
    "    plt.plot(loss_rates[i, :], color='C{}'.format(i), label=expdirname[i], linewidth=3)\n",
    "    plt.xticks(x, bandwidths)\n",
    "plt.grid(True)\n",
    "plt.legend()\n",
    "plt.show()"
   ]
  },
  {
   "cell_type": "code",
   "execution_count": 116,
   "metadata": {},
   "outputs": [
    {
     "data": {
      "image/png": "[encoded data removed]",
      "text/plain": [
       "<Figure size 432x288 with 1 Axes>"
      ]
     },
     "metadata": {
      "needs_background": "light"
     },
     "output_type": "display_data"
    }
   ],
   "source": [
    "### avg bandwith\n",
    "plt.figure()\n",
    "for i in range(3):\n",
    "    x = [i for i in range(len(bandwidths))]\n",
    "    plt.plot(avg_bds[i, :], color='C{}'.format(i), label=expdirname[i], linewidth=3)\n",
    "    plt.xticks(x, bandwidths)\n",
    "plt.grid(True)\n",
    "plt.legend()\n",
    "plt.show()"
   ]
  },
  {
   "cell_type": "code",
   "execution_count": 117,
   "metadata": {},
   "outputs": [],
   "source": [
    "# column --> exp type\n",
    "# row --> bandwidths\n",
    "np.savetxt('part1_singleflows_loss.txt',loss_rates.T)"
   ]
  },
  {
   "cell_type": "code",
   "execution_count": 118,
   "metadata": {},
   "outputs": [],
   "source": [
    "# column --> exp type\n",
    "# row --> bandwidths\n",
    "np.savetxt('part1_singleflows_bandwidth.txt',avg_bds.T)"
   ]
  },
  {
   "cell_type": "markdown",
   "metadata": {},
   "source": [
    "#### Figure by PyGnuplot"
   ]
  },
  {
   "cell_type": "markdown",
   "metadata": {},
   "source": [
    "- Dual Flow"
   ]
  },
  {
   "cell_type": "code",
   "execution_count": 176,
   "metadata": {},
   "outputs": [],
   "source": [
    "### Plot all\n",
    "gp.c('set title \"Average Packet Loss Rate\" font \"Helveticam, 18\"; set xlabel \"bottleneck bandwidths [Mb]\"; set ylabel \"Percent [%]\"')\n",
    "gp.c('set datafile separator \"\\t ,\"')\n",
    "\n",
    "gp.c('set size ratio 0.8')\n",
    "gp.c('set grid')\n",
    "gp.c('set tics font \"Helvetica, 10\"')\n",
    "gp.c('set xrange [-0.5:7]')\n",
    "gp.c('set xtics (\"0.01\" 0, \"0.1\" 1, \"0.5\" 2, \"1\" 3, \"5\" 4, \"10\" 5, \"100\" 6 )')\n",
    "gp.c('plot   \"./part1_twoflows_loss.txt\" u 1 w lp  pt 7 ps 1.5 title \"Reno-Reno\"')\n",
    "gp.c('replot \"./part1_twoflows_loss.txt\" u 2 w lp  pt 7 ps 1.5 title \"NewReno-Reno\"')\n",
    "gp.c('replot \"./part1_twoflows_loss.txt\" u 3 w lp  pt 7 ps 1.5 title \"Vegas-Vegas\"')\n",
    "gp.c('replot \"./part1_twoflows_loss.txt\" u 4 w lp  pt 7 ps 1.5 title \"NewReno-Vegas\"')\n",
    "gp.p('part1_PacketLossRatio.ps')"
   ]
  },
  {
   "cell_type": "code",
   "execution_count": 195,
   "metadata": {},
   "outputs": [],
   "source": [
    "### Plot all\n",
    "gp.c('set title \"Average Bandwidth\" font \"Helveticam, 18\"; set xlabel \"bottleneck bandwidths [Mb]\"; set ylabel \"Percent [%]\"')\n",
    "gp.c('set datafile separator \"\\t ,\"')\n",
    "\n",
    "gp.c('set size ratio 0.8')\n",
    "gp.c('set grid')\n",
    "gp.c('set key left top')\n",
    "gp.c('set key inside')\n",
    "gp.c('set tics font \"Helvetica, 10\"')\n",
    "gp.c('set xrange [-0.5:7]')\n",
    "gp.c('set yrange [0:70000]')\n",
    "gp.c('set xtics (\"0.01\" 0, \"0.1\" 1, \"0.5\" 2, \"1\" 3, \"5\" 4, \"10\" 5, \"100\" 6 )')\n",
    "gp.c('plot   \"./part1_twoflows_bandwidth.txt\" u 1 w lp  pt 7 ps 1.5 title \"Reno-Reno\"')\n",
    "gp.c('replot \"./part1_twoflows_bandwidth.txt\" u 2 w lp  pt 7 ps 1.5 title \"NewReno-Reno\"')\n",
    "gp.c('replot \"./part1_twoflows_bandwidth.txt\" u 3 w lp  pt 7 ps 1.5 title \"Vegas-Vegas\"')\n",
    "gp.c('replot \"./part1_twoflows_bandwidth.txt\" u 4 w lp  pt 7 ps 1.5 title \"NewReno-Vegas\"')\n",
    "gp.p('part1_Bandwidth.ps')"
   ]
  },
  {
   "cell_type": "markdown",
   "metadata": {},
   "source": [
    "- Single Flow"
   ]
  },
  {
   "cell_type": "code",
   "execution_count": 185,
   "metadata": {},
   "outputs": [],
   "source": [
    "### Plot all\n",
    "gp.c('set title \"Average Packet Loss Rate\" font \"Helveticam, 18\"; set xlabel \"bottleneck bandwidths [Mb]\"; set ylabel \"Percent [%]\"')\n",
    "gp.c('set datafile separator \"\\t ,\"')\n",
    "\n",
    "gp.c('set size ratio 0.8')\n",
    "gp.c('set grid')\n",
    "gp.c('set tics font \"Helvetica, 10\"')\n",
    "gp.c('set xrange [-0.5:7]')\n",
    "gp.c('set xtics (\"0.01\" 0, \"0.1\" 1, \"0.5\" 2, \"1\" 3, \"5\" 4, \"10\" 5, \"100\" 6 )')\n",
    "gp.c('plot   \"./part1_singleflows_loss.txt\" u 1 w lp  pt 7 ps 1.5 title \"Reno\"')\n",
    "gp.c('replot \"./part1_singleflows_loss.txt\" u 2 w lp  pt 7 ps 1.5 title \"NewReno\"')\n",
    "gp.c('replot \"./part1_singleflows_loss.txt\" u 3 w lp  pt 7 ps 1.5 title \"Vegas\"')\n",
    "gp.p('part1_PacketLossRatio_single.ps')"
   ]
  },
  {
   "cell_type": "code",
   "execution_count": 197,
   "metadata": {},
   "outputs": [],
   "source": [
    "### Plot all\n",
    "gp.c('set title \"Average Bandwidth\" font \"Helveticam, 18\"; set xlabel \"bottleneck bandwidths [Mb]\"; set ylabel \"Percent [%]\"')\n",
    "gp.c('set datafile separator \"\\t ,\"')\n",
    "\n",
    "gp.c('set size ratio 0.8')\n",
    "gp.c('set grid')\n",
    "gp.c('set key left top')\n",
    "gp.c('set key inside')\n",
    "gp.c('set tics font \"Helvetica, 10\"')\n",
    "gp.c('set xrange [-0.5:7]')\n",
    "gp.c('set yrange [0:40000]')\n",
    "gp.c('set xtics (\"0.01\" 0, \"0.1\" 1, \"0.5\" 2, \"1\" 3, \"5\" 4, \"10\" 5, \"100\" 6 )')\n",
    "gp.c('plot   \"./part1_singleflows_bandwidth.txt\" u 1 w lp  pt 7 ps 1.5 title \"Reno-Reno\"')\n",
    "gp.c('replot \"./part1_singleflows_bandwidth.txt\" u 2 w lp  pt 7 ps 1.5 title \"NewReno-Reno\"')\n",
    "gp.c('replot \"./part1_singleflows_bandwidth.txt\" u 3 w lp  pt 7 ps 1.5 title \"Vegas-Vegas\"')\n",
    "gp.p('part1_Bandwidth_single.ps')"
   ]
  },
  {
   "cell_type": "markdown",
   "metadata": {},
   "source": [
    "----------------------------------------------"
   ]
  },
  {
   "cell_type": "markdown",
   "metadata": {},
   "source": [
    "# 11/12 After modification network"
   ]
  },
  {
   "cell_type": "markdown",
   "metadata": {},
   "source": [
    "-------------------\n",
    "### Part 1\n",
    "\n",
    "#### 1.1\n",
    "- reno-reno\n",
    "- newreno-reno\n",
    "- vegas-vegas\n",
    "- newreno-vegas\n",
    "\n",
    "#### 1.2\n",
    "- single-reno\n",
    "- single-newreno\n",
    "- single-vegas\n",
    "\n",
    "##### bandwidth \n",
    "0.1, 1,2,4,6,8\n",
    "\n",
    "##### Goal\n",
    "Graph the *average packet loss rate* and *the average bandwidth*"
   ]
  },
  {
   "cell_type": "markdown",
   "metadata": {},
   "source": [
    "----------------\n",
    "#### 1.1"
   ]
  },
  {
   "cell_type": "code",
   "execution_count": 251,
   "metadata": {},
   "outputs": [],
   "source": [
    "expdirname=[\n",
    "    \"reno_reno\",\n",
    "    \"newreno_reno\",\n",
    "    \"vegas_vegas\",\n",
    "    \"newreno_vegas\",\n",
    "]"
   ]
  },
  {
   "cell_type": "code",
   "execution_count": 174,
   "metadata": {},
   "outputs": [
    {
     "data": {
      "text/plain": [
       "['0.1', '1', '2', '4', '6', '8']"
      ]
     },
     "execution_count": 174,
     "metadata": {},
     "output_type": "execute_result"
    }
   ],
   "source": [
    "bandwidths = [ str(i) for i in [0.1, 1,2,4,6,8] ]\n",
    "bandwidths"
   ]
  },
  {
   "cell_type": "code",
   "execution_count": 144,
   "metadata": {},
   "outputs": [],
   "source": [
    "def compute_average_loss_bd(drops, acks, ctime=20.0, unit=1.0, nflows=1, megabits=True):\n",
    "    \"\"\"column 6: size of packet [bytes]\n",
    "    \"\"\"\n",
    "    bytes2bits = 8\n",
    "    # compute\n",
    "    loss_rate = len(drops)/len(acks)*100 \n",
    "    avg_bandwidth = acks[acks['event'] == '-']['pkt size'].sum()*unit*bytes2bits/ctime/nflows\n",
    "    if megabits:\n",
    "        avg_bandwidth = avg_bandwidth /10**6\n",
    "    return loss_rate, avg_bandwidth"
   ]
  },
  {
   "cell_type": "code",
   "execution_count": 145,
   "metadata": {},
   "outputs": [],
   "source": [
    "def get_trfile(filename):\n",
    "    \"\"\"compute average loss rate & bandwidth\n",
    "        filename : directory + filename\n",
    "        ctime : simulation computing time 10s for all test \n",
    "    \"\"\"\n",
    "    data = pd.read_table(filename,header=None,sep=' ',) \n",
    "    data.columns = ['event', 'time', 'from node', 'to node', \n",
    "              'pkt type', 'pkt size', 'flags', 'fid', \n",
    "              'src addr', 'dst addr', 'seq num', 'pkt id']\n",
    "    drops = data[data['event'] == 'd']\n",
    "    #acks = data[data['pkt type'] == 'ack']\n",
    "    datas = data[data['event'] == '-']\n",
    "    return drops, datas"
   ]
  },
  {
   "cell_type": "code",
   "execution_count": 260,
   "metadata": {},
   "outputs": [
    {
     "name": "stdout",
     "output_type": "stream",
     "text": [
      " ### END reno_reno ###\n",
      " ### END newreno_reno ###\n",
      " ### END vegas_vegas ###\n",
      " ### END newreno_vegas ###\n"
     ]
    }
   ],
   "source": [
    "loss_rates = np.zeros((len(expdirname), len(bandwidths))).astype(np.float64)\n",
    "avg_bds = np.zeros((len(expdirname), len(bandwidths))).astype(np.float64)\n",
    "for idx, iexpdir in enumerate(expdirname):\n",
    "    for jdx, ibandwidth in enumerate(bandwidths):\n",
    "        \n",
    "        # get file content\n",
    "        basefname = 'out_'+ibandwidth+'Mb.tr'\n",
    "        ifile = os.path.join('./'+iexpdir, basefname)\n",
    "        drops, acks = get_trfile(ifile)\n",
    "        \n",
    "        loss_rate, avg_bandwidth = compute_average_loss_bd(\n",
    "            drops, acks, ctime=20.0, unit=1.0, nflows=3, megabits=True\n",
    "        )\n",
    "        loss_rates[idx, jdx] = loss_rate\n",
    "        avg_bds[idx, jdx] = avg_bandwidth\n",
    "    print(\" ### END {} ###\".format(iexpdir))"
   ]
  },
  {
   "cell_type": "markdown",
   "metadata": {},
   "source": [
    "- Easy check by plt"
   ]
  },
  {
   "cell_type": "code",
   "execution_count": 261,
   "metadata": {},
   "outputs": [
    {
     "data": {
      "image/png": "[encoded data removed]",
      "text/plain": [
       "<Figure size 432x288 with 1 Axes>"
      ]
     },
     "metadata": {
      "needs_background": "light"
     },
     "output_type": "display_data"
    }
   ],
   "source": [
    "### drop rate\n",
    "plt.figure()\n",
    "for i in range(4):\n",
    "    x = [i for i in range(len(bandwidths))]\n",
    "    plt.plot(loss_rates[i, :], color='C{}'.format(i), label=expdirname[i], linewidth=3)\n",
    "    plt.xticks(x, bandwidths)\n",
    "plt.grid(True)\n",
    "plt.legend()\n",
    "plt.show()"
   ]
  },
  {
   "cell_type": "code",
   "execution_count": 264,
   "metadata": {},
   "outputs": [
    {
     "data": {
      "image/png": "[encoded data removed]",
      "text/plain": [
       "<Figure size 432x288 with 1 Axes>"
      ]
     },
     "metadata": {
      "needs_background": "light"
     },
     "output_type": "display_data"
    }
   ],
   "source": [
    "### avg bandwith\n",
    "plt.figure()\n",
    "for i in range(4):\n",
    "    x = [i for i in range(len(bandwidths))]\n",
    "    plt.plot(avg_bds[i, :], color='C{}'.format(i), label=expdirname[i], linewidth=3)\n",
    "    plt.xticks(x, bandwidths)\n",
    "plt.grid(True)\n",
    "plt.legend()\n",
    "plt.show()"
   ]
  },
  {
   "cell_type": "code",
   "execution_count": 265,
   "metadata": {},
   "outputs": [],
   "source": [
    "# column --> exp type\n",
    "# row --> bandwidths\n",
    "np.savetxt('part1_twoflows_loss.txt',loss_rates.T)"
   ]
  },
  {
   "cell_type": "code",
   "execution_count": 266,
   "metadata": {},
   "outputs": [],
   "source": [
    "# column --> exp type\n",
    "# row --> bandwidths\n",
    "np.savetxt('part1_twoflows_bandwidth.txt',avg_bds.T)"
   ]
  },
  {
   "cell_type": "markdown",
   "metadata": {},
   "source": [
    "#### 1.2"
   ]
  },
  {
   "cell_type": "code",
   "execution_count": 172,
   "metadata": {},
   "outputs": [],
   "source": [
    "expdirname=[\n",
    "    \"single_reno\",\n",
    "    \"single_newreno\",\n",
    "    \"single_vegas\",\n",
    "]"
   ]
  },
  {
   "cell_type": "code",
   "execution_count": 175,
   "metadata": {},
   "outputs": [
    {
     "name": "stdout",
     "output_type": "stream",
     "text": [
      " ### END single_reno ###\n",
      " ### END single_newreno ###\n",
      " ### END single_vegas ###\n"
     ]
    }
   ],
   "source": [
    "loss_rates = np.zeros((len(expdirname), len(bandwidths))).astype(np.float64)\n",
    "avg_bds = np.zeros((len(expdirname), len(bandwidths))).astype(np.float64)\n",
    "for idx, iexpdir in enumerate(expdirname):\n",
    "    for jdx, ibandwidth in enumerate(bandwidths):\n",
    "             \n",
    "        # get file content\n",
    "        basefname = 'out_'+ibandwidth+'Mb.tr'\n",
    "        ifile = os.path.join('./'+iexpdir, basefname)\n",
    "        drops, acks = get_trfile(ifile)\n",
    "        \n",
    "        loss_rate, avg_bandwidth = compute_average_loss_bd(\n",
    "            drops, acks, ctime=20.0, unit=1.0, nflows=3, megabits=True\n",
    "        )\n",
    "        loss_rates[idx, jdx] = loss_rate\n",
    "        avg_bds[idx, jdx] = avg_bandwidth\n",
    "    print(\" ### END {} ###\".format(iexpdir))"
   ]
  },
  {
   "cell_type": "code",
   "execution_count": 176,
   "metadata": {},
   "outputs": [
    {
     "data": {
      "image/png": "[encoded data removed]",
      "text/plain": [
       "<Figure size 432x288 with 1 Axes>"
      ]
     },
     "metadata": {
      "needs_background": "light"
     },
     "output_type": "display_data"
    }
   ],
   "source": [
    "### drop rate\n",
    "plt.figure()\n",
    "for i in range(len(expdirname)):\n",
    "    x = [i for i in range(len(bandwidths))]\n",
    "    plt.plot(loss_rates[i, :], color='C{}'.format(i), label=expdirname[i], linewidth=3)\n",
    "    plt.xticks(x, bandwidths)\n",
    "plt.grid(True)\n",
    "plt.legend()\n",
    "plt.show()"
   ]
  },
  {
   "cell_type": "code",
   "execution_count": 270,
   "metadata": {},
   "outputs": [
    {
     "data": {
      "image/png": "[encoded data removed]",
      "text/plain": [
       "<Figure size 432x288 with 1 Axes>"
      ]
     },
     "metadata": {
      "needs_background": "light"
     },
     "output_type": "display_data"
    }
   ],
   "source": [
    "### avg bandwith\n",
    "plt.figure()\n",
    "for i in range(len(expdirname)):\n",
    "    x = [i for i in range(len(bandwidths))]\n",
    "    plt.plot(avg_bds[i, :], color='C{}'.format(i), label=expdirname[i], linewidth=3)\n",
    "    plt.xticks(x, bandwidths)\n",
    "plt.grid(True)\n",
    "plt.legend()\n",
    "plt.show()"
   ]
  },
  {
   "cell_type": "code",
   "execution_count": 454,
   "metadata": {},
   "outputs": [],
   "source": [
    "# column --> exp type\n",
    "# row --> bandwidths\n",
    "np.savetxt('part1_singleflows_loss.txt',loss_rates.T)"
   ]
  },
  {
   "cell_type": "code",
   "execution_count": 455,
   "metadata": {},
   "outputs": [],
   "source": [
    "# column --> exp type\n",
    "# row --> bandwidths\n",
    "np.savetxt('part1_singleflows_bandwidth.txt',avg_bds.T)"
   ]
  },
  {
   "cell_type": "markdown",
   "metadata": {},
   "source": [
    "- Dual TCPs"
   ]
  },
  {
   "cell_type": "code",
   "execution_count": 456,
   "metadata": {},
   "outputs": [],
   "source": [
    "### Plot all\n",
    "gp.figure()\n",
    "gp.c('set output \"/dev/null\"' )\n",
    "\n",
    "gp.c('set title \"Average Packet Loss Rate\" font \"Helveticam, 18\"; set xlabel \"Bottleneck Bandwidths [Mb]\"; set ylabel \"Percent [%]\"')\n",
    "gp.c('set datafile separator \"\\t ,\"')\n",
    "\n",
    "gp.c('set autoscale x')\n",
    "gp.c('set size ratio 0.8')\n",
    "gp.c('set key left top')\n",
    "gp.c('set grid')\n",
    "gp.c('set tics font \"Helvetica, 10\"')\n",
    "gp.c('set xrange [-0.5:6]')\n",
    "gp.c('set xtics (\"0.1\" 0, \"1\" 1, \"2\" 2, \"4\" 3, \"6\" 4, \"8\" 5 )')\n",
    "gp.c('plot   \"./part1_twoflows_loss.txt\" u 1 w lp  pt 7 ps 1.5 title \"Reno-Reno\"')\n",
    "gp.c('replot \"./part1_twoflows_loss.txt\" u 2 w lp  pt 7 ps 1.5 title \"NewReno-Reno\"')\n",
    "gp.c('replot \"./part1_twoflows_loss.txt\" u 3 w lp  pt 7 ps 1.5 title \"Vegas-Vegas\"')\n",
    "gp.c('replot \"./part1_twoflows_loss.txt\" u 4 w lp  pt 7 ps 1.5 title \"NewReno-Vegas\"')\n",
    "gp.p('./fig/part1_PacketLossRatio.eps')"
   ]
  },
  {
   "cell_type": "code",
   "execution_count": 177,
   "metadata": {},
   "outputs": [],
   "source": [
    "### Plot all\n",
    "gp.figure()\n",
    "gp.c('set title \"Average Bandwidth\" font \"Helveticam, 18\"; set xlabel \"Bottleneck Bandwidths [Mb]\"; set ylabel \"Avg. Bandwidth [Mb]\"')\n",
    "gp.c('set datafile separator \"\\t ,\"')\n",
    "\n",
    "gp.c('set size ratio 0.8')\n",
    "gp.c('set grid')\n",
    "gp.c('set key right top')\n",
    "gp.c('set key inside')\n",
    "gp.c('set tics font \"Helvetica, 10\"')\n",
    "gp.c('set xrange [-0.5:6]')\n",
    "gp.c('set xtics (\"0.1\" 0, \"1\" 1, \"2\" 2, \"4\" 3, \"6\" 4, \"8\" 5 )')\n",
    "gp.c('plot   \"./part1_twoflows_bandwidth.txt\" u 1 w lp  pt 7 ps 1.5 title \"Reno-Reno\"')\n",
    "gp.c('replot \"./part1_twoflows_bandwidth.txt\" u 2 w lp  pt 7 ps 1.5 title \"NewReno-Reno\"')\n",
    "gp.c('replot \"./part1_twoflows_bandwidth.txt\" u 3 w lp  pt 7 ps 1.5 title \"Vegas-Vegas\"')\n",
    "gp.c('replot \"./part1_twoflows_bandwidth.txt\" u 4 w lp  pt 7 ps 1.5 title \"NewReno-Vegas\"')\n",
    "gp.p('./fig/part1_Bandwidth.eps')"
   ]
  },
  {
   "cell_type": "markdown",
   "metadata": {},
   "source": [
    "- Single TCP"
   ]
  },
  {
   "cell_type": "code",
   "execution_count": 178,
   "metadata": {},
   "outputs": [],
   "source": [
    "### Plot all\n",
    "gp.figure()\n",
    "gp.c('set title \"Average Packet Loss Rate\" font \"Helveticam, 18\"; set xlabel \"Bottleneck Bandwidths [Mb]\"; set ylabel \"Percent [%]\"')\n",
    "gp.c('set datafile separator \"\\t ,\"')\n",
    "\n",
    "gp.c('set size ratio 0.8')\n",
    "gp.c('set grid')\n",
    "gp.c('set key left top')\n",
    "gp.c('set key inside')\n",
    "gp.c('set tics font \"Helvetica, 10\"')\n",
    "gp.c('set xrange [-0.5:6]')\n",
    "gp.c('set xtics (\"0.1\" 0, \"1\" 1, \"2\" 2, \"4\" 3, \"6\" 4, \"8\" 5 )')\n",
    "gp.c('plot   \"./part1_singleflows_loss.txt\" u 1 w lp  pt 7 ps 1.5 title \"Reno\"')\n",
    "gp.c('replot \"./part1_singleflows_loss.txt\" u 2 w lp  pt 7 ps 1.5 title \"NewReno\"')\n",
    "gp.c('replot \"./part1_singleflows_loss.txt\" u 3 w lp  pt 7 ps 1.5 title \"Vegas\"')\n",
    "gp.p('part1_PacketLossRatio_single.eps')"
   ]
  },
  {
   "cell_type": "code",
   "execution_count": 179,
   "metadata": {},
   "outputs": [],
   "source": [
    "### Plot all\n",
    "gp.c('set title \"Average Bandwidth\" font \"Helveticam, 18\"; set xlabel \"Bottleneck Bandwidths [Mb]\"; set ylabel \"Avg. Bandwidth [Mb]\"')\n",
    "gp.c('set datafile separator \"\\t ,\"')\n",
    "\n",
    "gp.c('set size ratio 0.8')\n",
    "gp.c('set grid')\n",
    "gp.c('set key right top')\n",
    "gp.c('set key inside')\n",
    "gp.c('set tics font \"Helvetica, 10\"')\n",
    "gp.c('set xrange [-0.5:6]')\n",
    "gp.c('set xtics (\"0.1\" 0, \"1\" 1, \"2\" 2, \"4\" 3, \"6\" 4, \"8\" 5 )')\n",
    "gp.c('plot   \"./part1_singleflows_bandwidth.txt\" u 1 w lp  pt 7 ps 1.5 title \"Reno\"')\n",
    "gp.c('replot \"./part1_singleflows_bandwidth.txt\" u 2 w lp  pt 7 ps 1.5 title \"NewReno\"')\n",
    "gp.c('replot \"./part1_singleflows_bandwidth.txt\" u 3 w lp  pt 7 ps 1.5 title \"Vegas\"')\n",
    "gp.p('part1_Bandwidth_single.eps')"
   ]
  },
  {
   "cell_type": "markdown",
   "metadata": {},
   "source": [
    "----------------\n",
    "### Part 2\n",
    "\n",
    "#### 2.1\n",
    "- reno-droptail\n",
    "- reno-red\n",
    "- sack1-droptail\n",
    "- sack1-red\n",
    "\n",
    "#### 2.2\n",
    "- three UDP flow\n",
    "- Goal 1 : Plot the throughput of all three flows.\n",
    "- Goal 2 : Compute the average packet latency (end-to-end delay) for the packets for different flows  \n",
    "- Goal 3 : plot Goal 2 result\n",
    "##### Goal\n",
    "influence of the queuing discipline "
   ]
  },
  {
   "cell_type": "markdown",
   "metadata": {},
   "source": [
    "-------------\n",
    "#### 2.1 \n",
    "- Avg. latency and bandwidth\n",
    "- Cwnd figure"
   ]
  },
  {
   "cell_type": "code",
   "execution_count": 138,
   "metadata": {},
   "outputs": [],
   "source": [
    "tcps = ['Reno', 'Sack1']\n",
    "queues = ['DropTail', 'RED']"
   ]
  },
  {
   "cell_type": "code",
   "execution_count": 139,
   "metadata": {},
   "outputs": [],
   "source": [
    "expdir='/home/tkurihana/class/networking/homework/practice/hw_test2/question1/DropOrRed'"
   ]
  },
  {
   "cell_type": "code",
   "execution_count": 146,
   "metadata": {},
   "outputs": [
    {
     "name": "stdout",
     "output_type": "stream",
     "text": [
      " ### END Reno DropTail ###\n",
      " ### END Reno RED ###\n",
      " ### END Sack1 DropTail ###\n",
      " ### END Sack1 RED ###\n"
     ]
    }
   ],
   "source": [
    "loss_rates = np.zeros((len(tcps), len(queues))).astype(np.float64)\n",
    "avg_bds = np.zeros((len(tcps), len(queues))).astype(np.float64)\n",
    "for idx, itcp in enumerate(tcps):\n",
    "    for jdx, iq in enumerate(queues):\n",
    "        \n",
    "        # get file content\n",
    "        #basefname = 'out_'+ibandwidth+'Mb.tr'\n",
    "        #ifile = os.path.join('./'+iexpdir, basefname)\n",
    "        basefname='out_'+itcp+'_'+iq+'.tr'\n",
    "        ifile = os.path.join(expdir, basefname)\n",
    "        drops, acks = get_trfile(ifile)\n",
    "        \n",
    "        loss_rate, avg_bandwidth = compute_average_loss_bd(\n",
    "            drops, acks, ctime=20.0, unit=1.0, nflows=2, megabits=True\n",
    "        )\n",
    "        loss_rates[idx, jdx] = loss_rate\n",
    "        avg_bds[idx, jdx] = avg_bandwidth\n",
    "        print(\" ### END {} {} ###\".format(itcp, iq))"
   ]
  },
  {
   "cell_type": "code",
   "execution_count": 147,
   "metadata": {},
   "outputs": [
    {
     "data": {
      "text/plain": [
       "(2, 2)"
      ]
     },
     "execution_count": 147,
     "metadata": {},
     "output_type": "execute_result"
    }
   ],
   "source": [
    "loss_rates.shape"
   ]
  },
  {
   "cell_type": "code",
   "execution_count": 148,
   "metadata": {},
   "outputs": [],
   "source": [
    "expcomb = []\n",
    "for idx, itcp in enumerate(tcps):\n",
    "    for jdx, iq in enumerate(queues):\n",
    "        expcomb +=[itcp+'-'+iq]"
   ]
  },
  {
   "cell_type": "code",
   "execution_count": 149,
   "metadata": {},
   "outputs": [
    {
     "data": {
      "text/plain": [
       "['Reno-DropTail', 'Reno-RED', 'Sack1-DropTail', 'Sack1-RED']"
      ]
     },
     "execution_count": 149,
     "metadata": {},
     "output_type": "execute_result"
    }
   ],
   "source": [
    "expcomb"
   ]
  },
  {
   "cell_type": "code",
   "execution_count": 150,
   "metadata": {},
   "outputs": [
    {
     "data": {
      "text/plain": [
       "array([[0.3694995 , 0.38129973],\n",
       "       [0.34031414, 0.23609472]])"
      ]
     },
     "execution_count": 150,
     "metadata": {},
     "output_type": "execute_result"
    }
   ],
   "source": [
    "loss_rates"
   ]
  },
  {
   "cell_type": "code",
   "execution_count": 151,
   "metadata": {},
   "outputs": [
    {
     "data": {
      "image/png": "[encoded data removed]",
      "text/plain": [
       "<Figure size 432x288 with 1 Axes>"
      ]
     },
     "metadata": {
      "needs_background": "light"
     },
     "output_type": "display_data"
    }
   ],
   "source": [
    "### drop rate\n",
    "plt.figure()\n",
    "idx = 0\n",
    "for i in range(2):\n",
    "    for j in range(2):\n",
    "        plt.bar([idx],loss_rates[i, j], color='C{}'.format(idx), label=expcomb[idx], linewidth=3)\n",
    "    \n",
    "        idx +=1\n",
    "plt.xticks([i for i  in range(len(expcomb))], expcomb)\n",
    "plt.grid(True)\n",
    "plt.legend()\n",
    "plt.show()"
   ]
  },
  {
   "cell_type": "code",
   "execution_count": 152,
   "metadata": {},
   "outputs": [
    {
     "data": {
      "image/png": "[encoded data removed]",
      "text/plain": [
       "<Figure size 432x288 with 1 Axes>"
      ]
     },
     "metadata": {
      "needs_background": "light"
     },
     "output_type": "display_data"
    }
   ],
   "source": [
    "### band rate\n",
    "plt.figure()\n",
    "idx = 0\n",
    "for i in range(2):\n",
    "    for j in range(2):\n",
    "        plt.bar([idx],avg_bds[i, j], color='C{}'.format(idx), label=expcomb[idx], linewidth=3)\n",
    "    \n",
    "        idx +=1\n",
    "plt.xticks([i for i  in range(len(expcomb))], expcomb)\n",
    "plt.grid(True)\n",
    "plt.legend()\n",
    "plt.show()"
   ]
  },
  {
   "cell_type": "code",
   "execution_count": 364,
   "metadata": {},
   "outputs": [],
   "source": [
    "#x =np.array(['Reno-DropTail', 'Reno-RED', 'SACK-DropTail', 'SACK-RED']).reshape(1,4)"
   ]
  },
  {
   "cell_type": "code",
   "execution_count": 153,
   "metadata": {},
   "outputs": [],
   "source": [
    "x = np.array([i for i in range(4)]).reshape(1,4)"
   ]
  },
  {
   "cell_type": "code",
   "execution_count": 154,
   "metadata": {},
   "outputs": [],
   "source": [
    "# concate\n",
    "sloss_rate = loss_rates.ravel()\n",
    "sloss_rate = sloss_rate.reshape(1,4)\n",
    "sloss = np.concatenate([x, sloss_rate], axis=0)"
   ]
  },
  {
   "cell_type": "code",
   "execution_count": 155,
   "metadata": {},
   "outputs": [],
   "source": [
    "# concate\n",
    "savg_bds = avg_bds.ravel()\n",
    "savg_bds = savg_bds.reshape(1,4)\n",
    "sbds = np.concatenate([x, savg_bds], axis=0)"
   ]
  },
  {
   "cell_type": "code",
   "execution_count": 156,
   "metadata": {},
   "outputs": [],
   "source": [
    "# save loss rate and avg bandwidth\n",
    "np.savetxt('part2_loss_sim1.txt',sloss.T)"
   ]
  },
  {
   "cell_type": "code",
   "execution_count": 157,
   "metadata": {},
   "outputs": [],
   "source": [
    "# save loss rate and avg bandwidth\n",
    "np.savetxt('part2_avgbd_sim1.txt',sbds.T)"
   ]
  },
  {
   "cell_type": "markdown",
   "metadata": {},
   "source": [
    "gnuplot above figures"
   ]
  },
  {
   "cell_type": "code",
   "execution_count": 183,
   "metadata": {},
   "outputs": [],
   "source": [
    "gp.figure()\n",
    "#gp.c('red = \"#FF0000\"; green = \"#00FF00\"; blue = \"#0000FF\"; skyblue = \"#87CEEB\";')\n",
    "gp.c('set title \"Average Packet Loss Rate\" font \"Helveticam, 18\"; set xlabel \"TCP - Queue\"; set ylabel \"Percent [%]\"')\n",
    "gp.c('set style line 1 lc rgb \"red\"')\n",
    "gp.c('set style line 2 lc rgb \"blue\"')\n",
    "gp.c('set style line 3 lc rgb \"green\"')\n",
    "gp.c('set style line 4 lc rgb \"skyblue\"')\n",
    "gp.c('set style fill solid')\n",
    "gp.c('set boxwidth 0.8')\n",
    "#gp.c('set key left top')\n",
    "#gp.c('set key inside')\n",
    "gp.c('set key off')\n",
    "gp.c('set tics font \"Helvetica, 10\"')\n",
    "gp.c('set grid ytics')\n",
    "gp.c('set xrange[-0.5:3.5]')\n",
    "gp.c('set yrange[ 0.0:0.4]')\n",
    "gp.c('set xtics 0,1,4')\n",
    "gp.c('set xtics (\"Reno-DropTail\" 0, \"Reno-RED\" 1, \"SACK-DropTail\" 2, \"SACK-RED\" 3)')\n",
    "gp.c('plot \"./part2_loss_sim1.txt\"   every ::0 ::0 using 1:2 with boxes ls 1')\n",
    "gp.c('replot \"./part2_loss_sim1.txt\" every ::1 ::1 using 1:2 with boxes ls 2')\n",
    "gp.c('replot \"./part2_loss_sim1.txt\" every ::2 ::2 using 1:2 with boxes ls 3')\n",
    "gp.c('replot \"./part2_loss_sim1.txt\" every ::3 ::3 using 1:2 with boxes ls 4')\n",
    "gp.p('/home/tkurihana/class/networking/homework/practice/hw_test2/question1/DropOrRed/avg_loss.eps')"
   ]
  },
  {
   "cell_type": "code",
   "execution_count": 184,
   "metadata": {},
   "outputs": [],
   "source": [
    "gp.figure()\n",
    "#gp.c('red = \"#FF0000\"; green = \"#00FF00\"; blue = \"#0000FF\"; skyblue = \"#87CEEB\";')\n",
    "gp.c('set title \"Average Bandwidth\" font \"Helveticam, 18\"; set xlabel \"TCP - Queue\"; set ylabel \"Avg. Bandwidth [Mb]\"')\n",
    "gp.c('set style line 1 lc rgb \"red\"')\n",
    "gp.c('set style line 2 lc rgb \"blue\"')\n",
    "gp.c('set style line 3 lc rgb \"green\"')\n",
    "gp.c('set style line 4 lc rgb \"skyblue\"')\n",
    "gp.c('set style fill solid')\n",
    "gp.c('set boxwidth 0.8')\n",
    "#gp.c('set key left top')\n",
    "#gp.c('set key inside')\n",
    "gp.c('set key off')\n",
    "gp.c('set tics font \"Helvetica, 10\"')\n",
    "gp.c('set grid ytics')\n",
    "gp.c('set xrange[-0.5:3.5]')\n",
    "gp.c('set yrange[ 0.0:2.1]')\n",
    "gp.c('set xtics 0,1,4')\n",
    "gp.c('set xtics (\"Reno-DropTail\" 0, \"Reno-RED\" 1, \"SACK-DropTail\" 2, \"SACK-RED\" 3)')\n",
    "gp.c('plot \"./part2_avgbd_sim1.txt\"   every ::0 ::0 using 1:2 with boxes ls 1')\n",
    "gp.c('replot \"./part2_avgbd_sim1.txt\" every ::1 ::1 using 1:2 with boxes ls 2')\n",
    "gp.c('replot \"./part2_avgbd_sim1.txt\" every ::2 ::2 using 1:2 with boxes ls 3')\n",
    "gp.c('replot \"./part2_avgbd_sim1.txt\" every ::3 ::3 using 1:2 with boxes ls 4')\n",
    "gp.p('/home/tkurihana/class/networking/homework/practice/hw_test2/question1/DropOrRed/avg_bandwidth.eps')"
   ]
  },
  {
   "cell_type": "markdown",
   "metadata": {},
   "source": [
    "##### Congenstion window"
   ]
  },
  {
   "cell_type": "code",
   "execution_count": 163,
   "metadata": {},
   "outputs": [],
   "source": [
    "def compute_cwnd_fn(datadir, fname, ofname):\n",
    "    #datadir='/home/tkurihana/class/networking/homework/practice/hw_test2/question1/DropOrRed'\n",
    "    node1 = pd.read_table(os.path.join(datadir, fname),header=None,sep=\"\\s*\", error_bad_lines=False)\n",
    "    node1.drop(node1.columns[[ i for i in range(0,30,2)]], axis=1, inplace=True) # adjust redundant column\n",
    "    node1.columns= [\n",
    "        \"time\", \"saddr\", \"sport\", \"daddr\", \"dport\", \"maxseq\", \"hiack\", \"seqno\", \n",
    "        \"cwnd\", \"ssthresh\", \"dupacks\", \"rtt\", \"srtt\", \"rttvar\", \"bkoff\"\n",
    "    ]\n",
    "    out1 = pd.merge(node1['time'], node1['cwnd'], left_index=True, right_index=True)\n",
    "    ### Save to tmp file as txt and draw\n",
    "    #os.remove(os.path.join(datadir+'fig', ofname))\n",
    "    out1.to_csv(os.path.join(datadir+'/fig', ofname), sep=',', header=False)\n",
    "    print(\" Tmp plot file is ready {}/{}\".format(datadir+'/fig', ofname))"
   ]
  },
  {
   "cell_type": "code",
   "execution_count": 164,
   "metadata": {},
   "outputs": [
    {
     "name": "stdout",
     "output_type": "stream",
     "text": [
      " Tmp plot file is ready /home/tkurihana/class/networking/homework/practice/hw_test2/question1/DropOrRed/fig/out_Reno_DropTail.txt\n"
     ]
    },
    {
     "name": "stderr",
     "output_type": "stream",
     "text": [
      "/home/tkurihana/.conda/envs/tf-cpu/lib/python3.6/site-packages/ipykernel_launcher.py:3: ParserWarning: Falling back to the 'python' engine because the 'c' engine does not support regex separators (separators > 1 char and different from '\\s+' are interpreted as regex); you can avoid this warning by specifying engine='python'.\n",
      "  This is separate from the ipykernel package so we can avoid doing imports until\n",
      "/home/tkurihana/.conda/envs/tf-cpu/lib/python3.6/site-packages/pandas/io/parsers.py:2455: FutureWarning: split() requires a non-empty pattern match.\n",
      "  yield pat.split(line.strip())\n",
      "/home/tkurihana/.conda/envs/tf-cpu/lib/python3.6/site-packages/pandas/io/parsers.py:2458: FutureWarning: split() requires a non-empty pattern match.\n",
      "  yield pat.split(line.strip())\n"
     ]
    }
   ],
   "source": [
    "datadir='/home/tkurihana/class/networking/homework/practice/hw_test2/question1/DropOrRed'\n",
    "fname='out_Reno_DropTail.tcp'\n",
    "ofname='out_Reno_DropTail.txt'\n",
    "compute_cwnd_fn(datadir, fname, ofname)"
   ]
  },
  {
   "cell_type": "code",
   "execution_count": 165,
   "metadata": {},
   "outputs": [],
   "source": [
    "### Plot all\n",
    "gp.figure()\n",
    "gp.c('set title \"Congestion Window\"; set xlabel \"time [sec]\"; set ylabel; \"# of packets\"')\n",
    "gp.c('set size ratio 0.8')\n",
    "gp.c('set grid')\n",
    "gp.c('set key right top')\n",
    "gp.c('set key inside')\n",
    "gp.c('set tics font \"Helvetica, 10\"')\n",
    "gp.c('set datafile separator \",\"')\n",
    "gp.c('set autoscale y')\n",
    "gp.c('set autoscale x')\n",
    "gp.c('plot \"/home/tkurihana/class/networking/homework/practice/hw_test2/question1/DropOrRed/fig/out_Reno_DropTail.txt\" using 2:3 w p title \"cwnd\"')\n",
    "gp.p('/home/tkurihana/class/networking/homework/practice/hw_test2/question1/DropOrRed/fig/out_Reno_DropTail.eps')"
   ]
  },
  {
   "cell_type": "code",
   "execution_count": 166,
   "metadata": {},
   "outputs": [
    {
     "name": "stdout",
     "output_type": "stream",
     "text": [
      " Tmp plot file is ready /home/tkurihana/class/networking/homework/practice/hw_test2/question1/DropOrRed/fig/out_Reno_RED.txt\n"
     ]
    },
    {
     "name": "stderr",
     "output_type": "stream",
     "text": [
      "/home/tkurihana/.conda/envs/tf-cpu/lib/python3.6/site-packages/ipykernel_launcher.py:3: ParserWarning: Falling back to the 'python' engine because the 'c' engine does not support regex separators (separators > 1 char and different from '\\s+' are interpreted as regex); you can avoid this warning by specifying engine='python'.\n",
      "  This is separate from the ipykernel package so we can avoid doing imports until\n",
      "/home/tkurihana/.conda/envs/tf-cpu/lib/python3.6/site-packages/pandas/io/parsers.py:2455: FutureWarning: split() requires a non-empty pattern match.\n",
      "  yield pat.split(line.strip())\n",
      "/home/tkurihana/.conda/envs/tf-cpu/lib/python3.6/site-packages/pandas/io/parsers.py:2458: FutureWarning: split() requires a non-empty pattern match.\n",
      "  yield pat.split(line.strip())\n"
     ]
    }
   ],
   "source": [
    "bname=\"out_Reno_RED\"\n",
    "datadir='/home/tkurihana/class/networking/homework/practice/hw_test2/question1/DropOrRed'\n",
    "fname=bname+'.tcp'\n",
    "ofname=bname+'.txt'\n",
    "compute_cwnd_fn(datadir, fname, ofname)"
   ]
  },
  {
   "cell_type": "code",
   "execution_count": 167,
   "metadata": {},
   "outputs": [],
   "source": [
    "### Plot all\n",
    "gp.figure()\n",
    "gp.c('set title \"Congestion Window\"; set xlabel \"time [sec]\"; set ylabel; \"# of packets\"')\n",
    "gp.c('set size ratio 0.8')\n",
    "gp.c('set grid')\n",
    "gp.c('set key right top')\n",
    "gp.c('set key inside')\n",
    "gp.c('set tics font \"Helvetica, 10\"')\n",
    "gp.c('set datafile separator \",\"')\n",
    "gp.c('set autoscale y')\n",
    "gp.c('set autoscale x')\n",
    "gp.c('plot \"/home/tkurihana/class/networking/homework/practice/hw_test2/question1/DropOrRed/fig/out_Reno_RED.txt\" using 2:3 w p title \"cwnd\"')\n",
    "gp.p('/home/tkurihana/class/networking/homework/practice/hw_test2/question1/DropOrRed/fig/out_Reno_RED.eps')"
   ]
  },
  {
   "cell_type": "code",
   "execution_count": 168,
   "metadata": {},
   "outputs": [
    {
     "name": "stdout",
     "output_type": "stream",
     "text": [
      " Tmp plot file is ready /home/tkurihana/class/networking/homework/practice/hw_test2/question1/DropOrRed/fig/out_Sack1_DropTail.txt\n"
     ]
    },
    {
     "name": "stderr",
     "output_type": "stream",
     "text": [
      "/home/tkurihana/.conda/envs/tf-cpu/lib/python3.6/site-packages/ipykernel_launcher.py:3: ParserWarning: Falling back to the 'python' engine because the 'c' engine does not support regex separators (separators > 1 char and different from '\\s+' are interpreted as regex); you can avoid this warning by specifying engine='python'.\n",
      "  This is separate from the ipykernel package so we can avoid doing imports until\n",
      "/home/tkurihana/.conda/envs/tf-cpu/lib/python3.6/site-packages/pandas/io/parsers.py:2455: FutureWarning: split() requires a non-empty pattern match.\n",
      "  yield pat.split(line.strip())\n",
      "/home/tkurihana/.conda/envs/tf-cpu/lib/python3.6/site-packages/pandas/io/parsers.py:2458: FutureWarning: split() requires a non-empty pattern match.\n",
      "  yield pat.split(line.strip())\n"
     ]
    }
   ],
   "source": [
    "bname=\"out_Sack1_DropTail\"\n",
    "datadir='/home/tkurihana/class/networking/homework/practice/hw_test2/question1/DropOrRed'\n",
    "fname=bname+'.tcp'\n",
    "ofname=bname+'.txt'\n",
    "compute_cwnd_fn(datadir, fname, ofname)"
   ]
  },
  {
   "cell_type": "code",
   "execution_count": 169,
   "metadata": {},
   "outputs": [],
   "source": [
    "### Plot all\n",
    "gp.figure()\n",
    "gp.c('set title \"Congestion Window\"; set xlabel \"time [sec]\"; set ylabel; \"# of packets\"')\n",
    "gp.c('set size ratio 0.8')\n",
    "gp.c('set grid')\n",
    "gp.c('set key right top')\n",
    "gp.c('set key inside')\n",
    "gp.c('set tics font \"Helvetica, 10\"')\n",
    "gp.c('set datafile separator \",\"')\n",
    "gp.c('set autoscale y')\n",
    "gp.c('set autoscale x')\n",
    "gp.c('plot \"/home/tkurihana/class/networking/homework/practice/hw_test2/question1/DropOrRed/fig/out_Sack1_DropTail.txt\" using 2:3 w p title \"cwnd\"')\n",
    "gp.p('/home/tkurihana/class/networking/homework/practice/hw_test2/question1/DropOrRed/fig/out_Sack1_DropTail.eps')"
   ]
  },
  {
   "cell_type": "code",
   "execution_count": 170,
   "metadata": {},
   "outputs": [
    {
     "name": "stdout",
     "output_type": "stream",
     "text": [
      " Tmp plot file is ready /home/tkurihana/class/networking/homework/practice/hw_test2/question1/DropOrRed/fig/out_Sack1_RED.txt\n"
     ]
    },
    {
     "name": "stderr",
     "output_type": "stream",
     "text": [
      "/home/tkurihana/.conda/envs/tf-cpu/lib/python3.6/site-packages/ipykernel_launcher.py:3: ParserWarning: Falling back to the 'python' engine because the 'c' engine does not support regex separators (separators > 1 char and different from '\\s+' are interpreted as regex); you can avoid this warning by specifying engine='python'.\n",
      "  This is separate from the ipykernel package so we can avoid doing imports until\n",
      "/home/tkurihana/.conda/envs/tf-cpu/lib/python3.6/site-packages/pandas/io/parsers.py:2455: FutureWarning: split() requires a non-empty pattern match.\n",
      "  yield pat.split(line.strip())\n",
      "/home/tkurihana/.conda/envs/tf-cpu/lib/python3.6/site-packages/pandas/io/parsers.py:2458: FutureWarning: split() requires a non-empty pattern match.\n",
      "  yield pat.split(line.strip())\n"
     ]
    }
   ],
   "source": [
    "bname=\"out_Sack1_RED\"\n",
    "datadir='/home/tkurihana/class/networking/homework/practice/hw_test2/question1/DropOrRed'\n",
    "fname=bname+'.tcp'\n",
    "ofname=bname+'.txt'\n",
    "compute_cwnd_fn(datadir, fname, ofname)"
   ]
  },
  {
   "cell_type": "code",
   "execution_count": 171,
   "metadata": {},
   "outputs": [],
   "source": [
    "### Plot all\n",
    "gp.figure()\n",
    "gp.c('set title \"Congestion Window\"; set xlabel \"time [sec]\"; set ylabel; \"# of packets\"')\n",
    "gp.c('set size ratio 0.8')\n",
    "gp.c('set grid')\n",
    "gp.c('set key right top')\n",
    "gp.c('set key inside')\n",
    "gp.c('set tics font \"Helvetica, 10\"')\n",
    "gp.c('set datafile separator \",\"')\n",
    "gp.c('set autoscale y')\n",
    "gp.c('set autoscale x')\n",
    "gp.c('plot \"/home/tkurihana/class/networking/homework/practice/hw_test2/question1/DropOrRed/fig/out_Sack1_RED.txt\" using 2:3 w p title \"cwnd\"')\n",
    "gp.p('/home/tkurihana/class/networking/homework/practice/hw_test2/question1/DropOrRed/fig/out_Sack1_RED.eps')"
   ]
  },
  {
   "cell_type": "markdown",
   "metadata": {},
   "source": [
    "##### Part 2"
   ]
  },
  {
   "cell_type": "code",
   "execution_count": 5,
   "metadata": {},
   "outputs": [],
   "source": [
    "### write fn to compute throughput\n",
    "def compute_throughput(df, ctime=20.0, megabits=True, send=0, recv=1):\n",
    "    pairs = df[(df['src addr'] == send) & (df['dst addr'] == recv)]\n",
    "    th = pairs['pkt size'].sum()/ctime  # unit; bytes\n",
    "    if megabits:\n",
    "        th = th * 8 / 100000\n",
    "    return th"
   ]
  },
  {
   "cell_type": "code",
   "execution_count": 185,
   "metadata": {},
   "outputs": [],
   "source": [
    "### write fn to compute throughput\n",
    "def compute_bandwidth(df, ctime=20.0, megabits=True, send=0, recv=1):\n",
    "    bandwidth = df[df['event'] == '-']['pkt size'].sum()/ctime\n",
    "    if megabits:\n",
    "        bandwidth = bandwidth * 8 / 10**6\n",
    "    return bandwidth"
   ]
  },
  {
   "cell_type": "code",
   "execution_count": 17,
   "metadata": {},
   "outputs": [],
   "source": [
    "#end to enf latency\n",
    "def original_compute_latency(df_send, df_arrv, send=0, recv=1):\n",
    "    \"\"\"Compute end 2 end (e2e) latency\n",
    "    \"\"\"\n",
    "    latency = []\n",
    "    max_pkid = df_arrv['pkt id'].max()\n",
    "    #print(max_pkid)\n",
    "    for ipkid in range(0,max_pkid+1,1):\n",
    "        send_time = df_send[df_send['pkt id'] == ipkid]['time'].min()\n",
    "        arrv_time = df_arrv[df_arrv['pkt id'] == ipkid]['time'].max()\n",
    "        #print(send_time, arrv_time)\n",
    "        latency.append(arrv_time-send_time)\n",
    "    return np.mean(latency)"
   ]
  },
  {
   "cell_type": "code",
   "execution_count": 132,
   "metadata": {},
   "outputs": [],
   "source": [
    "#end to enf latency\n",
    "def compute_latency(df_send, df_arrv, send=0, recv=1):\n",
    "    \"\"\"Compute end 2 end (e2e) latency: \n",
    "    \"\"\"\n",
    "    latency = []\n",
    "    max_pkid = df_arrv['pkt id'].max()\n",
    "    #print(max_pkid)\n",
    "    for ipkid in range(0,max_pkid+1,1):\n",
    "        sends = df_send[df_send['pkt id'] == ipkid]\n",
    "        arrvs = df_arrv[df_arrv['pkt id'] == ipkid]\n",
    "        send_time = sends[sends['from node'] == send]['time']\n",
    "        recv_time = arrvs[arrvs['to node'] == recv]['time']\n",
    "        if not send_time.empty:\n",
    "            if not recv_time.empty:\n",
    "                latency.append(float(recv_time)-float(send_time))\n",
    "    #return latency \n",
    "    return np.mean(latency)"
   ]
  },
  {
   "cell_type": "code",
   "execution_count": 7,
   "metadata": {},
   "outputs": [],
   "source": [
    "def get_trfile2(filename, recv_list=[(0,1)],):\n",
    "    \"\"\"compute average loss rate & bandwidth\n",
    "        filename : directory + filename\n",
    "        ctime : simulation computing time 10s for all test \n",
    "    \"\"\"\n",
    "    data = pd.read_table(filename,header=None,sep=' ',) \n",
    "    data.columns = ['event', 'time', 'from node', 'to node', \n",
    "              'pkt type', 'pkt size', 'flags', 'fid', \n",
    "              'src addr', 'dst addr', 'seq num', 'pkt id']\n",
    "    # throughput\n",
    "    arrv_data = data[data['event'] == 'r'] # + in-queue / - out-queue / r arrive packet\n",
    "    send_data = data[data['event'] == '-']\n",
    "    throughput_list = []\n",
    "    latency_list = []\n",
    "    for (i,j) in recv_list:\n",
    "        throughput_list.append(compute_throughput(arrv_data, ctime=20.0, megabits=True, send=i, recv=j))\n",
    "        latency_list.append(compute_latency(send_data, arrv_data, send=i, recv=j))\n",
    "        ii, jj = i,j\n",
    "        print(\" End send N.{} --> recv N.{}\".format(ii+1,jj+1))\n",
    "    return throughput_list , latency_list\n",
    "    #, latency_list"
   ]
  },
  {
   "cell_type": "code",
   "execution_count": 18,
   "metadata": {},
   "outputs": [],
   "source": [
    "def check_get_trfile2(filename, recv_list=[(0,1)],):\n",
    "    \"\"\"compute average loss rate & bandwidth\n",
    "        filename : directory + filename\n",
    "        ctime : simulation computing time 10s for all test \n",
    "    \"\"\"\n",
    "    data = pd.read_table(filename,header=None,sep=' ',) \n",
    "    data.columns = ['event', 'time', 'from node', 'to node', \n",
    "              'pkt type', 'pkt size', 'flags', 'fid', \n",
    "              'src addr', 'dst addr', 'seq num', 'pkt id']\n",
    "    # throughput\n",
    "    arrv_data = data[data['event'] == 'r'] # + in-queue / - out-queue / r arrive packet\n",
    "    send_data = data[data['event'] == '-']\n",
    "    throughput_list = []\n",
    "    latency_list = []\n",
    "    #for (i,j) in recv_list:\n",
    "        #throughput_list.append(compute_throughput(arrv_data, ctime=20.0, megabits=True, send=i, recv=j))\n",
    "    latency = original_compute_latency(send_data, arrv_data, send=0, recv=1)\n",
    "    #    ii, jj = i,j\n",
    "    #    print(\" End send N.{} --> recv N.{}\".format(ii+1,jj+1))\n",
    "    #return throughput_list , latency_list\n",
    "    return latency, data"
   ]
  },
  {
   "cell_type": "code",
   "execution_count": null,
   "metadata": {},
   "outputs": [],
   "source": [
    "#end to enf latency\n",
    "def middle_compute_latency(df_send, df_arrv, send=0, recv=1):\n",
    "    \"\"\"Compute end 2 end (e2e) latency: \n",
    "    \"\"\"\n",
    "    latency = []\n",
    "    max_pkid = df_arrv['pkt id'].max()\n",
    "    #print(max_pkid)\n",
    "    for ipkid in range(0,max_pkid+1,1):\n",
    "        # select packet\n",
    "        sends = df_send[df_send['pkt id'] == ipkid]\n",
    "        arrvs = df_arrv[df_arrv['pkt id'] == ipkid]\n",
    "        \n",
    "        # original\n",
    "        #send_time = sends[sends['from node'] == send]['time']\n",
    "        #recv_time = arrvs[arrvs['to node'] == recv]['time']\n",
    "        \n",
    "        # path 0\n",
    "        send_time0 = sends[sends['from node'] == send]['time']\n",
    "        recv_time0 = arrvs[arrvs['to node'] == 1]['time']\n",
    "        \n",
    "        # path \n",
    "        \n",
    "        \n",
    "        if not send_time.empty:\n",
    "            if not recv_time.empty:\n",
    "                latency.append(float(recv_time)-float(send_time))\n",
    "    #return latency \n",
    "    return np.mean(latency)"
   ]
  },
  {
   "cell_type": "code",
   "execution_count": null,
   "metadata": {},
   "outputs": [],
   "source": [
    "def get_trfile(filename, recv_list=[(0,1)],):\n",
    "    \"\"\"compute average loss rate & bandwidth\n",
    "        filename : directory + filename\n",
    "        ctime : simulation computing time 10s for all test \n",
    "    \"\"\"\n",
    "    data = pd.read_table(filename,header=None,sep=' ',) \n",
    "    data.columns = ['event', 'time', 'from node', 'to node', \n",
    "              'pkt type', 'pkt size', 'flags', 'fid', \n",
    "              'src addr', 'dst addr', 'seq num', 'pkt id']\n",
    "    # throughput\n",
    "    arrv_data = data[data['event'] == 'r'] # + in-queue / - out-queue / r arrive packet\n",
    "    send_data = data[data['event'] == '-']\n",
    "    throughput_list = []\n",
    "    latency_list = []\n",
    "    for (i,j) in recv_list:\n",
    "        throughput_list.append(compute_throughput(arrv_data, ctime=20.0, megabits=True, send=i, recv=j))\n",
    "        latency_list.append(middle_compute_latency(send_data, arrv_data, send=i, recv=j))\n",
    "        ii, jj = i,j\n",
    "        print(\" End send N.{} --> recv N.{}\".format(ii+1,jj+1))\n",
    "    return throughput_list , latency_list\n",
    "    #, latency_list"
   ]
  },
  {
   "cell_type": "markdown",
   "metadata": {},
   "source": [
    "- DropTail"
   ]
  },
  {
   "cell_type": "code",
   "execution_count": 53,
   "metadata": {},
   "outputs": [
    {
     "name": "stdout",
     "output_type": "stream",
     "text": [
      " End send N.1 --> recv N.4\n",
      " End send N.5 --> recv N.6\n",
      " End send N.7 --> recv N.8\n"
     ]
    }
   ],
   "source": [
    "datadir='/home/tkurihana/class/networking/homework/practice/hw_test2/question2'\n",
    "filename = os.path.join(datadir,'out_DropTail.tr')\n",
    "throughputs, e2e_delays = get_trfile2(filename, [(0,3), (4,5), (6,7)])"
   ]
  },
  {
   "cell_type": "code",
   "execution_count": 54,
   "metadata": {},
   "outputs": [
    {
     "data": {
      "text/plain": [
       "([6.72084, 6.6528, 6.58728],\n",
       " [0.07145599999999985, 0.07145599999999985, 0.07145599999999984])"
      ]
     },
     "execution_count": 54,
     "metadata": {},
     "output_type": "execute_result"
    }
   ],
   "source": [
    "throughputs, e2e_delays"
   ]
  },
  {
   "cell_type": "code",
   "execution_count": 52,
   "metadata": {},
   "outputs": [
    {
     "data": {
      "text/plain": [
       "([6.72084, 6.6528, 6.58728],\n",
       " [0.07145599999999985, 0.07145599999999985, 0.07145599999999984])"
      ]
     },
     "execution_count": 52,
     "metadata": {},
     "output_type": "execute_result"
    }
   ],
   "source": [
    "throughputs, e2e_delays"
   ]
  },
  {
   "cell_type": "code",
   "execution_count": 55,
   "metadata": {},
   "outputs": [],
   "source": [
    "drop_throughputs = throughputs\n",
    "drop_e2e_delays  = e2e_delays"
   ]
  },
  {
   "cell_type": "markdown",
   "metadata": {},
   "source": [
    "- RED"
   ]
  },
  {
   "cell_type": "code",
   "execution_count": 56,
   "metadata": {},
   "outputs": [
    {
     "name": "stdout",
     "output_type": "stream",
     "text": [
      " End send N.1 --> recv N.4\n",
      " End send N.5 --> recv N.6\n",
      " End send N.7 --> recv N.8\n"
     ]
    }
   ],
   "source": [
    "datadir='/home/tkurihana/class/networking/homework/practice/hw_test2/question2'\n",
    "filename = os.path.join(datadir,'out_RED.tr')\n",
    "throughputs, e2e_delays = get_trfile2(filename, [(0,3), (4,5), (6,7)])"
   ]
  },
  {
   "cell_type": "code",
   "execution_count": 43,
   "metadata": {},
   "outputs": [
    {
     "data": {
      "image/png": "[encoded data removed]",
      "text/plain": [
       "<Figure size 432x288 with 1 Axes>"
      ]
     },
     "metadata": {
      "needs_background": "light"
     },
     "output_type": "display_data"
    }
   ],
   "source": [
    "plt.figure()\n",
    "for i in range(3): \n",
    "    plt.hist(np.asarray(e2e_delays[i])*10000, color='C{}'.format(i), bins=50 )\n",
    "plt.show()"
   ]
  },
  {
   "cell_type": "code",
   "execution_count": 57,
   "metadata": {},
   "outputs": [
    {
     "data": {
      "text/plain": [
       "([6.72084, 6.6528, 6.58728],\n",
       " [0.07145599999999985, 0.07145599999999985, 0.07145599999999984])"
      ]
     },
     "execution_count": 57,
     "metadata": {},
     "output_type": "execute_result"
    }
   ],
   "source": [
    "throughputs, e2e_delays"
   ]
  },
  {
   "cell_type": "code",
   "execution_count": 58,
   "metadata": {},
   "outputs": [],
   "source": [
    "red_throughputs = np.array([6.72084, 6.6528, 6.58728])\n",
    "red_e2e_delays  = np.array([0.07050399999999984, 0.07050399999999983, 0.07050399999999983])"
   ]
  },
  {
   "cell_type": "markdown",
   "metadata": {},
   "source": [
    "- Save for figures"
   ]
  },
  {
   "cell_type": "code",
   "execution_count": 78,
   "metadata": {},
   "outputs": [],
   "source": [
    "col = np.asarray([i for i in range(3)])"
   ]
  },
  {
   "cell_type": "code",
   "execution_count": 79,
   "metadata": {},
   "outputs": [],
   "source": [
    "ths = np.concatenate([col.reshape(1,3), np.asarray(drop_throughputs).reshape(1,3), \n",
    "                      np.asarray(red_throughputs).reshape(1,3)], axis=0)"
   ]
  },
  {
   "cell_type": "code",
   "execution_count": 80,
   "metadata": {},
   "outputs": [],
   "source": [
    "### throughput\n",
    "np.savetxt(os.path.join(datadir,'part2_q2_th.txt'),ths.T)"
   ]
  },
  {
   "cell_type": "code",
   "execution_count": 134,
   "metadata": {},
   "outputs": [],
   "source": [
    "dly = np.concatenate([ np.asarray(drop_e2e_delays).reshape(1,3)*1000, \n",
    "                      np.asarray(red_e2e_delays).reshape(1,3)*1000], axis=0)"
   ]
  },
  {
   "cell_type": "code",
   "execution_count": 135,
   "metadata": {},
   "outputs": [],
   "source": [
    "### throughput\n",
    "np.savetxt(os.path.join(datadir,'part2_q2_dly.txt'),dly.T)"
   ]
  },
  {
   "cell_type": "markdown",
   "metadata": {},
   "source": [
    "#### Visualization"
   ]
  },
  {
   "cell_type": "code",
   "execution_count": 338,
   "metadata": {},
   "outputs": [],
   "source": [
    "gp.figure()\n",
    "#gp.c('set datafile separator \"\\t\"')\n",
    "gp.c('set title \"Throughputs\"; set xlabel \"Node\"; set ylabel \"Throughput [Mbps]\"')\n",
    "gp.c('set style data histogram')\n",
    "gp.c('set style histogram cluster gap 1')\n",
    "gp.c('set boxwidth 0.9')\n",
    "gp.c('set key inside')\n",
    "gp.c('set yrange[ 0.4:8]')\n",
    "gp.c('set tics font \"Helvetica, 10\"')\n",
    "gp.c('set grid ytics')\n",
    "gp.c('set style fill solid')\n",
    "gp.c('set xtics 0,1,3')\n",
    "gp.c('set xtics (\"N1 --> N4\" 0, \"N5 --> N6\" 1, \"N7 --> N8\" 2)')\n",
    "gp.c('plot \"/home/tkurihana/class/networking/homework/practice/hw_test2/question2/part2_q2_th.txt\" using 2:xtic(1) title \"DropTail\" blue')\n",
    "gp.c('replot \"/home/tkurihana/class/networking/homework/practice/hw_test2/question2/part2_q2_th.txt\" using 3:xtic(1) title \"RED\" red')\n",
    "gp.p('/home/tkurihana/class/networking/homework/practice/hw_test2/question2/fig/part2_q2_throughputs.eps')"
   ]
  },
  {
   "cell_type": "code",
   "execution_count": 341,
   "metadata": {},
   "outputs": [],
   "source": [
    "gp.figure()\n",
    "#gp.c('set datafile separator \"\\t\"')\n",
    "gp.c('set title \"End to End Latency\"; set xlabel \"Node\"; set ylabel \"Latency [ms]\"')\n",
    "gp.c('set style data histogram')\n",
    "gp.c('set style histogram cluster gap 1')\n",
    "gp.c('set boxwidth 0.9')\n",
    "gp.c('set key inside')\n",
    "gp.c('set tics font \"Helvetica, 10\"')\n",
    "gp.c('set grid ytics')\n",
    "gp.c('set style fill solid')\n",
    "gp.c('set xtics 0,1,3')\n",
    "gp.c('set yrange[ 60:80]')\n",
    "gp.c('set xtics (\"N1 --> N4\" 0, \"N5 --> N6\" 1, \"N7 --> N8\" 2)')\n",
    "gp.c('plot \"/home/tkurihana/class/networking/homework/practice/hw_test2/question2/part2_q2_dly.txt\" using 2:xtic(1) title \"DropTail\" blue')\n",
    "gp.c('replot \"/home/tkurihana/class/networking/homework/practice/hw_test2/question2/part2_q2_dly.txt\" using 3:xtic(1) title \"RED\" red')\n",
    "gp.p('/home/tkurihana/class/networking/homework/practice/hw_test2/question2/fig/part2_q2_delay.eps')"
   ]
  },
  {
   "cell_type": "markdown",
   "metadata": {},
   "source": [
    "--------------------------\n",
    "##### Debugging for end to end latency computation by each flow"
   ]
  },
  {
   "cell_type": "code",
   "execution_count": 19,
   "metadata": {},
   "outputs": [],
   "source": [
    "##### Debug\n",
    "datadir='/home/tkurihana/class/networking/homework/practice/hw_test2/question2'\n",
    "filename = os.path.join(datadir,'out_RED.tr')\n",
    "latency, data = check_get_trfile2(filename)"
   ]
  },
  {
   "cell_type": "code",
   "execution_count": 471,
   "metadata": {},
   "outputs": [
    {
     "data": {
      "text/html": [
       "<div>\n",
       "<style scoped>\n",
       "    .dataframe tbody tr th:only-of-type {\n",
       "        vertical-align: middle;\n",
       "    }\n",
       "\n",
       "    .dataframe tbody tr th {\n",
       "        vertical-align: top;\n",
       "    }\n",
       "\n",
       "    .dataframe thead th {\n",
       "        text-align: right;\n",
       "    }\n",
       "</style>\n",
       "<table border=\"1\" class=\"dataframe\">\n",
       "  <thead>\n",
       "    <tr style=\"text-align: right;\">\n",
       "      <th></th>\n",
       "      <th>event</th>\n",
       "      <th>time</th>\n",
       "      <th>from node</th>\n",
       "      <th>to node</th>\n",
       "      <th>pkt type</th>\n",
       "      <th>pkt size</th>\n",
       "      <th>flags</th>\n",
       "      <th>fid</th>\n",
       "      <th>src addr</th>\n",
       "      <th>dst addr</th>\n",
       "      <th>seq num</th>\n",
       "      <th>pkt id</th>\n",
       "    </tr>\n",
       "  </thead>\n",
       "  <tbody>\n",
       "    <tr>\n",
       "      <th>780</th>\n",
       "      <td>r</td>\n",
       "      <td>0.233918</td>\n",
       "      <td>4</td>\n",
       "      <td>1</td>\n",
       "      <td>cbr</td>\n",
       "      <td>210</td>\n",
       "      <td>-------</td>\n",
       "      <td>1</td>\n",
       "      <td>4.0</td>\n",
       "      <td>5.0</td>\n",
       "      <td>33</td>\n",
       "      <td>100</td>\n",
       "    </tr>\n",
       "    <tr>\n",
       "      <th>1113</th>\n",
       "      <td>r</td>\n",
       "      <td>0.284086</td>\n",
       "      <td>1</td>\n",
       "      <td>2</td>\n",
       "      <td>cbr</td>\n",
       "      <td>210</td>\n",
       "      <td>-------</td>\n",
       "      <td>1</td>\n",
       "      <td>4.0</td>\n",
       "      <td>5.0</td>\n",
       "      <td>33</td>\n",
       "      <td>100</td>\n",
       "    </tr>\n",
       "    <tr>\n",
       "      <th>1188</th>\n",
       "      <td>r</td>\n",
       "      <td>0.294254</td>\n",
       "      <td>2</td>\n",
       "      <td>5</td>\n",
       "      <td>cbr</td>\n",
       "      <td>210</td>\n",
       "      <td>-------</td>\n",
       "      <td>1</td>\n",
       "      <td>4.0</td>\n",
       "      <td>5.0</td>\n",
       "      <td>33</td>\n",
       "      <td>100</td>\n",
       "    </tr>\n",
       "  </tbody>\n",
       "</table>\n",
       "</div>"
      ],
      "text/plain": [
       "     event      time  from node  to node pkt type  pkt size    flags  fid  \\\n",
       "780      r  0.233918          4        1      cbr       210  -------    1   \n",
       "1113     r  0.284086          1        2      cbr       210  -------    1   \n",
       "1188     r  0.294254          2        5      cbr       210  -------    1   \n",
       "\n",
       "      src addr  dst addr  seq num  pkt id  \n",
       "780        4.0       5.0       33     100  \n",
       "1113       4.0       5.0       33     100  \n",
       "1188       4.0       5.0       33     100  "
      ]
     },
     "execution_count": 471,
     "metadata": {},
     "output_type": "execute_result"
    }
   ],
   "source": [
    "a = data[data['event'] == 'r']\n",
    "b= []\n",
    "#for i in range(20):\n",
    "a[a['pkt id'] == 100]"
   ]
  },
  {
   "cell_type": "markdown",
   "metadata": {},
   "source": [
    "##### memo\n",
    "--> flow is connected 4 -->1-->2-->5; Thus end to end delay is  \n",
    "$$\" T(\\text{arrv packet time at 5}) - T(\\text{send packet time at 4}) \"$$"
   ]
  },
  {
   "cell_type": "code",
   "execution_count": 20,
   "metadata": {},
   "outputs": [],
   "source": [
    "arrv_data = data[data['event'] == 'r'] # + in-queue / - out-queue / r arrive packet\n",
    "send_data = data[data['event'] == '-']\n",
    "\n",
    "dfs = send_data[send_data['pkt id'] == 100]\n",
    "dfa = arrv_data[arrv_data['pkt id'] == 100]"
   ]
  },
  {
   "cell_type": "code",
   "execution_count": 21,
   "metadata": {},
   "outputs": [
    {
     "data": {
      "text/html": [
       "<div>\n",
       "<style scoped>\n",
       "    .dataframe tbody tr th:only-of-type {\n",
       "        vertical-align: middle;\n",
       "    }\n",
       "\n",
       "    .dataframe tbody tr th {\n",
       "        vertical-align: top;\n",
       "    }\n",
       "\n",
       "    .dataframe thead th {\n",
       "        text-align: right;\n",
       "    }\n",
       "</style>\n",
       "<table border=\"1\" class=\"dataframe\">\n",
       "  <thead>\n",
       "    <tr style=\"text-align: right;\">\n",
       "      <th></th>\n",
       "      <th>event</th>\n",
       "      <th>time</th>\n",
       "      <th>from node</th>\n",
       "      <th>to node</th>\n",
       "      <th>pkt type</th>\n",
       "      <th>pkt size</th>\n",
       "      <th>flags</th>\n",
       "      <th>fid</th>\n",
       "      <th>src addr</th>\n",
       "      <th>dst addr</th>\n",
       "      <th>seq num</th>\n",
       "      <th>pkt id</th>\n",
       "    </tr>\n",
       "  </thead>\n",
       "  <tbody>\n",
       "    <tr>\n",
       "      <th>716</th>\n",
       "      <td>-</td>\n",
       "      <td>0.223750</td>\n",
       "      <td>4</td>\n",
       "      <td>1</td>\n",
       "      <td>cbr</td>\n",
       "      <td>210</td>\n",
       "      <td>-------</td>\n",
       "      <td>1</td>\n",
       "      <td>4.0</td>\n",
       "      <td>5.0</td>\n",
       "      <td>33</td>\n",
       "      <td>100</td>\n",
       "    </tr>\n",
       "    <tr>\n",
       "      <th>782</th>\n",
       "      <td>-</td>\n",
       "      <td>0.233918</td>\n",
       "      <td>1</td>\n",
       "      <td>2</td>\n",
       "      <td>cbr</td>\n",
       "      <td>210</td>\n",
       "      <td>-------</td>\n",
       "      <td>1</td>\n",
       "      <td>4.0</td>\n",
       "      <td>5.0</td>\n",
       "      <td>33</td>\n",
       "      <td>100</td>\n",
       "    </tr>\n",
       "    <tr>\n",
       "      <th>1115</th>\n",
       "      <td>-</td>\n",
       "      <td>0.284086</td>\n",
       "      <td>2</td>\n",
       "      <td>5</td>\n",
       "      <td>cbr</td>\n",
       "      <td>210</td>\n",
       "      <td>-------</td>\n",
       "      <td>1</td>\n",
       "      <td>4.0</td>\n",
       "      <td>5.0</td>\n",
       "      <td>33</td>\n",
       "      <td>100</td>\n",
       "    </tr>\n",
       "  </tbody>\n",
       "</table>\n",
       "</div>"
      ],
      "text/plain": [
       "     event      time  from node  to node pkt type  pkt size    flags  fid  \\\n",
       "716      -  0.223750          4        1      cbr       210  -------    1   \n",
       "782      -  0.233918          1        2      cbr       210  -------    1   \n",
       "1115     -  0.284086          2        5      cbr       210  -------    1   \n",
       "\n",
       "      src addr  dst addr  seq num  pkt id  \n",
       "716        4.0       5.0       33     100  \n",
       "782        4.0       5.0       33     100  \n",
       "1115       4.0       5.0       33     100  "
      ]
     },
     "execution_count": 21,
     "metadata": {},
     "output_type": "execute_result"
    }
   ],
   "source": [
    "dfs"
   ]
  },
  {
   "cell_type": "code",
   "execution_count": 22,
   "metadata": {},
   "outputs": [
    {
     "data": {
      "text/html": [
       "<div>\n",
       "<style scoped>\n",
       "    .dataframe tbody tr th:only-of-type {\n",
       "        vertical-align: middle;\n",
       "    }\n",
       "\n",
       "    .dataframe tbody tr th {\n",
       "        vertical-align: top;\n",
       "    }\n",
       "\n",
       "    .dataframe thead th {\n",
       "        text-align: right;\n",
       "    }\n",
       "</style>\n",
       "<table border=\"1\" class=\"dataframe\">\n",
       "  <thead>\n",
       "    <tr style=\"text-align: right;\">\n",
       "      <th></th>\n",
       "      <th>event</th>\n",
       "      <th>time</th>\n",
       "      <th>from node</th>\n",
       "      <th>to node</th>\n",
       "      <th>pkt type</th>\n",
       "      <th>pkt size</th>\n",
       "      <th>flags</th>\n",
       "      <th>fid</th>\n",
       "      <th>src addr</th>\n",
       "      <th>dst addr</th>\n",
       "      <th>seq num</th>\n",
       "      <th>pkt id</th>\n",
       "    </tr>\n",
       "  </thead>\n",
       "  <tbody>\n",
       "    <tr>\n",
       "      <th>780</th>\n",
       "      <td>r</td>\n",
       "      <td>0.233918</td>\n",
       "      <td>4</td>\n",
       "      <td>1</td>\n",
       "      <td>cbr</td>\n",
       "      <td>210</td>\n",
       "      <td>-------</td>\n",
       "      <td>1</td>\n",
       "      <td>4.0</td>\n",
       "      <td>5.0</td>\n",
       "      <td>33</td>\n",
       "      <td>100</td>\n",
       "    </tr>\n",
       "    <tr>\n",
       "      <th>1113</th>\n",
       "      <td>r</td>\n",
       "      <td>0.284086</td>\n",
       "      <td>1</td>\n",
       "      <td>2</td>\n",
       "      <td>cbr</td>\n",
       "      <td>210</td>\n",
       "      <td>-------</td>\n",
       "      <td>1</td>\n",
       "      <td>4.0</td>\n",
       "      <td>5.0</td>\n",
       "      <td>33</td>\n",
       "      <td>100</td>\n",
       "    </tr>\n",
       "    <tr>\n",
       "      <th>1188</th>\n",
       "      <td>r</td>\n",
       "      <td>0.294254</td>\n",
       "      <td>2</td>\n",
       "      <td>5</td>\n",
       "      <td>cbr</td>\n",
       "      <td>210</td>\n",
       "      <td>-------</td>\n",
       "      <td>1</td>\n",
       "      <td>4.0</td>\n",
       "      <td>5.0</td>\n",
       "      <td>33</td>\n",
       "      <td>100</td>\n",
       "    </tr>\n",
       "  </tbody>\n",
       "</table>\n",
       "</div>"
      ],
      "text/plain": [
       "     event      time  from node  to node pkt type  pkt size    flags  fid  \\\n",
       "780      r  0.233918          4        1      cbr       210  -------    1   \n",
       "1113     r  0.284086          1        2      cbr       210  -------    1   \n",
       "1188     r  0.294254          2        5      cbr       210  -------    1   \n",
       "\n",
       "      src addr  dst addr  seq num  pkt id  \n",
       "780        4.0       5.0       33     100  \n",
       "1113       4.0       5.0       33     100  \n",
       "1188       4.0       5.0       33     100  "
      ]
     },
     "execution_count": 22,
     "metadata": {},
     "output_type": "execute_result"
    }
   ],
   "source": [
    "dfa"
   ]
  },
  {
   "cell_type": "code",
   "execution_count": 23,
   "metadata": {},
   "outputs": [
    {
     "data": {
      "text/plain": [
       "0.07050400000000001"
      ]
     },
     "execution_count": 23,
     "metadata": {},
     "output_type": "execute_result"
    }
   ],
   "source": [
    "e2e_delay = 0.294254 - 0.223750\n",
    "e2e_delay"
   ]
  },
  {
   "cell_type": "markdown",
   "metadata": {},
   "source": [
    "Make a formula"
   ]
  },
  {
   "cell_type": "code",
   "execution_count": 24,
   "metadata": {},
   "outputs": [
    {
     "data": {
      "text/plain": [
       "0.07050400000000001"
      ]
     },
     "execution_count": 24,
     "metadata": {},
     "output_type": "execute_result"
    }
   ],
   "source": [
    "stime = dfs['time'].min()\n",
    "rtime = dfa['time'].max()\n",
    "e2e = float(rtime) - float(stime)\n",
    "e2e"
   ]
  },
  {
   "cell_type": "code",
   "execution_count": 26,
   "metadata": {},
   "outputs": [
    {
     "data": {
      "text/plain": [
       "0.07050400000000001"
      ]
     },
     "execution_count": 26,
     "metadata": {},
     "output_type": "execute_result"
    }
   ],
   "source": [
    "stime = dfs[dfs['from node'] == 4]['time']\n",
    "rtime = dfa[dfa['to node'] == 5]['time']\n",
    "float(rtime) - float(stime)\n",
    "#rtime - stime"
   ]
  },
  {
   "cell_type": "code",
   "execution_count": 491,
   "metadata": {},
   "outputs": [
    {
     "name": "stdout",
     "output_type": "stream",
     "text": [
      "work well\n"
     ]
    }
   ],
   "source": [
    "aa = dfs[dfs['from node'] == 0]['time']\n",
    "if not aa.empty:\n",
    "    print('bad')\n",
    "else:\n",
    "    print('work well')"
   ]
  },
  {
   "cell_type": "markdown",
   "metadata": {},
   "source": [
    "----------------------------\n",
    "### Additional analysis for Part2 Q.1: Each flow's bandwidth"
   ]
  },
  {
   "cell_type": "code",
   "execution_count": 186,
   "metadata": {},
   "outputs": [],
   "source": [
    "def get_trfile3(filename, recv_list=[(0,1)],):\n",
    "    \"\"\"compute average loss rate & bandwidth\n",
    "        filename : directory + filename\n",
    "        ctime : simulation computing time 10s for all test \n",
    "    \"\"\"\n",
    "    data = pd.read_table(filename,header=None,sep=' ',) \n",
    "    data.columns = ['event', 'time', 'from node', 'to node', \n",
    "              'pkt type', 'pkt size', 'flags', 'fid', \n",
    "              'src addr', 'dst addr', 'seq num', 'pkt id']\n",
    "    # bandwidth\n",
    "    arrv_data = data[data['event'] == 'r'] # + in-queue / - out-queue / r arrive packet\n",
    "    send_data = data[data['event'] == '-']\n",
    "    bandwidth_list = []\n",
    "    latency_list = []\n",
    "    for (i,j) in recv_list:\n",
    "        bandwidth_list.append(compute_bandwidth(send_data, ctime=20.0, megabits=True, send=i, recv=j))\n",
    "        latency_list.append(compute_latency(send_data, arrv_data, send=i, recv=j))\n",
    "        ii, jj = i,j\n",
    "        print(\" End send N.{} --> recv N.{}\".format(ii+1,jj+1))\n",
    "    return bandwidth_list , latency_list\n",
    "    #, latency_list"
   ]
  },
  {
   "cell_type": "markdown",
   "metadata": {},
   "source": [
    "- Reno-DropTail"
   ]
  },
  {
   "cell_type": "code",
   "execution_count": 187,
   "metadata": {},
   "outputs": [
    {
     "name": "stdout",
     "output_type": "stream",
     "text": [
      " End send N.1 --> recv N.4\n",
      " End send N.5 --> recv N.6\n"
     ]
    }
   ],
   "source": [
    "datadir='/home/tkurihana/class/networking/homework/practice/hw_test2/question1/DropOrRed'\n",
    "filename = os.path.join(datadir,'out_Reno_DropTail.tr')\n",
    "bandwidth, e2e_delays = get_trfile3(filename, [(0,3), (4,5)])"
   ]
  },
  {
   "cell_type": "code",
   "execution_count": 188,
   "metadata": {},
   "outputs": [],
   "source": [
    "bandwidth = throughputs"
   ]
  },
  {
   "cell_type": "code",
   "execution_count": 189,
   "metadata": {},
   "outputs": [
    {
     "data": {
      "text/plain": [
       "([3.525936, 3.525936], [0.08557206646153855, 0.0799445656226697])"
      ]
     },
     "execution_count": 189,
     "metadata": {},
     "output_type": "execute_result"
    }
   ],
   "source": [
    "bandwidth, e2e_delays"
   ]
  },
  {
   "cell_type": "code",
   "execution_count": 190,
   "metadata": {},
   "outputs": [],
   "source": [
    "reno_droptail_bandwidth = bandwidth\n",
    "reno_droptail_e2e_delays = e2e_delays"
   ]
  },
  {
   "cell_type": "markdown",
   "metadata": {},
   "source": [
    "- Reno-RED"
   ]
  },
  {
   "cell_type": "code",
   "execution_count": 191,
   "metadata": {},
   "outputs": [
    {
     "name": "stdout",
     "output_type": "stream",
     "text": [
      " End send N.1 --> recv N.4\n",
      " End send N.5 --> recv N.6\n"
     ]
    }
   ],
   "source": [
    "datadir='/home/tkurihana/class/networking/homework/practice/hw_test2/question1/DropOrRed'\n",
    "filename = os.path.join(datadir,'out_Reno_RED.tr')\n",
    "bandwidth, e2e_delays = get_trfile3(filename, [(0,3), (4,5)])"
   ]
  },
  {
   "cell_type": "code",
   "execution_count": 192,
   "metadata": {},
   "outputs": [],
   "source": [
    "reno_red_bandwidth = bandwidth\n",
    "reno_red_e2e_delays = e2e_delays"
   ]
  },
  {
   "cell_type": "code",
   "execution_count": 193,
   "metadata": {},
   "outputs": [
    {
     "data": {
      "text/plain": [
       "([3.5736, 3.5736], [0.08332808927501499, 0.08139915949082746])"
      ]
     },
     "execution_count": 193,
     "metadata": {},
     "output_type": "execute_result"
    }
   ],
   "source": [
    "bandwidth, e2e_delays"
   ]
  },
  {
   "cell_type": "markdown",
   "metadata": {},
   "source": [
    "- SACK-DropTail"
   ]
  },
  {
   "cell_type": "code",
   "execution_count": 194,
   "metadata": {},
   "outputs": [
    {
     "name": "stdout",
     "output_type": "stream",
     "text": [
      " End send N.1 --> recv N.4\n",
      " End send N.5 --> recv N.6\n"
     ]
    }
   ],
   "source": [
    "datadir='/home/tkurihana/class/networking/homework/practice/hw_test2/question1/DropOrRed'\n",
    "filename = os.path.join(datadir,'out_Sack1_DropTail.tr')\n",
    "bandwidth, e2e_delays = get_trfile3(filename, [(0,3), (4,5)])"
   ]
  },
  {
   "cell_type": "code",
   "execution_count": 195,
   "metadata": {},
   "outputs": [],
   "source": [
    "sack_droptail_bandwidth = bandwidth\n",
    "sack_droptail_e2e_delays = e2e_delays"
   ]
  },
  {
   "cell_type": "code",
   "execution_count": 196,
   "metadata": {},
   "outputs": [
    {
     "data": {
      "text/plain": [
       "([2.98648, 2.98648], [0.08513260200668889, 0.07918439791356194])"
      ]
     },
     "execution_count": 196,
     "metadata": {},
     "output_type": "execute_result"
    }
   ],
   "source": [
    "bandwidth, e2e_delays"
   ]
  },
  {
   "cell_type": "markdown",
   "metadata": {},
   "source": [
    "- SACK-RED"
   ]
  },
  {
   "cell_type": "code",
   "execution_count": 197,
   "metadata": {},
   "outputs": [
    {
     "name": "stdout",
     "output_type": "stream",
     "text": [
      " End send N.1 --> recv N.4\n",
      " End send N.5 --> recv N.6\n"
     ]
    }
   ],
   "source": [
    "datadir='/home/tkurihana/class/networking/homework/practice/hw_test2/question1/DropOrRed'\n",
    "filename = os.path.join(datadir,'out_Sack1_RED.tr')\n",
    "bandwidth, e2e_delays = get_trfile3(filename, [(0,3), (4,5)])"
   ]
  },
  {
   "cell_type": "code",
   "execution_count": 198,
   "metadata": {},
   "outputs": [],
   "source": [
    "sack_red_bandwidth = bandwidth\n",
    "sack_red_e2e_delays = e2e_delays"
   ]
  },
  {
   "cell_type": "code",
   "execution_count": 199,
   "metadata": {},
   "outputs": [
    {
     "data": {
      "text/plain": [
       "([2.803216, 2.803216], [0.08348173800383876, 0.07847640850277268])"
      ]
     },
     "execution_count": 199,
     "metadata": {},
     "output_type": "execute_result"
    }
   ],
   "source": [
    "bandwidth, e2e_delays"
   ]
  },
  {
   "cell_type": "markdown",
   "metadata": {},
   "source": [
    "- Easy checkio"
   ]
  },
  {
   "cell_type": "code",
   "execution_count": 203,
   "metadata": {},
   "outputs": [],
   "source": [
    "part2_ind_bandwidths = np.concatenate(\n",
    "    [np.asarray(reno_droptail_bandwidth).reshape(1,2), np.asarray(reno_red_bandwidth).reshape(1,2),\n",
    "    np.asarray(sack_droptail_bandwidth).reshape(1,2), np.asarray(sack_red_bandwidth).reshape(1,2)], axis=0\n",
    ")"
   ]
  },
  {
   "cell_type": "code",
   "execution_count": 204,
   "metadata": {},
   "outputs": [
    {
     "data": {
      "text/plain": [
       "array([[3.525936, 3.525936],\n",
       "       [3.5736  , 3.5736  ],\n",
       "       [2.98648 , 2.98648 ],\n",
       "       [2.803216, 2.803216]])"
      ]
     },
     "execution_count": 204,
     "metadata": {},
     "output_type": "execute_result"
    }
   ],
   "source": [
    "part2_ind_bandwidths"
   ]
  },
  {
   "cell_type": "code",
   "execution_count": 206,
   "metadata": {},
   "outputs": [],
   "source": [
    "part2_ind_delays = np.concatenate(\n",
    "    [np.asarray(reno_droptail_e2e_delays).reshape(1,2), np.asarray(reno_red_e2e_delays).reshape(1,2),\n",
    "    np.asarray(sack_droptail_e2e_delays).reshape(1,2), np.asarray(sack_red_e2e_delays).reshape(1,2)], axis=0\n",
    ")"
   ]
  },
  {
   "cell_type": "code",
   "execution_count": 229,
   "metadata": {},
   "outputs": [],
   "source": [
    "part2_ind_delays = part2_ind_delays*1000"
   ]
  },
  {
   "cell_type": "code",
   "execution_count": 208,
   "metadata": {},
   "outputs": [],
   "source": [
    "### save\n",
    "np.savetxt(os.path.join(datadir, 'part2_ind_bandwidths.txt'),part2_ind_bandwidths.T)"
   ]
  },
  {
   "cell_type": "code",
   "execution_count": 230,
   "metadata": {},
   "outputs": [],
   "source": [
    "### save\n",
    "np.savetxt(os.path.join(datadir, 'part2_ind_delays.txt'),part2_ind_delays.T)"
   ]
  },
  {
   "cell_type": "code",
   "execution_count": 224,
   "metadata": {},
   "outputs": [],
   "source": [
    "gp.figure()\n",
    "#gp.c('set datafile separator \"\\t\"')\n",
    "gp.c('set title \"Bandwidths\" font \"Helveticam, 18\"; set xlabel \"Node\"; set ylabel \"Bandwidth [Mbps]\"')\n",
    "gp.c('set style data histogram')\n",
    "gp.c('set style histogram cluster gap 1')\n",
    "gp.c('set boxwidth 0.9')\n",
    "gp.c('set key inside')\n",
    "gp.c('set key font \",10\"')\n",
    "gp.c('set tics font \"Helvetica, 10\"')\n",
    "gp.c('set grid ytics')\n",
    "gp.c('set style fill solid')\n",
    "gp.c('set yrange[0.0:4]')\n",
    "gp.c('set xrange[-0.5:2]')\n",
    "gp.c('set xtics 0,1,3')\n",
    "gp.c('set xtics (\"N1 --> N4\" 0, \"N5 --> N6\" 1)')\n",
    "gp.c('plot \"/home/tkurihana/class/networking/homework/practice/hw_test2/question1/DropOrRed/part2_ind_bandwidths.txt\" using 2:xtic(1) title \"Reno-DropTail\" green')\n",
    "gp.c('replot \"/home/tkurihana/class/networking/homework/practice/hw_test2/question1/DropOrRed/part2_ind_bandwidths.txt\" using 3:xtic(1) title \"Reno-RED\" red')\n",
    "gp.c('replot \"/home/tkurihana/class/networking/homework/practice/hw_test2/question1/DropOrRed/part2_ind_bandwidths.txt\" using 4:xtic(1) title \"SACK-DropTail\" red')\n",
    "gp.c('replot \"/home/tkurihana/class/networking/homework/practice/hw_test2/question1/DropOrRed/part2_ind_bandwidths.txt\" using 5:xtic(1) title \"SACK-RED\" red')\n",
    "gp.p('/home/tkurihana/class/networking/homework/practice/hw_test2/question1/DropOrRed/fig/part2_each_bandwidths.eps')"
   ]
  },
  {
   "cell_type": "code",
   "execution_count": 375,
   "metadata": {},
   "outputs": [],
   "source": [
    "gp.figure()\n",
    "#gp.c('set datafile separator \"\\t\"')\n",
    "gp.c('set title \"End to End Latency\" font \"Helveticam, 18\"; set xlabel \"Node\"; set ylabel \"Latency [ms]\"')\n",
    "gp.c('set style data histogram')\n",
    "gp.c('set style histogram cluster gap 1')\n",
    "gp.c('set boxwidth 0.9')\n",
    "gp.c('set key inside')\n",
    "gp.c('set key font \",10\"')\n",
    "gp.c('set tics font \"Helvetica, 10\"')\n",
    "gp.c('set grid ytics')\n",
    "gp.c('set style fill solid')\n",
    "gp.c('set yrange[40.0:90]')\n",
    "gp.c('set xrange[-0.5:2.5]')\n",
    "gp.c('set xtics 0,1,3')\n",
    "gp.c('set xtics (\"N1 --> N4\" 0, \"N5 --> N6\" 1)')\n",
    "gp.c('plot \"/home/tkurihana/class/networking/homework/practice/hw_test2/question1/DropOrRed/part2_ind_delays.txt\" using 2:xtic(1) title \"Reno-DropTail\" green')\n",
    "gp.c('replot \"/home/tkurihana/class/networking/homework/practice/hw_test2/question1/DropOrRed/part2_ind_delays.txt\" using 3:xtic(1) title \"Reno-RED\" red')\n",
    "gp.c('replot \"/home/tkurihana/class/networking/homework/practice/hw_test2/question1/DropOrRed/part2_ind_delays.txt\" using 4:xtic(1) title \"SACK-DropTail\" red')\n",
    "gp.c('replot \"/home/tkurihana/class/networking/homework/practice/hw_test2/question1/DropOrRed/part2_ind_delays.txt\" using 5:xtic(1) title \"SACK-RED\" red')\n",
    "gp.p('/home/tkurihana/class/networking/homework/practice/hw_test2/question1/DropOrRed/fig/part2_each_delays.eps')"
   ]
  },
  {
   "cell_type": "markdown",
   "metadata": {},
   "source": [
    "### Compute throughput every X second\n",
    "X = 0.1"
   ]
  },
  {
   "cell_type": "markdown",
   "metadata": {},
   "source": [
    "#### Question. 1"
   ]
  },
  {
   "cell_type": "code",
   "execution_count": 365,
   "metadata": {},
   "outputs": [],
   "source": [
    "def compute_throughput_ps(filename, dt=0.1, ctime=20.0):\n",
    "    \"\"\" Per X second\n",
    "        compute average loss rate & bandwidth\n",
    "        filename : directory + filename\n",
    "        ctime : simulation computing time 10s for all test \n",
    "    \"\"\"\n",
    "    \n",
    "    ### write fn to compute throughput\n",
    "    def _compute_throughput_ps(df,dt, stime=0, ctime=20.0, megabits=True, send=0, recv=1):\n",
    "        th = df[['time','pkt size']]# unit; bytes\n",
    "        \n",
    "        # delta t\n",
    "        dx = 0.0\n",
    "        time_list = []\n",
    "        throughput_list = []\n",
    "        while dx <= ctime:\n",
    "            _packet = th[(th['time']>= dx) & (th['time'] < dt+dx) ]['pkt size'].sum()\n",
    "            if megabits:\n",
    "                pkt = float(_packet) * 8 / 100000\n",
    "            else:\n",
    "                pkt = float(_packet)\n",
    "            throughput_list.append(pkt/dt)\n",
    "            time_list.append(dx)\n",
    "            \n",
    "            ## increment\n",
    "            dx += dt\n",
    "        time_array = np.asarray(time_list).reshape(1,len(time_list))\n",
    "        throughput_array = np.asarray(throughput_list).reshape(1,len(time_list))\n",
    "        \n",
    "        ths = np.concatenate([time_array, throughput_array], axis=0)\n",
    "        return ths\n",
    "    \n",
    "    data = pd.read_table(filename,header=None,sep=' ',) \n",
    "    data.columns = ['event', 'time', 'from node', 'to node', \n",
    "              'pkt type', 'pkt size', 'flags', 'fid', \n",
    "              'src addr', 'dst addr', 'seq num', 'pkt id']\n",
    "    # throughput\n",
    "    arrv_data = data[data['event'] == 'r'] # + in-queue / - out-queue / r arrive packet\n",
    "    #send_data = data[data['event'] == '-']\n",
    "    throughput = _compute_throughput_ps(arrv_data, dt=dt, ctime=ctime, megabits=True)\n",
    "    return throughput"
   ]
  },
  {
   "cell_type": "markdown",
   "metadata": {},
   "source": [
    "- Reno DropTail"
   ]
  },
  {
   "cell_type": "code",
   "execution_count": 366,
   "metadata": {},
   "outputs": [],
   "source": [
    "datadir='/home/tkurihana/class/networking/homework/practice/hw_test2/question1/DropOrRed'\n",
    "filename = os.path.join(datadir,'out_Reno_DropTail.tr')\n",
    "df_throughput_ps = compute_throughput_ps(filename, dt=0.1)"
   ]
  },
  {
   "cell_type": "code",
   "execution_count": 367,
   "metadata": {},
   "outputs": [
    {
     "data": {
      "text/plain": [
       "[<matplotlib.lines.Line2D at 0x7f559024ceb8>]"
      ]
     },
     "execution_count": 367,
     "metadata": {},
     "output_type": "execute_result"
    },
    {
     "data": {
      "image/png": "[encoded data removed]",
      "text/plain": [
       "<Figure size 432x288 with 1 Axes>"
      ]
     },
     "metadata": {
      "needs_background": "light"
     },
     "output_type": "display_data"
    }
   ],
   "source": [
    "plt.plot(df_throughput_ps[0], df_throughput_ps[1])"
   ]
  },
  {
   "cell_type": "code",
   "execution_count": 303,
   "metadata": {},
   "outputs": [],
   "source": [
    "np.savetxt(os.path.join(datadir, 'throughput_per100ms.txt'), df_throughput_ps.T)"
   ]
  },
  {
   "cell_type": "code",
   "execution_count": 371,
   "metadata": {},
   "outputs": [],
   "source": [
    "### Plot all\n",
    "gp.figure()\n",
    "gp.c('set y2tics')\n",
    "gp.c('set title \"Throughput vs Congestion Window\" font \"Helveticam, 15\"; set xlabel \"time [sec]\"; set ylabel \"# of packets\"; set y2label \"Throughput [Mb]\"')\n",
    "gp.c('set size ratio 0.8')\n",
    "gp.c('set grid')\n",
    "gp.c('set key right top')\n",
    "gp.c('set key inside')\n",
    "gp.c('set tics font \"Helvetica, 10\"')\n",
    "gp.c('set datafile separator \"\\t ,\"')\n",
    "gp.c('set yrange[0:40]')\n",
    "gp.c('set y2range[0:8]')\n",
    "#gp.c('set autoscale y')\n",
    "#gp.c('set autoscale x')\n",
    "gp.c('plot \"/home/tkurihana/class/networking/homework/practice/hw_test2/question1/DropOrRed/fig/out_Reno_DropTail.txt\" using 2:3 axis x1y1 w lp title \"cwnd\" rgb \"red\"')\n",
    "gp.c('replot \"/home/tkurihana/class/networking/homework/practice/hw_test2/question1/DropOrRed/throughput_per100ms.txt\" using 1:2 axis x1y2 w lp title \"throughput\"')\n",
    "gp.p('/home/tkurihana/class/networking/homework/practice/hw_test2/question1/DropOrRed/fig/thpt_cwnd_Reno_DropTail.eps')"
   ]
  },
  {
   "cell_type": "markdown",
   "metadata": {},
   "source": [
    "- Reno RED"
   ]
  },
  {
   "cell_type": "code",
   "execution_count": 323,
   "metadata": {},
   "outputs": [],
   "source": [
    "datadir='/home/tkurihana/class/networking/homework/practice/hw_test2/question1/DropOrRed'\n",
    "filename = os.path.join(datadir,'out_Reno_RED.tr')\n",
    "df_throughput_ps = compute_throughput_ps(filename, dt=0.1)"
   ]
  },
  {
   "cell_type": "code",
   "execution_count": 324,
   "metadata": {},
   "outputs": [],
   "source": [
    "np.savetxt(os.path.join(datadir, 'reno_red_throughput_per100ms.txt'), df_throughput_ps.T)"
   ]
  },
  {
   "cell_type": "code",
   "execution_count": 370,
   "metadata": {},
   "outputs": [],
   "source": [
    "### Plot all\n",
    "gp.figure()\n",
    "gp.c('set y2tics')\n",
    "gp.c('set title \"Throughput vs Congestion Window\" font \"Helveticam, 15\"; set xlabel \"time [sec]\"; set ylabel \"# of packets\"; set y2label \"Throughput [Mb]\"')\n",
    "gp.c('set size ratio 0.8')\n",
    "gp.c('set grid')\n",
    "gp.c('set key right top')\n",
    "gp.c('set key inside')\n",
    "gp.c('set tics font \"Helvetica, 10\"')\n",
    "gp.c('set datafile separator \"\\t ,\"')\n",
    "gp.c('set yrange[0:40]')\n",
    "gp.c('set y2range[0:8]')\n",
    "#gp.c('set autoscale y')\n",
    "#gp.c('set autoscale x')\n",
    "gp.c('plot \"/home/tkurihana/class/networking/homework/practice/hw_test2/question1/DropOrRed/fig/out_Reno_RED.txt\" using 2:3 axis x1y1 w lp title \"cwnd\" rgb \"red\"')\n",
    "gp.c('replot \"/home/tkurihana/class/networking/homework/practice/hw_test2/question1/DropOrRed/reno_red_throughput_per100ms.txt\" using 1:2 axis x1y2 w lp title \"throughput\"')\n",
    "gp.p('/home/tkurihana/class/networking/homework/practice/hw_test2/question1/DropOrRed/fig/thpt_cwnd_Reno_RED.eps')"
   ]
  },
  {
   "cell_type": "markdown",
   "metadata": {},
   "source": [
    "- Sack-DropTail"
   ]
  },
  {
   "cell_type": "code",
   "execution_count": 326,
   "metadata": {},
   "outputs": [],
   "source": [
    "datadir='/home/tkurihana/class/networking/homework/practice/hw_test2/question1/DropOrRed'\n",
    "filename = os.path.join(datadir,'out_Sack1_DropTail.tr')\n",
    "df_throughput_ps = compute_throughput_ps(filename, dt=0.1)"
   ]
  },
  {
   "cell_type": "code",
   "execution_count": 327,
   "metadata": {},
   "outputs": [],
   "source": [
    "np.savetxt(os.path.join(datadir, 'sack_droptail_throughput_per100ms.txt'), df_throughput_ps.T)"
   ]
  },
  {
   "cell_type": "code",
   "execution_count": 369,
   "metadata": {},
   "outputs": [],
   "source": [
    "### Plot all\n",
    "gp.figure()\n",
    "gp.c('set y2tics')\n",
    "gp.c('set title \"Throughput vs Congestion Window\" font \"Helveticam, 15\"; set xlabel \"time [sec]\"; set ylabel \"# of packets\"; set y2label \"Throughput [Mb]\"')\n",
    "gp.c('set size ratio 0.8')\n",
    "gp.c('set grid')\n",
    "gp.c('set key right top')\n",
    "gp.c('set key inside')\n",
    "gp.c('set tics font \"Helvetica, 10\"')\n",
    "gp.c('set datafile separator \"\\t ,\"')\n",
    "gp.c('set yrange[0:40]')\n",
    "gp.c('set y2range[0:8]')\n",
    "#gp.c('set autoscale y')\n",
    "#gp.c('set autoscale x')\n",
    "gp.c('plot \"/home/tkurihana/class/networking/homework/practice/hw_test2/question1/DropOrRed/fig/out_Sack1_DropTail.txt\" using 2:3 axis x1y1 w lp title \"cwnd\" rgb \"red\"')\n",
    "gp.c('replot \"/home/tkurihana/class/networking/homework/practice/hw_test2/question1/DropOrRed/sack_droptail_throughput_per100ms.txt\" using 1:2 axis x1y2 w lp title \"throughput\"')\n",
    "gp.p('/home/tkurihana/class/networking/homework/practice/hw_test2/question1/DropOrRed/fig/thpt_cwnd_sack_droptail.eps')"
   ]
  },
  {
   "cell_type": "markdown",
   "metadata": {},
   "source": [
    "- Sack-RED"
   ]
  },
  {
   "cell_type": "code",
   "execution_count": 333,
   "metadata": {},
   "outputs": [],
   "source": [
    "datadir='/home/tkurihana/class/networking/homework/practice/hw_test2/question1/DropOrRed'\n",
    "filename = os.path.join(datadir,'out_Sack1_RED.tr')\n",
    "df_throughput_ps = compute_throughput_ps(filename, dt=0.1)"
   ]
  },
  {
   "cell_type": "code",
   "execution_count": 334,
   "metadata": {},
   "outputs": [],
   "source": [
    "np.savetxt(os.path.join(datadir, 'sack_red_throughput_per100ms.txt'), df_throughput_ps.T)"
   ]
  },
  {
   "cell_type": "code",
   "execution_count": 368,
   "metadata": {},
   "outputs": [],
   "source": [
    "### Plot all\n",
    "gp.figure()\n",
    "gp.c('set y2tics')\n",
    "gp.c('set title \"Throughput vs Congestion Window\" font \"Helveticam, 15\"; set xlabel \"time [sec]\"; set ylabel \"# of packets\"; set y2label \"Throughput [Mb]\"')\n",
    "gp.c('set size ratio 0.8')\n",
    "gp.c('set grid')\n",
    "gp.c('set key right top')\n",
    "gp.c('set key inside')\n",
    "gp.c('set tics font \"Helvetica, 10\"')\n",
    "gp.c('set datafile separator \"\\t ,\"')\n",
    "gp.c('set yrange[0:40]')\n",
    "gp.c('set y2range[0:8]')\n",
    "#gp.c('set autoscale y')\n",
    "#gp.c('set autoscale x')\n",
    "gp.c('plot \"/home/tkurihana/class/networking/homework/practice/hw_test2/question1/DropOrRed/fig/out_Sack1_RED.txt\" using 2:3 axis x1y1 w lp title \"cwnd\" rgb \"red\"')\n",
    "gp.c('replot \"/home/tkurihana/class/networking/homework/practice/hw_test2/question1/DropOrRed/sack_red_throughput_per100ms.txt\" using 1:2 axis x1y2 w lp title \"throughput\"')\n",
    "gp.p('/home/tkurihana/class/networking/homework/practice/hw_test2/question1/DropOrRed/fig/thpt_cwnd_sack_red.eps')"
   ]
  },
  {
   "cell_type": "markdown",
   "metadata": {},
   "source": [
    "------------------------\n",
    "### Q.2 part2 [3 UDPs] Make plot for each UDP flow in time-series"
   ]
  },
  {
   "cell_type": "code",
   "execution_count": 346,
   "metadata": {},
   "outputs": [],
   "source": [
    "datadir='/home/tkurihana/class/networking/homework/practice/hw_test2/question2'\n",
    "filename = os.path.join(datadir,'out_DropTail.tr')\n",
    "df_throughput_ps = compute_throughput_ps(filename, dt=0.1, ctime=10)"
   ]
  },
  {
   "cell_type": "code",
   "execution_count": 347,
   "metadata": {},
   "outputs": [
    {
     "data": {
      "text/plain": [
       "[<matplotlib.lines.Line2D at 0x7f5590682828>]"
      ]
     },
     "execution_count": 347,
     "metadata": {},
     "output_type": "execute_result"
    },
    {
     "data": {
      "image/png": "[encoded data removed]",
      "text/plain": [
       "<Figure size 432x288 with 1 Axes>"
      ]
     },
     "metadata": {
      "needs_background": "light"
     },
     "output_type": "display_data"
    }
   ],
   "source": [
    "plt.plot(df_throughput_ps[0], df_throughput_ps[1])"
   ]
  },
  {
   "cell_type": "code",
   "execution_count": 358,
   "metadata": {},
   "outputs": [],
   "source": [
    "datadir='/home/tkurihana/class/networking/homework/practice/hw_test2/question2'\n",
    "filename = os.path.join(datadir,'out_RED.tr')\n",
    "df_throughput_ps = compute_throughput_ps(filename, dt=1, ctime=10)"
   ]
  },
  {
   "cell_type": "code",
   "execution_count": 359,
   "metadata": {},
   "outputs": [
    {
     "data": {
      "text/plain": [
       "[<matplotlib.lines.Line2D at 0x7f5590396f98>]"
      ]
     },
     "execution_count": 359,
     "metadata": {},
     "output_type": "execute_result"
    },
    {
     "data": {
      "image/png": "[encoded data removed]",
      "text/plain": [
       "<Figure size 432x288 with 1 Axes>"
      ]
     },
     "metadata": {
      "needs_background": "light"
     },
     "output_type": "display_data"
    }
   ],
   "source": [
    "plt.plot(df_throughput_ps[0], df_throughput_ps[1])"
   ]
  },
  {
   "cell_type": "code",
   "execution_count": null,
   "metadata": {},
   "outputs": [],
   "source": [
    "def compute_throughput_latency_ps(filename, dt=0.1):\n",
    "    \"\"\" Per X second\n",
    "        compute average loss rate & bandwidth\n",
    "        filename : directory + filename\n",
    "        ctime : simulation computing time 10s for all test \n",
    "    \"\"\"\n",
    "    \n",
    "    ### write fn to compute throughput\n",
    "    def _compute_throughput_ps(df,dt, stime=0, ctime=20.0, megabits=True, send=0, recv=1):\n",
    "        th = df[['time','pkt size']]# unit; bytes\n",
    "        \n",
    "        # delta t\n",
    "        dx = 0.0\n",
    "        time_list = []\n",
    "        throughput_list = []\n",
    "        while dx <= ctime:\n",
    "            _packet = th[(th['time']>= dx) & (th['time'] < dt+dx) ]['pkt size'].sum()\n",
    "            if megabits:\n",
    "                pkt = float(_packet) * 8 / 100000\n",
    "            else:\n",
    "                pkt = float(_packet)\n",
    "            throughput_list.append(pkt)\n",
    "            time_list.append(dx)\n",
    "            \n",
    "            ## increment\n",
    "            dx += dt\n",
    "        time_array = np.asarray(time_list).reshape(1,len(time_list))\n",
    "        throughput_array = np.asarray(throughput_list).reshape(1,len(time_list))\n",
    "        \n",
    "        ths = np.concatenate([time_array, throughput_array], axis=0)\n",
    "        return ths\n",
    "    \n",
    "    data = pd.read_table(filename,header=None,sep=' ',) \n",
    "    data.columns = ['event', 'time', 'from node', 'to node', \n",
    "              'pkt type', 'pkt size', 'flags', 'fid', \n",
    "              'src addr', 'dst addr', 'seq num', 'pkt id']\n",
    "    # throughput\n",
    "    arrv_data = data[data['event'] == 'r'] # + in-queue / - out-queue / r arrive packet\n",
    "    #send_data = data[data['event'] == '-']\n",
    "    throughput = _compute_throughput_ps(arrv_data, dt=dt, ctime=20.1, megabits=True)\n",
    "    return throughput"
   ]
  }
 ],
 "metadata": {
  "kernelspec": {
   "display_name": "Python 3",
   "language": "python",
   "name": "python3"
  },
  "language_info": {
   "codemirror_mode": {
    "name": "ipython",
    "version": 3
   },
   "file_extension": ".py",
   "mimetype": "text/x-python",
   "name": "python",
   "nbconvert_exporter": "python",
   "pygments_lexer": "ipython3",
   "version": "3.6.9"
  }
 },
 "nbformat": 4,
 "nbformat_minor": 2
}
