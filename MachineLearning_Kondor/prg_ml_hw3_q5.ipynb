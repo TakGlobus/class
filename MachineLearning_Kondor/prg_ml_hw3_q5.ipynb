{
 "cells": [
  {
   "cell_type": "code",
   "execution_count": 1,
   "metadata": {},
   "outputs": [],
   "source": [
    "import numpy as np"
   ]
  },
  {
   "cell_type": "code",
   "execution_count": 2,
   "metadata": {},
   "outputs": [],
   "source": [
    "import math"
   ]
  },
  {
   "cell_type": "code",
   "execution_count": 6,
   "metadata": {},
   "outputs": [
    {
     "data": {
      "text/plain": [
       "array([[ 1.,  2.,  4.],\n",
       "       [ 3., 10., 10.],\n",
       "       [ 5.,  5.,  2.]])"
      ]
     },
     "execution_count": 6,
     "metadata": {},
     "output_type": "execute_result"
    }
   ],
   "source": [
    "a = np.ones((3,3))\n",
    "a[0,1] = 2\n",
    "a[0,2] = 4\n",
    "a[1,0] = 3\n",
    "a[2,0] = 5\n",
    "a[1,1] = 10\n",
    "a[1,2] = 10\n",
    "a[2,1] = 5\n",
    "a[2,2] = 2\n",
    "a"
   ]
  },
  {
   "cell_type": "code",
   "execution_count": 7,
   "metadata": {},
   "outputs": [
    {
     "name": "stdout",
     "output_type": "stream",
     "text": [
      "1 1\n",
      "3.0\n",
      "13.0\n",
      "1 2\n",
      "7.0\n",
      "23.0\n",
      "2 1\n",
      "16.0\n",
      "10.0\n",
      "2 2\n",
      "30.0\n",
      "12.0\n"
     ]
    }
   ],
   "source": [
    "nx,ny = a.shape\n",
    "int_img = np.ones((nx,ny))\n",
    "int_img[0,0] = a[0,0]\n",
    "for i in range(nx):\n",
    "    for j in range(ny):\n",
    "        if j > 0 and i > 0:\n",
    "            int_img[i,j] = int_img[i-1,j] + sum([ a[i,k] for k in range(j+1)])\n",
    "            print(i,j)\n",
    "            print(int_img[i-1,j])\n",
    "            print(sum([ a[i,k] for k in range(j+1)]))\n",
    "        elif j==0 and i>0:\n",
    "            int_img[i,0] = int_img[i-1,0] + a[i,0]\n",
    "        elif i==0 and j>0:\n",
    "            int_img[0,j] = int_img[0,j-1] + a[0,j]"
   ]
  },
  {
   "cell_type": "code",
   "execution_count": 8,
   "metadata": {},
   "outputs": [
    {
     "data": {
      "text/plain": [
       "array([[ 1.,  3.,  7.],\n",
       "       [ 4., 16., 30.],\n",
       "       [ 9., 26., 42.]])"
      ]
     },
     "execution_count": 8,
     "metadata": {},
     "output_type": "execute_result"
    }
   ],
   "source": [
    "int_img"
   ]
  },
  {
   "cell_type": "code",
   "execution_count": 16,
   "metadata": {},
   "outputs": [],
   "source": [
    "def feature_list(nx=64,ny=64,height=2,width=1,stride=1):\n",
    "    f12_list = []\n",
    "    f21_list = []\n",
    "    for j in range(0,ny,stride):\n",
    "        for i in range(0,nx, stride):\n",
    "            ### 1 by 2 (x by y)\n",
    "            if i+stride+width <= nx-1 and j+height <= ny-1:\n",
    "                #shaded\n",
    "                xs, ys  = i,j # upper left\n",
    "                _xs,_ys = i+width, j+height# bottom right\n",
    "                # unshaded\n",
    "                xu, yu  = i+stride,j # upper left\n",
    "                _xu,_yu = i+stride+width, j+height# bottom right\n",
    "                # shaded + unshaded\n",
    "                f12_list += [[[xs, ys],[_xs, _ys],[xu, yu],[_xu, _yu]]]\n",
    "            ### 2 by 1 (x by y)\n",
    "            if i+stride+width <= nx-1 and j+stride+width <= ny-1:\n",
    "                #shaded\n",
    "                xs, ys  = i,j # upper left\n",
    "                _xs,_ys = i+height, j+width# bottom right\n",
    "                # unshaded\n",
    "                xu, yu  = i,j+stride # upper left\n",
    "                _xu,_yu = i+height, j+stride+width# bottom right\n",
    "                # shaded + unshaded\n",
    "                f21_list += [[[xs, ys],[_xs, _ys],[xu, yu],[_xu, _yu]]]\n",
    "    return f12_list+f21_list"
   ]
  },
  {
   "cell_type": "code",
   "execution_count": 10,
   "metadata": {},
   "outputs": [
    {
     "data": {
      "text/plain": [
       "3"
      ]
     },
     "execution_count": 10,
     "metadata": {},
     "output_type": "execute_result"
    }
   ],
   "source": [
    "flist = feature_list(nx=3, ny=3, height=1)\n",
    "len(flist)"
   ]
  },
  {
   "cell_type": "code",
   "execution_count": 11,
   "metadata": {},
   "outputs": [
    {
     "data": {
      "text/plain": [
       "[[[0, 0], [1, 1], [1, 0], [2, 1]],\n",
       " [[0, 1], [1, 2], [1, 1], [2, 2]],\n",
       " [[0, 0], [1, 1], [0, 1], [1, 2]]]"
      ]
     },
     "execution_count": 11,
     "metadata": {},
     "output_type": "execute_result"
    }
   ],
   "source": [
    "flist"
   ]
  },
  {
   "cell_type": "code",
   "execution_count": 17,
   "metadata": {},
   "outputs": [],
   "source": [
    "def compute_feature(int_img_rep, feat_lst, feat_idx):\n",
    "    \"\"\" int_img_rep: the N x 64 x 64 numpy matrix of the integral image representation\n",
    "        feat_lst: list of features\n",
    "        feat_idx: integer, index of a feature (in feat_lst)\n",
    "        Returns: an N x 1 numpy matrix of the feature evaluations for each image\n",
    "    \"\"\"\n",
    "    n, nx, ny = int_img_rep.shape\n",
    "    feat_eval = []\n",
    "\n",
    "    def _compute_intensity(int_img, ul, rb):\n",
    "        \"\"\"\n",
    "        compute intensity\n",
    "        x: upper left [ix, jx]\n",
    "        y: bottom right [iy, jy]\n",
    "        \n",
    "        *(ix,iy)---*\n",
    "        |          |\n",
    "        |          |\n",
    "        *----------*(jx,jy)\n",
    "        \"\"\"\n",
    "        ix, iy = ul # upper left x,y\n",
    "        jx, jy = rb #  bottom right x, y\n",
    "        if ix-1 >= 0 and iy-1 >= 0  :\n",
    "            intensity = int_img[jx,jy] + int_img[ix-1,iy-1] - int_img[ix-1,jy] - int_img[jx,iy-1]\n",
    "        elif ix-1 >=0 and iy-1<0:\n",
    "            intensity = int_img[jx,jy] - int_img[ix-1,jy]\n",
    "        elif ix-1 < 0 and iy-1>=0:\n",
    "            intensity = int_img[jx,jy]  - int_img[jx,iy-1]\n",
    "        elif ix-1 < 0 and iy-1< 0:\n",
    "            intensity = int_img[jx,jy] \n",
    "        return intensity\n",
    "    \n",
    "    for img in int_img_rep:\n",
    "        \"\"\"\n",
    "        x: upper left in shaded\n",
    "        y: bottom right in shaded\n",
    "        z: upper left in unshaded\n",
    "        s: bottom right in unshaded\n",
    "        \"\"\"\n",
    "        x,y,z,s = feat_lst[feat_idx] \n",
    "        shaded   = _compute_intensity(img, x,y) \n",
    "        unshaded = _compute_intensity(img, z,s)\n",
    "        feat_eval +=[shaded - unshaded]\n",
    "    \n",
    "    return np.asarray(feat_eval)"
   ]
  },
  {
   "cell_type": "markdown",
   "metadata": {},
   "source": [
    "## Question 5"
   ]
  },
  {
   "cell_type": "markdown",
   "metadata": {},
   "source": [
    "### 5.0 Adaboost"
   ]
  },
  {
   "cell_type": "code",
   "execution_count": null,
   "metadata": {},
   "outputs": [],
   "source": [
    "def ada_boost(x):\n",
    "    ndata = 10\n",
    "    nt = 10\n",
    "    D = np.zeros((ndata,nt))\n",
    "    for i in len(ndata):\n",
    "        D[i,0] = 1/ndata\n",
    "        for it in range(nt):\n",
    "            ht = 0 #epsilon ??\n",
    "            alpha_t = 0.5*math.log((1-epsilon)/epsilon)\n",
    "            zt = 2*np.sqrt((epsilon*(1-epsilon)))\n",
    "            \n",
    "            for j in in len(ndata):\n",
    "                D[j,it+1] = D[j, it]* math.exp(-1*alpha_t*y_t*ht(ix))/zt\n",
    "            # f\n",
    "            f += alpha_t*ht  \n",
    "    return h = sgn(f)"
   ]
  },
  {
   "cell_type": "code",
   "execution_count": null,
   "metadata": {},
   "outputs": [],
   "source": [
    "def ada_boost(x):\n",
    "    \"\"\"\n",
    "    D: weights\n",
    "    epsilon:Classifier’s error rate.\n",
    "            This is just the number of misclassifications over the training set \n",
    "            divided by the training set size.\n",
    "    \"\"\"\n",
    "    ndata = 10\n",
    "    nt = 10\n",
    "    D = np.zeros((ndata,nt))\n",
    "    D[:,0] = 1/len(ndata)\n",
    "    for i in len(ndata):\n",
    "        \n",
    "        for it in range(nt):\n",
    "            ht = 0 #epsilon ??\n",
    "            alpha_t = 0.5*math.log((1-epsilon)/epsilon)\n",
    "            zt = 2*np.sqrt((epsilon*(1-epsilon)))\n",
    "            \n",
    "            for j in in len(ndata):\n",
    "                D[j,it+1] = D[j, it]* math.exp(-1*alpha_t*y_t*ht(ix))/zt\n",
    "            # f\n",
    "            f += alpha_t*ht  \n",
    "    return h = sgn(f)"
   ]
  },
  {
   "cell_type": "code",
   "execution_count": null,
   "metadata": {},
   "outputs": [],
   "source": []
  },
  {
   "cell_type": "markdown",
   "metadata": {},
   "source": [
    "### 5.1"
   ]
  },
  {
   "cell_type": "code",
   "execution_count": 20,
   "metadata": {},
   "outputs": [],
   "source": [
    "def opt_p_theta(int_img_rep, feat_lst, weights, feat_idx):\n",
    "    \"\"\"\n",
    "    p = {+1,-1}\n",
    "    theta = threshold\n",
    "    \"\"\"\n",
    "    p, theta = 0,0\n",
    "    #value of feature_idx on example 1-All\n",
    "    eval_list = [] # f(x_sigma)\n",
    "    for i in range(len(feat_lst)):\n",
    "        eval_list += [compute_feature(int_img_rep=int_img_rep, feat_lst=feat_lst, feat_idx=i)]\n",
    "    #permutation\n",
    "    eval_list.sort() # f(x_sigma1) < f(x_sigma2) ... < f(x_sigmaN)\n",
    "    \n",
    "    #potential theta\n",
    "    tmp_theta = []\n",
    "    theta_left = eval_list[feat_idx]\n",
    "    if feat_idx+ 1 <= len(eval_list):\n",
    "        theta_right = eval_list[feat_idx+1]\n",
    "    else:\n",
    "        theta_right = theta_left\n",
    "    \n",
    "    # decide theta\n",
    "    \"\"\"\n",
    "     f(x_sigma_j) <= theta <= f(x_sigma_j+1) j:= feat_idx\n",
    "    \"\"\"\n",
    "    theta = theta_left + (theta_right-theta_left)/2\n",
    "    \n",
    "    #decide p\n",
    "    p=-1\n",
    "    \n",
    "    return p, theta"
   ]
  },
  {
   "cell_type": "code",
   "execution_count": 13,
   "metadata": {},
   "outputs": [
    {
     "data": {
      "text/plain": [
       "array([0.33333333, 0.33333333, 0.33333333])"
      ]
     },
     "execution_count": 13,
     "metadata": {},
     "output_type": "execute_result"
    }
   ],
   "source": [
    "# first wegiht\n",
    "weight = np.ones((3))*(1/3)\n",
    "weight"
   ]
  },
  {
   "cell_type": "code",
   "execution_count": 22,
   "metadata": {},
   "outputs": [
    {
     "data": {
      "text/plain": [
       "(-1, array([-4.]))"
      ]
     },
     "execution_count": 22,
     "metadata": {},
     "output_type": "execute_result"
    }
   ],
   "source": [
    "opt_p_theta(int_img.reshape(1,3,3), flist, weight, 1)"
   ]
  },
  {
   "cell_type": "markdown",
   "metadata": {},
   "source": [
    "#### Practice for question 5"
   ]
  },
  {
   "cell_type": "code",
   "execution_count": null,
   "metadata": {},
   "outputs": [],
   "source": [
    "# Assume now is time step=1\n",
    "# weight is equal\n",
    "# number of data is 10\n",
    "# matrix size is 24 by 24"
   ]
  },
  {
   "cell_type": "code",
   "execution_count": 3,
   "metadata": {},
   "outputs": [],
   "source": [
    "nfile = 10\n",
    "npatch=24\n",
    "imgs = np.ones((nfile,npatch,npatch))"
   ]
  },
  {
   "cell_type": "code",
   "execution_count": 4,
   "metadata": {},
   "outputs": [],
   "source": [
    "def compute_integral_image(imgs):\n",
    "    \"\"\"\n",
    "    IN: imgs. np.ndarray, shape [#images, 64,64]\n",
    "    \"\"\"\n",
    "    \n",
    "    def _compute_int_img_unit(img):\n",
    "        \"\"\"\n",
    "            compute integral image for one image \n",
    "        \"\"\"\n",
    "        nx, ny = img.shape\n",
    "        int_img = np.ones((nx,ny))\n",
    "        int_img[0,0] = img[0,0]\n",
    "        for i in range(nx):\n",
    "            for j in range(ny):\n",
    "                if j > 0 and i > 0:\n",
    "                    int_img[i,j] = int_img[i-1,j] + sum([ img[i,k] for k in range(j+1)])\n",
    "                elif j==0 and i>0:\n",
    "                    int_img[i,0] = int_img[i-1,0] + img[i,0]\n",
    "                elif i==0 and j>0:\n",
    "                    int_img[0,j] = int_img[0,j-1] + img[0,j]\n",
    "        return int_img\n",
    "    \n",
    "    nimg, nx, ny = imgs.shape\n",
    "    int_img_list = []\n",
    "    for img in imgs:\n",
    "        int_img_list += [_compute_int_img_unit(img).reshape(1,nx,ny)]\n",
    "    int_imgs = np.concatenate(int_img_list, axis=0)\n",
    "    return int_imgs"
   ]
  },
  {
   "cell_type": "code",
   "execution_count": 5,
   "metadata": {},
   "outputs": [],
   "source": [
    "int_imgs = compute_integral_image(imgs)"
   ]
  },
  {
   "cell_type": "code",
   "execution_count": 7,
   "metadata": {},
   "outputs": [
    {
     "data": {
      "text/plain": [
       "(10, 24, 24)"
      ]
     },
     "execution_count": 7,
     "metadata": {},
     "output_type": "execute_result"
    }
   ],
   "source": [
    "int_imgs.shape"
   ]
  },
  {
   "cell_type": "code",
   "execution_count": 8,
   "metadata": {},
   "outputs": [],
   "source": [
    "w = np.ones((nfile))*(1/nfile) # weight"
   ]
  },
  {
   "cell_type": "code",
   "execution_count": 9,
   "metadata": {},
   "outputs": [
    {
     "data": {
      "text/plain": [
       "array([0.1, 0.1, 0.1, 0.1, 0.1, 0.1, 0.1, 0.1, 0.1, 0.1])"
      ]
     },
     "execution_count": 9,
     "metadata": {},
     "output_type": "execute_result"
    }
   ],
   "source": [
    "w"
   ]
  },
  {
   "cell_type": "code",
   "execution_count": 15,
   "metadata": {},
   "outputs": [
    {
     "data": {
      "text/plain": [
       "array([-1.,  1.,  1.,  1.,  1., -1.,  1.,  1.,  1.,  1.])"
      ]
     },
     "execution_count": 15,
     "metadata": {},
     "output_type": "execute_result"
    }
   ],
   "source": [
    "### make sudo label\n",
    "y_true = np.ones((nfile))\n",
    "for i in range(len(y_true)):\n",
    "    if i < int(nfile/4):\n",
    "        y_true[i] = -1\n",
    "    else:\n",
    "        y_true[i] = 1\n",
    "np.random.shuffle(y_true)\n",
    "y_true"
   ]
  },
  {
   "cell_type": "code",
   "execution_count": 19,
   "metadata": {},
   "outputs": [
    {
     "data": {
      "text/plain": [
       "968"
      ]
     },
     "execution_count": 19,
     "metadata": {},
     "output_type": "execute_result"
    }
   ],
   "source": [
    "#### feature\n",
    "flist = feature_list(nx=24,ny=24)\n",
    "len(flist)"
   ]
  },
  {
   "cell_type": "code",
   "execution_count": 23,
   "metadata": {},
   "outputs": [],
   "source": [
    "def dev_opt_p_theta(int_img_rep, feat_lst, weights, feat_idx, y_true):\n",
    "    \"\"\"\n",
    "    p = {+1,-1}\n",
    "    theta = threshold\n",
    "    \"\"\"\n",
    "    p, theta = 0,0\n",
    "    #value of feature_idx on example 1-All\n",
    "    eval_list = [] # f(x_sigma)\n",
    "    for i in range(len(feat_lst)):\n",
    "        eval_list += [compute_feature(int_img_rep=int_img_rep, feat_lst=feat_lst, feat_idx=i)]\n",
    "    #permutation\n",
    "    eval_list.sort() # f(x_sigma1) < f(x_sigma2) ... < f(x_sigmaN)\n",
    "    \n",
    "    #potential theta\n",
    "    tmp_theta = []\n",
    "    theta_left = eval_list[feat_idx]\n",
    "    if feat_idx+ 1 <= len(eval_list):\n",
    "        theta_right = eval_list[feat_idx+1]\n",
    "    else:\n",
    "        theta_right = theta_left\n",
    "    \n",
    "    # decide theta\n",
    "    \"\"\"\n",
    "     f(x_sigma_j) <= theta <= f(x_sigma_j+1) j:= feat_idx\n",
    "    \"\"\"\n",
    "    theta = theta_left + (theta_right-theta_left)/2\n",
    "    \n",
    "    #decide p\n",
    "    plus_vec  = np.ones(len(y_true))## length is y_true\n",
    "    minus_vec = np.ones(len(y_true))\n",
    "    plus_vec[np.where(y_true == 1)] = 1 # binary vector\n",
    "    minus_vec[np.where(y_true == -1)] = 1\n",
    "    \n",
    "    s_plus = np.sum(np.dot(weights, plus_vec)[:feat_idx])\n",
    "    s_minus = np.sum(np.dot(weights, minus_vec)[:feat_idx])\n",
    "    t_plus = np.sum(np.dot(weights, plus_vec))\n",
    "    t_minus = np.sum(np.dot(weights, minus_vec))\n",
    "    \n",
    "    epsilon = min((s_plus+(t_minus-s_minus)), (s_minus+(t_plus-s_plus)))\n",
    "    p = np.sign(epsilon)\n",
    "    \n",
    "    return p, theta"
   ]
  },
  {
   "cell_type": "code",
   "execution_count": 21,
   "metadata": {},
   "outputs": [
    {
     "name": "stdout",
     "output_type": "stream",
     "text": [
      "[[1 2]\n",
      " [3 4]] [1 2]\n"
     ]
    },
    {
     "data": {
      "text/plain": [
       "array([ 5, 11])"
      ]
     },
     "execution_count": 21,
     "metadata": {},
     "output_type": "execute_result"
    }
   ],
   "source": [
    "a = np.asarray([[1,2],[3,4]])\n",
    "b = np.asarray([1,2])\n",
    "print(a,b)\n",
    "np.dot(a,b)"
   ]
  },
  {
   "cell_type": "code",
   "execution_count": 22,
   "metadata": {},
   "outputs": [
    {
     "data": {
      "text/plain": [
       "16"
      ]
     },
     "execution_count": 22,
     "metadata": {},
     "output_type": "execute_result"
    }
   ],
   "source": [
    "c = np.dot(a,b)\n",
    "np.sum(c)"
   ]
  },
  {
   "cell_type": "code",
   "execution_count": 26,
   "metadata": {},
   "outputs": [
    {
     "ename": "ValueError",
     "evalue": "The truth value of an array with more than one element is ambiguous. Use a.any() or a.all()",
     "output_type": "error",
     "traceback": [
      "\u001b[0;31m---------------------------------------------------------------------------\u001b[0m",
      "\u001b[0;31mValueError\u001b[0m                                Traceback (most recent call last)",
      "\u001b[0;32m<ipython-input-26-827613217757>\u001b[0m in \u001b[0;36m<module>\u001b[0;34m\u001b[0m\n\u001b[0;32m----> 1\u001b[0;31m \u001b[0mdev_opt_p_theta\u001b[0m\u001b[0;34m(\u001b[0m\u001b[0mint_imgs\u001b[0m\u001b[0;34m,\u001b[0m \u001b[0mflist\u001b[0m\u001b[0;34m,\u001b[0m \u001b[0mw\u001b[0m\u001b[0;34m,\u001b[0m \u001b[0;36m10\u001b[0m\u001b[0;34m,\u001b[0m \u001b[0my_true\u001b[0m\u001b[0;34m)\u001b[0m\u001b[0;34m\u001b[0m\u001b[0m\n\u001b[0m",
      "\u001b[0;32m<ipython-input-23-5e406ce9e750>\u001b[0m in \u001b[0;36mdev_opt_p_theta\u001b[0;34m(int_img_rep, feat_lst, weights, feat_idx, y_true)\u001b[0m\n\u001b[1;32m     10\u001b[0m         \u001b[0meval_list\u001b[0m \u001b[0;34m+=\u001b[0m \u001b[0;34m[\u001b[0m\u001b[0mcompute_feature\u001b[0m\u001b[0;34m(\u001b[0m\u001b[0mint_img_rep\u001b[0m\u001b[0;34m=\u001b[0m\u001b[0mint_img_rep\u001b[0m\u001b[0;34m,\u001b[0m \u001b[0mfeat_lst\u001b[0m\u001b[0;34m=\u001b[0m\u001b[0mfeat_lst\u001b[0m\u001b[0;34m,\u001b[0m \u001b[0mfeat_idx\u001b[0m\u001b[0;34m=\u001b[0m\u001b[0mi\u001b[0m\u001b[0;34m)\u001b[0m\u001b[0;34m]\u001b[0m\u001b[0;34m\u001b[0m\u001b[0m\n\u001b[1;32m     11\u001b[0m     \u001b[0;31m#permutation\u001b[0m\u001b[0;34m\u001b[0m\u001b[0;34m\u001b[0m\u001b[0m\n\u001b[0;32m---> 12\u001b[0;31m     \u001b[0meval_list\u001b[0m\u001b[0;34m.\u001b[0m\u001b[0msort\u001b[0m\u001b[0;34m(\u001b[0m\u001b[0;34m)\u001b[0m \u001b[0;31m# f(x_sigma1) < f(x_sigma2) ... < f(x_sigmaN)\u001b[0m\u001b[0;34m\u001b[0m\u001b[0m\n\u001b[0m\u001b[1;32m     13\u001b[0m \u001b[0;34m\u001b[0m\u001b[0m\n\u001b[1;32m     14\u001b[0m     \u001b[0;31m#potential theta\u001b[0m\u001b[0;34m\u001b[0m\u001b[0;34m\u001b[0m\u001b[0m\n",
      "\u001b[0;31mValueError\u001b[0m: The truth value of an array with more than one element is ambiguous. Use a.any() or a.all()"
     ]
    }
   ],
   "source": [
    "dev_opt_p_theta(int_imgs, flist, w, 10, y_true)"
   ]
  },
  {
   "cell_type": "code",
   "execution_count": null,
   "metadata": {},
   "outputs": [],
   "source": []
  }
 ],
 "metadata": {
  "kernelspec": {
   "display_name": "Python 3",
   "language": "python",
   "name": "python3"
  },
  "language_info": {
   "codemirror_mode": {
    "name": "ipython",
    "version": 3
   },
   "file_extension": ".py",
   "mimetype": "text/x-python",
   "name": "python",
   "nbconvert_exporter": "python",
   "pygments_lexer": "ipython3",
   "version": "3.6.6"
  }
 },
 "nbformat": 4,
 "nbformat_minor": 2
}
