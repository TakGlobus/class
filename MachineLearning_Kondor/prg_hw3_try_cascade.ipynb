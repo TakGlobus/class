{
 "cells": [
  {
   "cell_type": "code",
   "execution_count": 1,
   "metadata": {},
   "outputs": [],
   "source": [
    "import os\n",
    "import math\n",
    "import glob\n",
    "import numpy as np\n",
    "import imageio"
   ]
  },
  {
   "cell_type": "code",
   "execution_count": 37,
   "metadata": {},
   "outputs": [],
   "source": [
    "import copy"
   ]
  },
  {
   "cell_type": "code",
   "execution_count": 12,
   "metadata": {},
   "outputs": [],
   "source": [
    "import matplotlib.pyplot as plt"
   ]
  },
  {
   "cell_type": "code",
   "execution_count": 85,
   "metadata": {},
   "outputs": [],
   "source": [
    "from matplotlib import patches as mpl_patches"
   ]
  },
  {
   "cell_type": "markdown",
   "metadata": {},
   "source": [
    "### Functions"
   ]
  },
  {
   "cell_type": "code",
   "execution_count": 2,
   "metadata": {},
   "outputs": [],
   "source": [
    "def img_sort(img1, img2):\n",
    "    \"\"\"\n",
    "    sort image data\n",
    "    img1: target img (y=+1)\n",
    "    img2: background img (y=-1)\n",
    "    \"\"\"\n",
    "    def sort_index(n1=100, n2=100):\n",
    "        clabel = np.array([i for i in range(n1+n2)])\n",
    "        return np.random.permutation(clabel)\n",
    "    img_list = []\n",
    "    label_list = []\n",
    "    n1 = len(img1)\n",
    "    n2 = len(img2)\n",
    "    label_idx = sort_index(n1=n1, n2=n2)\n",
    "    for i in label_idx:\n",
    "        if i < n1:\n",
    "            img_list.append(img1[i])\n",
    "            label_list+=[1]\n",
    "        elif i >= n1:\n",
    "            img_list.append(img2[i-n1])\n",
    "            label_list+=[-1]\n",
    "    imgs = np.asarray(img_list)\n",
    "    labels = np.asarray(label_list)\n",
    "    return imgs, labels"
   ]
  },
  {
   "cell_type": "code",
   "execution_count": 3,
   "metadata": {},
   "outputs": [],
   "source": [
    "def load_data(faces_dir=[], background_dir=[]):\n",
    "    def gen_filelist(filedir='', keyward=''):\n",
    "        return glob.glob(filedir+'/*'+keyward+'*.jpg')\n",
    "    def img_preprocess(filedir=''):\n",
    "        im = imageio.imread(filedir)\n",
    "        gray_scale = im.mean(axis=2)\n",
    "        return gray_scale\n",
    "    # filelist\n",
    "    faces = gen_filelist(filedir=faces_dir)\n",
    "    backgrounds = gen_filelist(filedir=background_dir)\n",
    "\n",
    "    _fimgs = []\n",
    "    _bimgs = []\n",
    "    for ifile in faces:\n",
    "        _fimgs += [img_preprocess(ifile).reshape(1,64,64)]\n",
    "    for jfile in backgrounds:\n",
    "        _bimgs += [img_preprocess(jfile).reshape(1,64,64)]\n",
    "\n",
    "    _imgs, labels = img_sort(_fimgs,_bimgs)\n",
    "    imgs = np.concatenate(_imgs, axis=0)\n",
    "\n",
    "    #TODO: This two lines are bug\n",
    "    #imgs = np.concatenate(_fimgs+_bimgs, axis=0)\n",
    "    #labels = np.concatenate( (np.ones(len(_fimgs)),np.ones(len(_bimgs))) )\n",
    "    return imgs, labels\n"
   ]
  },
  {
   "cell_type": "code",
   "execution_count": 4,
   "metadata": {},
   "outputs": [],
   "source": [
    "def compute_integral_image(imgs):\n",
    "    \"\"\"\n",
    "    IN: imgs. np.ndarray, shape [#images, 64,64]\n",
    "    \"\"\"\n",
    "\n",
    "    def _compute_int_img_unit(img):\n",
    "        \"\"\"\n",
    "            compute integral image for one image\n",
    "        \"\"\"\n",
    "        nx, ny = img.shape\n",
    "        int_img = np.ones((nx,ny))\n",
    "        int_img[0,0] = img[0,0]\n",
    "        for i in range(nx):\n",
    "            for j in range(ny):\n",
    "                if j > 0 and i > 0:\n",
    "                    int_img[i,j] = int_img[i-1,j] + sum([ img[i,k] for k in range(j+1)])\n",
    "                elif j==0 and i>0:\n",
    "                    int_img[i,0] = int_img[i-1,0] + img[i,0]\n",
    "                elif i==0 and j>0:\n",
    "                    int_img[0,j] = int_img[0,j-1] + img[0,j]\n",
    "        return int_img\n",
    "\n",
    "    nimg, nx, ny = imgs.shape\n",
    "    int_img_list = []\n",
    "    for img in imgs:\n",
    "        int_img_list += [_compute_int_img_unit(img).reshape(1,nx,ny)]\n",
    "    int_imgs = np.concatenate(int_img_list, axis=0)\n",
    "    return int_imgs\n"
   ]
  },
  {
   "cell_type": "code",
   "execution_count": 5,
   "metadata": {},
   "outputs": [],
   "source": [
    "def feature_list(nx=64,ny=64,height=2,width=1,stride=1):\n",
    "    f12_list = []\n",
    "    f21_list = []\n",
    "    for j in range(0,ny,stride):\n",
    "        for i in range(0,nx, stride):\n",
    "            ### 1 by 2 (x by y)\n",
    "            if i+stride+width <= nx-1 and j+height <= ny-1:\n",
    "                #shaded\n",
    "                xs, ys  = i,j # upper left\n",
    "                _xs,_ys = i+width, j+height# bottom right\n",
    "                # unshaded\n",
    "                xu, yu  = i+stride,j # upper left\n",
    "                _xu,_yu = i+stride+width, j+height# bottom right\n",
    "                # shaded + unshaded\n",
    "                f12_list += [[[xs, ys],[_xs, _ys],[xu, yu],[_xu, _yu]]]\n",
    "            ### 2 by 1 (x by y)\n",
    "            if i+stride+width <= nx-1 and j+stride+width <= ny-1:\n",
    "                #shaded\n",
    "                xs, ys  = i,j # upper left\n",
    "                _xs,_ys = i+height, j+width# bottom right\n",
    "                # unshaded\n",
    "                xu, yu  = i,j+stride # upper left\n",
    "                _xu,_yu = i+height, j+stride+width# bottom right\n",
    "                # shaded + unshaded\n",
    "                f21_list += [[[xs, ys],[_xs, _ys],[xu, yu],[_xu, _yu]]]\n",
    "    return f12_list+f21_list\n"
   ]
  },
  {
   "cell_type": "code",
   "execution_count": 6,
   "metadata": {},
   "outputs": [],
   "source": [
    "def compute_feature(int_img_rep, feat_lst, feat_idx):\n",
    "    \"\"\" int_img_rep: the N x 64 x 64 numpy matrix of the integral image representation\n",
    "        feat_lst: list of features\n",
    "        feat_idx: integer, index of a feature (in feat_lst)\n",
    "        Returns: an N x 1 numpy matrix of the feature evaluations for each image\n",
    "    \"\"\"\n",
    "    n, nx, ny = int_img_rep.shape\n",
    "    feat_eval = []\n",
    "\n",
    "    def _compute_intensity(int_img, ul, rb):\n",
    "        \"\"\"\n",
    "        compute intensity\n",
    "        x: upper left [ix, jx]\n",
    "        y: bottom right [iy, jy]\n",
    "\n",
    "        *(ix,iy)---*\n",
    "        |          |\n",
    "        |          |\n",
    "        *----------*(jx,jy)\n",
    "        \"\"\"\n",
    "        ix, iy = ul # upper left x,y\n",
    "        jx, jy = rb #  bottom right x, y\n",
    "        if ix-1 >= 0 and iy-1 >= 0  :\n",
    "            intensity = int_img[jx,jy] + int_img[ix-1,iy-1] - int_img[ix-1,jy] - int_img[jx,iy-1]\n",
    "        elif ix-1 >=0 and iy-1<0:\n",
    "            intensity = int_img[jx,jy] - int_img[ix-1,jy]\n",
    "        elif ix-1 < 0 and iy-1>=0:\n",
    "            intensity = int_img[jx,jy]  - int_img[jx,iy-1]\n",
    "        elif ix-1 < 0 and iy-1< 0:\n",
    "            intensity = int_img[jx,jy]\n",
    "        return intensity\n",
    "\n",
    "    for img in int_img_rep:\n",
    "        \"\"\"\n",
    "        x: upper left in shaded\n",
    "        y: bottom right in shaded\n",
    "        z: upper left in unshaded\n",
    "        s: bottom right in unshaded\n",
    "        \"\"\"\n",
    "        x,y,z,s = feat_lst[feat_idx]\n",
    "        shaded   = _compute_intensity(img, x,y)\n",
    "        unshaded = _compute_intensity(img, z,s)\n",
    "        feat_eval +=[shaded - unshaded]\n",
    "\n",
    "    return np.asarray(feat_eval)\n"
   ]
  },
  {
   "cell_type": "code",
   "execution_count": 7,
   "metadata": {},
   "outputs": [],
   "source": [
    "def opt_p_theta(int_img_rep, feat_lst, weights, feat_idx, y_true):\n",
    "    \"\"\"\n",
    "    p = {+1,-1}\n",
    "    theta = threshold\n",
    "    \"\"\"\n",
    "    p, theta = 0,0\n",
    "    #value of feature_idx on example 1-All\n",
    "    _eval_list = [] # f(x_sigma)\n",
    "    _eval_list += [compute_feature(int_img_rep=int_img_rep, feat_lst=feat_lst, feat_idx=feat_idx)]\n",
    "    #permutation\n",
    "    _eval_list.sort() # f(x_sigma1) < f(x_sigma2) ... < f(x_sigmaN)\n",
    "    eval_list = np.squeeze(np.asarray(_eval_list))\n",
    "    #print(eval_list.shape)\n",
    "\n",
    "    #potential theta\n",
    "    thetas = []\n",
    "    for i in range(int_img_rep.shape[0]):\n",
    "        theta_left = eval_list[i]\n",
    "        if i+1 <= len(eval_list)-1:\n",
    "            theta_right = eval_list[i+1]\n",
    "        else:\n",
    "            theta_right = theta_left\n",
    "\n",
    "        # decide theta\n",
    "        \"\"\"\n",
    "         f(x_sigma_j) <= theta <= f(x_sigma_j+1) j:= feat_idx\n",
    "        \"\"\"\n",
    "        theta = theta_left + (theta_right-theta_left)/2\n",
    "        thetas += [theta]\n",
    "\n",
    "    #decide p\n",
    "    ps = []\n",
    "    plus_vec  = np.zeros(len(y_true))## length is y_true\n",
    "    minus_vec = np.zeros(len(y_true))\n",
    "    plus_vec[np.where(y_true == 1)] = 1 # binary vector\n",
    "    minus_vec[np.where(y_true == -1)] = 1\n",
    "\n",
    "    prod_plus = weights*plus_vec\n",
    "    prod_minus = weights*minus_vec\n",
    "\n",
    "    t_plus = np.sum(prod_plus)\n",
    "    t_minus = np.sum(prod_minus)\n",
    "    for i in range(int_img_rep.shape[0]):\n",
    "        s_plus = np.sum(prod_plus[:i])\n",
    "        s_minus = np.sum(prod_minus[:i])\n",
    "        # Comment out lines are bug\n",
    "        #epsilon = min((s_plus+(t_minus-s_minus)), (s_minus+(t_plus-s_plus)))\n",
    "        #p = np.sign(epsilon)\n",
    "        if s_plus+(t_minus-s_minus) < s_minus+(t_plus-s_plus):\n",
    "            p = -1\n",
    "        else:\n",
    "            p = 1\n",
    "        ps += [p]\n",
    "\n",
    "    return np.asarray(ps), np.asarray(thetas)"
   ]
  },
  {
   "cell_type": "code",
   "execution_count": 8,
   "metadata": {},
   "outputs": [],
   "source": [
    "def eval_learner(int_img_rep, feat_lst, feat_idx, p, theta):\n",
    "    \"\"\"\n",
    "    int_img_rep: the N x 64 x 64 numpy matrix of the integral image representation\n",
    "    feat_lst: list of features\n",
    "    feat_idx: integer, index of the feature for this weak learner\n",
    "    p: +1 or -1, polarity\n",
    "    theta: float, threshold\n",
    "    Returns: N x 1 vector of label predictions for the given weak learner\n",
    "    \"\"\"\n",
    "    ones = np.ones((int_img_rep.shape[0]))\n",
    "    feature_vec = compute_feature(int_img_rep=int_img_rep, feat_lst=feat_lst, feat_idx=feat_idx)\n",
    "    return np.sign(p*(feature_vec - theta))"
   ]
  },
  {
   "cell_type": "code",
   "execution_count": 9,
   "metadata": {},
   "outputs": [],
   "source": [
    "def error_rate(int_img_rep, feat_lst, weights, feat_idx, p, theta, y_true):\n",
    "    \"\"\"\n",
    "    int_img_rep: the N x 64 x 64 numpy matrix of the integral image representation\n",
    "    feat_lst: list of features\n",
    "    weights: an N x 1 matrix containing the weights for each datapoint\n",
    "    feat_idx: integer, index of the feature for this weak learner\n",
    "    p: +1 or -1, polarity\n",
    "    theta: float, threshold\n",
    "    y_true: N x 1 matrix of true labels\n",
    "    Returns: the weighted error rate of this weak learner\n",
    "    \"\"\"\n",
    "    ### Weighted error of h_t\n",
    "    \"\"\"Classifier’s error rate.\n",
    "        This is just the number of misclassifications over the training set\n",
    "        divided by the training set size.\n",
    "    \"\"\"\n",
    "    ## correctness: number of correctly classified data\n",
    "    eval_vec = eval_learner(int_img_rep, feat_lst, feat_idx, p, theta)\n",
    "    error_vec = np.asarray(list(map(lambda x: 1 if x != 0 else 0, (y_true-eval_vec))))\n",
    "    weighted_error = weights*error_vec\n",
    "    weighted_error_rate = np.sum(weighted_error)/int_img_rep.shape[0]\n",
    "    return weighted_error_rate"
   ]
  },
  {
   "cell_type": "code",
   "execution_count": 10,
   "metadata": {},
   "outputs": [],
   "source": [
    "def opt_weaklearner(int_img_rep, weights, feat_lst, y_true):\n",
    "    \"\"\"\n",
    "    int_img_rep: the N x 64 x 64 numpy matrix of the integral image representation\n",
    "    weights: N x 1 matrix of weights of each datapoint\n",
    "    feat_lst: list of features\n",
    "    Returns: the i (feature_idx), p, and theta values for the optimal weak learner\n",
    "    \"\"\"\n",
    "    best_erate, best_feat_idx, best_p, best_theta =1.0e10, 0, 0, 0 # initialization\n",
    "    for feat_idx in range(len(feat_lst)):\n",
    "        p, theta = opt_p_theta(int_img_rep, feat_lst, weights, feat_idx, y_true)\n",
    "        erate = error_rate(int_img_rep, feat_lst, weights, feat_idx, p, theta, y_true)\n",
    "        if best_erate > erate:\n",
    "            # update best error rate\n",
    "            best_erate = erate\n",
    "            best_feat_idx = feat_idx\n",
    "            best_p = p\n",
    "            best_theta = theta\n",
    "    return best_feat_idx, best_p, best_theta"
   ]
  },
  {
   "cell_type": "code",
   "execution_count": 11,
   "metadata": {},
   "outputs": [],
   "source": [
    "def update_weights(weights, _error_rate, y_pred, y_true):\n",
    "    \"\"\"\n",
    "    weights: N x 1 matrix containing the weights of each datapoint\n",
    "    error_rate: the weighted error rate\n",
    "    y_pred: N x 1 matrix of predicted labels\n",
    "    y_true: N x 1 matrix of true labels\n",
    "    Returns: N x 1 matrix of the updated weights\n",
    "    \"\"\"\n",
    "    # scaler params\n",
    "    alpha = 0.5*math.log((1-_error_rate)/_error_rate)\n",
    "    zt = 2*math.sqrt(_error_rate*(1-_error_rate))\n",
    "    new_weights = np.zeros((weights.shape))\n",
    "    for i in range(len(y_true)):\n",
    "        new_weights[i] = weights[i]*math.exp(-1*alpha*y_true[i]*y_pred[i])/zt\n",
    "    return new_weights"
   ]
  },
  {
   "cell_type": "code",
   "execution_count": 19,
   "metadata": {},
   "outputs": [],
   "source": [
    "def evaluate_performance(y_pred, y_true):\n",
    "    \"\"\"\n",
    "    FP: label \"True\" against actually \"False\" data\n",
    "        e.g. False - True =  (-1) - 1\n",
    "    \"\"\"\n",
    "    FP = np.asarray(list(map(lambda x: 1 if x == -2 else 0, (y_true-y_pred))))\n",
    "    return np.sum(FP)/len(y_true)"
   ]
  },
  {
   "cell_type": "code",
   "execution_count": 24,
   "metadata": {},
   "outputs": [],
   "source": [
    "def gen_init_weights(y_true):\n",
    "    nface = len(np.argwhere( y_true == 1))\n",
    "    nback = len(np.argwhere( y_true == -1))\n",
    "    w = np.ones((len(y_true)))\n",
    "    coef_face = 0.5/nface\n",
    "    coef_back = 0.5/nback\n",
    "    for idx, i in enumerate(y_true):\n",
    "        if i > 0:\n",
    "            w[idx] = w[idx]*coef_face\n",
    "        else:\n",
    "            w[idx] = w[idx]*coef_back\n",
    "    return w"
   ]
  },
  {
   "cell_type": "code",
   "execution_count": 57,
   "metadata": {},
   "outputs": [],
   "source": [
    "def cascade_operation(imgs, y_pred, w, y_true):\n",
    "    new_imgs = []\n",
    "    new_w = []\n",
    "    new_y_true = []\n",
    "    for i in range(len(y_pred)):\n",
    "        if y_pred[i] == 1:\n",
    "            new_imgs.append(imgs[i])\n",
    "            new_w.append(w[i])\n",
    "            new_y_true.append(y_true[i])\n",
    "    return np.asarray(new_imgs), np.asarray(new_w), np.asarray(new_y_true)"
   ]
  },
  {
   "cell_type": "code",
   "execution_count": 58,
   "metadata": {},
   "outputs": [],
   "source": [
    "def main_training(faces_datadir='./',\n",
    "                  backg_datadir='./',\n",
    "                  times = 100\n",
    "  ):\n",
    "    ### Load imgs & label\n",
    "    imgs, y_true = load_data(faces_dir=faces_datadir,background_dir=backg_datadir)\n",
    "    _, nx, ny = imgs.shape\n",
    "    print( \"###  Image Shape ###\", imgs.shape)\n",
    "    \n",
    "    ### Integral Image\n",
    "    int_imgs = compute_integral_image(imgs)\n",
    "    \n",
    "    ### Initial Weight\n",
    "    w = gen_init_weights(y_true)\n",
    "\n",
    "    ### Feature list\n",
    "    flist = feature_list(nx=nx, ny=ny, stride=4, height=4, width=2)\n",
    "    print( \"###  Number of features ###\", len(flist))\n",
    "    \n",
    "    ### Loop\n",
    "    erate_list = []\n",
    "    for it in range(1):\n",
    "        best_feat_idx, best_p, best_theta = opt_weaklearner(int_imgs, w, flist, y_true)\n",
    "        erate = error_rate(int_imgs, flist, w, best_feat_idx, best_p, best_theta, y_true)\n",
    "        y_pred = eval_learner(int_imgs, flist, best_feat_idx, best_p, best_theta)\n",
    "        w = update_weights(w, erate, y_pred, y_true)\n",
    "        fp_rate = evaluate_performance(y_pred=y_pred, y_true=y_true)\n",
    "        print(fp_rate)\n",
    "        \n",
    "        \n",
    "        #update int_imgs\n",
    "        imgs,w,y_true= cascade_operation(imgs, y_pred,w, y_true)\n",
    "        int_imgs = compute_integral_image(imgs)    \n",
    "        #print (true_idx, _y_true)\n",
    "    return imgs, best_feat_idx"
   ]
  },
  {
   "cell_type": "markdown",
   "metadata": {},
   "source": [
    "### Job Run"
   ]
  },
  {
   "cell_type": "code",
   "execution_count": 59,
   "metadata": {},
   "outputs": [
    {
     "name": "stdout",
     "output_type": "stream",
     "text": [
      "###  Image Shape ### (1300, 64, 64)\n",
      "###  Number of features ### 450\n",
      "0.11076923076923077\n"
     ]
    }
   ],
   "source": [
    "imgs, best_idx = main_training(faces_datadir=\"./faces_test_800\", backg_datadir= \"./background_test_500\")"
   ]
  },
  {
   "cell_type": "code",
   "execution_count": 52,
   "metadata": {},
   "outputs": [
    {
     "name": "stdout",
     "output_type": "stream",
     "text": [
      "000_namechange.bash  faces\t     prg_hw3_integrateQuestions.ipynb\r\n",
      "background\t     faces.tar.gz    prg_hw3_notebook.ipynb\r\n",
      "background.tar.gz    faces_test      prg_hw3_q5_2.ipynb\r\n",
      "background_test      faces_test_200  prg_hw3_try_cascade.ipynb\r\n",
      "background_test_10   faces_test_50   prg_ml_hw3_q5.ipynb\r\n",
      "background_test_50   faces_test_800  train.py\r\n",
      "background_test_500  hw3_test.py\r\n",
      "env_hw3_name.txt     job_run.bash\r\n"
     ]
    }
   ],
   "source": [
    "!ls /home/kurihana/class/MachineLearning_Kondor"
   ]
  },
  {
   "cell_type": "markdown",
   "metadata": {},
   "source": [
    "### Practice/Debug function"
   ]
  },
  {
   "cell_type": "code",
   "execution_count": 21,
   "metadata": {},
   "outputs": [
    {
     "data": {
      "text/plain": [
       "0.2"
      ]
     },
     "execution_count": 21,
     "metadata": {},
     "output_type": "execute_result"
    }
   ],
   "source": [
    "a = np.array([1,1,1,1,-1])\n",
    "b = np.array([-1,1,1,1,-1])\n",
    "evaluate_performance(a,b)"
   ]
  },
  {
   "cell_type": "code",
   "execution_count": 25,
   "metadata": {},
   "outputs": [
    {
     "data": {
      "text/plain": [
       "array([0.125, 0.125, 0.125, 0.125, 0.5  ])"
      ]
     },
     "execution_count": 25,
     "metadata": {},
     "output_type": "execute_result"
    }
   ],
   "source": [
    "gen_init_weights(a)"
   ]
  },
  {
   "cell_type": "code",
   "execution_count": 60,
   "metadata": {},
   "outputs": [
    {
     "data": {
      "text/plain": [
       "(650, 64, 64)"
      ]
     },
     "execution_count": 60,
     "metadata": {},
     "output_type": "execute_result"
    }
   ],
   "source": [
    "imgs.shape"
   ]
  },
  {
   "cell_type": "code",
   "execution_count": 82,
   "metadata": {},
   "outputs": [
    {
     "data": {
      "text/plain": [
       "<matplotlib.image.AxesImage at 0x7f901f2b7588>"
      ]
     },
     "execution_count": 82,
     "metadata": {},
     "output_type": "execute_result"
    },
    {
     "data": {
      "image/png": "[encoded data removed]",
      "text/plain": [
       "<matplotlib.figure.Figure at 0x7f901f386c88>"
      ]
     },
     "metadata": {},
     "output_type": "display_data"
    }
   ],
   "source": [
    "j = np.random.randint(0,650)\n",
    "plt.figure()\n",
    "plt.imshow(imgs[j])"
   ]
  },
  {
   "cell_type": "code",
   "execution_count": 83,
   "metadata": {},
   "outputs": [],
   "source": [
    "_, nx, ny = imgs.shape\n",
    "flist = feature_list(nx=nx, ny=ny, stride=4, height=4, width=2)"
   ]
  },
  {
   "cell_type": "code",
   "execution_count": 151,
   "metadata": {},
   "outputs": [
    {
     "data": {
      "image/png": "[encoded data removed]",
      "text/plain": [
       "<matplotlib.figure.Figure at 0x7f9024e3d4e0>"
      ]
     },
     "metadata": {},
     "output_type": "display_data"
    }
   ],
   "source": [
    "j = np.random.randint(0,649)\n",
    "plt.figure()\n",
    "ax = plt.subplot(111)\n",
    "plt.imshow(imgs[j])\n",
    "x,y,z,s = flist[best_idx]\n",
    "ax.add_patch(mpl_patches.Rectangle(\n",
    "    (x[0], x[1]),\n",
    "    width = y[1] - x[1],\n",
    "    height = y[0] - x[0],\n",
    "    linewidth=1,\n",
    "    edgecolor=\"black\",\n",
    "    facecolor='black'\n",
    "    )\n",
    ")\n",
    "ax.add_patch(mpl_patches.Rectangle(\n",
    "    (z[0], z[1]),\n",
    "    width = s[1] - z[1],\n",
    "    height = s[0] - z[0],\n",
    "    linewidth=1,\n",
    "    edgecolor=\"black\",\n",
    "    facecolor=\"none\"\n",
    "    )\n",
    ")\n",
    "plt.show()"
   ]
  },
  {
   "cell_type": "code",
   "execution_count": null,
   "metadata": {},
   "outputs": [],
   "source": []
  }
 ],
 "metadata": {
  "kernelspec": {
   "display_name": "Python 3",
   "language": "python",
   "name": "python3"
  },
  "language_info": {
   "codemirror_mode": {
    "name": "ipython",
    "version": 3
   },
   "file_extension": ".py",
   "mimetype": "text/x-python",
   "name": "python",
   "nbconvert_exporter": "python",
   "pygments_lexer": "ipython3",
   "version": "3.6.3"
  }
 },
 "nbformat": 4,
 "nbformat_minor": 2
}
