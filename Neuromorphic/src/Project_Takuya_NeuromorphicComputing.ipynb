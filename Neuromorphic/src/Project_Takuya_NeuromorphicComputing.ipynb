{
 "cells": [
  {
   "cell_type": "markdown",
   "metadata": {},
   "source": [
    "# CMSC 35350 - Neuromorphic Computing\n",
    "Final project Jupyter notebook"
   ]
  },
  {
   "cell_type": "markdown",
   "metadata": {},
   "source": [
    "----------\n",
    "### Topic:\n",
    "## \"Unsupervised Learning by neuromorphic network\"\n",
    "\n",
    "Build an unsupervised learning network, autoencoder, using Python neuromophic computing libraries `Nengo/Nengo DL`. Nengo and NengoDL wrapped PyNN, \"a simulator-independent language for building neuronal network models\", to easily create hands-on neural similations. Plus the library provides the integration with a common neural network Tnesorflow, which makes users code by the popular manner."
   ]
  },
  {
   "cell_type": "markdown",
   "metadata": {},
   "source": [
    "### Library requirement\n",
    "Check whether libraries below are installed.\n",
    "- nengo\n",
    "- nengo_dl\n",
    "- tensorflow\n",
    "\n",
    "Additional library for analysis\n",
    "- scikit-learn"
   ]
  },
  {
   "cell_type": "code",
   "execution_count": 1,
   "metadata": {},
   "outputs": [
    {
     "name": "stderr",
     "output_type": "stream",
     "text": [
      "/home/kurihana/miniconda3/envs/py3/lib/python3.6/site-packages/nengo_dl/version.py:32: UserWarning: This version of `nengo_dl` has not been tested with your `nengo` version (3.0.0.dev0). The latest fully supported version is 2.8.0.\n",
      "  ((nengo.version.version,) + latest_nengo_version))\n"
     ]
    }
   ],
   "source": [
    "%matplotlib inline\n",
    "%reload_ext autoreload\n",
    "%autoreload 2\n",
    "\n",
    "import os\n",
    "import gzip\n",
    "import pickle\n",
    "import numpy as np\n",
    "import matplotlib.pyplot as plt\n",
    "from urllib.request import urlretrieve\n",
    "\n",
    "import nengo\n",
    "import nengo_dl\n",
    "import tensorflow as tf"
   ]
  },
  {
   "cell_type": "markdown",
   "metadata": {},
   "source": [
    "#### Load MNIST dataset"
   ]
  },
  {
   "cell_type": "code",
   "execution_count": 39,
   "metadata": {},
   "outputs": [],
   "source": [
    "# load mnist dataset\n",
    "if not os.path.exists('mnist.pkl.gz'):\n",
    "    urlretrieve(\"http://deeplearning.net/data/mnist/mnist.pkl.gz\",\n",
    "            \"mnist.pkl.gz\")\n",
    "with gzip.open(\"mnist.pkl.gz\") as f:\n",
    "    (_train_data, _), _, (_test_data, test_label) = pickle.load(\n",
    "        f, encoding=\"latin1\")\n",
    "np.random.shuffle(_train_data)"
   ]
  },
  {
   "cell_type": "code",
   "execution_count": 40,
   "metadata": {},
   "outputs": [],
   "source": [
    "# reshape to parse\n",
    "train_data = _train_data[:, None, :]\n",
    "test_data = _test_data[:, None, :]"
   ]
  },
  {
   "cell_type": "markdown",
   "metadata": {},
   "source": [
    "#### Set params"
   ]
  },
  {
   "cell_type": "code",
   "execution_count": 5,
   "metadata": {},
   "outputs": [],
   "source": [
    "n_in = 784\n",
    "n_hidden = 64\n",
    "minibatch_size = 50"
   ]
  },
  {
   "cell_type": "markdown",
   "metadata": {},
   "source": [
    "--------------"
   ]
  },
  {
   "cell_type": "markdown",
   "metadata": {},
   "source": [
    "#### Build Network\n",
    "Build nengo-simulation model.  \n",
    "3 layers simple encode-decode network with `784 -> 64 -> 784` nodes."
   ]
  },
  {
   "cell_type": "code",
   "execution_count": 43,
   "metadata": {},
   "outputs": [],
   "source": [
    "with nengo.Network() as autoencoder:\n",
    "    # input layer\n",
    "    nengo_input  = nengo.Node(np.zeros(n_in))\n",
    "\n",
    "    # Bottleneck layer\n",
    "    nengo_b = nengo.Ensemble(\n",
    "        n_hidden, 1, neuron_type=nengo.RectifiedLinear())\n",
    "    nengo.Connection(\n",
    "        nengo_input, nengo_b.neurons, transform=nengo_dl.dists.Glorot())\n",
    "\n",
    "    # output layer\n",
    "    nengo_out = nengo.Ensemble(\n",
    "        n_in, 1, neuron_type=nengo.RectifiedLinear())\n",
    "    nengo.Connection(\n",
    "        nengo_b.neurons, nengo_out.neurons,\n",
    "        transform=nengo_dl.dists.Glorot())\n",
    "    \n",
    "    # outout layer for spiking\n",
    "    b_spike = nengo.Ensemble(\n",
    "        n_in, 1, neuron_type=nengo.SpikingRectifiedLinear())\n",
    "    nengo.Connection(nengo_b.neurons, b_spike,transform=nengo_dl.dists.Glorot())\n",
    "\n",
    "    # probes to collect data\n",
    "    p_b   = nengo.Probe(nengo_b.neurons)   #extract bottleneck layer\n",
    "    p_out = nengo.Probe(nengo_out.neurons) #outpit==ut layer"
   ]
  },
  {
   "cell_type": "code",
   "execution_count": 44,
   "metadata": {},
   "outputs": [],
   "source": [
    "# set initial neuron gains to 1 and biases to 0\n",
    "for ens in autoencoder.all_ensembles:\n",
    "    ens.gain = nengo.dists.Choice([1])\n",
    "    ens.bias = nengo.dists.Choice([0])\n",
    "\n",
    "# disable synaptic filtering on all connections\n",
    "for conn in autoencoder.all_connections:\n",
    "    conn.synapse = None"
   ]
  },
  {
   "cell_type": "markdown",
   "metadata": {},
   "source": [
    "#### Loss function"
   ]
  },
  {
   "cell_type": "code",
   "execution_count": 8,
   "metadata": {},
   "outputs": [],
   "source": [
    "def loss(outputs, targets):\n",
    "    #binary crossentropy\n",
    "    return tf.reduce_mean(tf.keras.backend.binary_crossentropy(\n",
    "        target=targets, output=outputs))"
   ]
  },
  {
   "cell_type": "markdown",
   "metadata": {},
   "source": [
    "#### Training model"
   ]
  },
  {
   "cell_type": "code",
   "execution_count": 68,
   "metadata": {},
   "outputs": [
    {
     "name": "stdout",
     "output_type": "stream",
     "text": [
      "Build finished in 0:00:00                                                      \n",
      "Optimization finished in 0:00:00                                               \n",
      "|#########Constructing graph: creating base arrays (400%)########################################################################################################################################################################################################| ETA: 0:00:00"
     ]
    },
    {
     "name": "stderr",
     "output_type": "stream",
     "text": [
      "/home/kurihana/miniconda3/envs/py3/lib/python3.6/site-packages/nengo_dl/simulator.py:131: UserWarning: No GPU support detected. It is recommended that you install tensorflow-gpu (`pip install tensorflow-gpu`).\n",
      "  \"No GPU support detected. It is recommended that you \"\n"
     ]
    },
    {
     "name": "stdout",
     "output_type": "stream",
     "text": [
      "Construction finished in 0:00:01                                               ##################################################################################################################################################################################################################################################################################################################################################################################################################################################################################################################################################################################| ETA: 0:00:00\n"
     ]
    },
    {
     "name": "stderr",
     "output_type": "stream",
     "text": [
      "/home/kurihana/miniconda3/envs/py3/lib/python3.6/site-packages/nengo_dl/simulator.py:1609: RuntimeWarning: Simulator with model=Model: <Network (unlabeled) at 0x7fc2a535c828>, dt=0.001000 was deallocated while open. Simulators should be closed manually to ensure resources are properly freed.\n",
      "  \"are properly freed.\" % self.model, RuntimeWarning)\n"
     ]
    },
    {
     "name": "stdout",
     "output_type": "stream",
     "text": [
      "Training finished in 0:01:22 (loss: 0.2758)                                    \n",
      "Calculation finished in 0:00:02                                                \n",
      "error: 0.28202403\n"
     ]
    },
    {
     "data": {
      "image/png": "[encoded data removed]",
      "text/plain": [
       "<Figure size 432x288 with 1 Axes>"
      ]
     },
     "metadata": {
      "needs_background": "light"
     },
     "output_type": "display_data"
    }
   ],
   "source": [
    "n_epochs = 2 # epoch\n",
    "le = 1.0e-3  # learning rate\n",
    "# optimizer: Adam\n",
    "# Loss: binary cross-entoropy\n",
    "with nengo_dl.Simulator(autoencoder, minibatch_size=minibatch_size) as sim:\n",
    "    # train on train data\n",
    "    sim.train({nengo_input: train_data, p_out: train_data},\n",
    "              tf.train.AdamOptimizer(le),\n",
    "              objective={p_out: loss}, n_epochs=n_epochs)\n",
    "\n",
    "    # check performance on test set\n",
    "    error = sim.loss({nengo_input: test_data, p_out: test_data},\n",
    "                     objective={p_out: loss})\n",
    "    print(\"error:\", error)\n",
    "    \n",
    "    # display a decoded example\n",
    "    sim.step(data={nengo_input: test_data[:minibatch_size]})\n",
    "    plt.figure()\n",
    "    plt.imshow(sim.data[p_out][10].reshape((28, 28)))"
   ]
  },
  {
   "cell_type": "markdown",
   "metadata": {},
   "source": [
    "#### Visualize firing rates on the bottleneck vector with 2D Heatmap\n",
    "Map 64 vector to 8 by 8 embedding array to show how the network exhibits different fireing arte to different numbers "
   ]
  },
  {
   "cell_type": "code",
   "execution_count": 76,
   "metadata": {},
   "outputs": [
    {
     "name": "stdout",
     "output_type": "stream",
     "text": [
      "Build finished in 0:00:00                                                      \n",
      "Optimization finished in 0:00:00                                               \n",
      "|         Constructing graph: creating base arrays (0%)        | ETA:  --:--:--"
     ]
    },
    {
     "name": "stderr",
     "output_type": "stream",
     "text": [
      "/home/kurihana/miniconda3/envs/py3/lib/python3.6/site-packages/nengo_dl/simulator.py:131: UserWarning: No GPU support detected. It is recommended that you install tensorflow-gpu (`pip install tensorflow-gpu`).\n",
      "  \"No GPU support detected. It is recommended that you \"\n"
     ]
    },
    {
     "name": "stdout",
     "output_type": "stream",
     "text": [
      "Construction finished in 0:00:00                                               ##################################################################################################################################################################################################################################################################################################################################################################################################################################################| ETA: 0:00:00\n"
     ]
    }
   ],
   "source": [
    "# Run model to get enough simulated data\n",
    "with nengo_dl.Simulator(autoencoder, minibatch_size=minibatch_size*2) as sim2:\n",
    "    sim2.step(data={nengo_input: test_data[:minibatch_size*2]})"
   ]
  },
  {
   "cell_type": "code",
   "execution_count": 78,
   "metadata": {},
   "outputs": [
    {
     "data": {
      "image/png": "[encoded data removed]",
      "text/plain": [
       "<Figure size 720x720 with 10 Axes>"
      ]
     },
     "metadata": {
      "needs_background": "light"
     },
     "output_type": "display_data"
    }
   ],
   "source": [
    "fig = plt.figure(figsize=(10,10))\n",
    "for i in range(10):\n",
    "    idx = np.where(test_label == i)[0][0]\n",
    "    if idx < minibatch_size*2:\n",
    "        ax = plt.subplot(5,2,i+1)\n",
    "        plt.imshow(sim2.data[p_b].reshape(minibatch_size*2,8,8)[idx])\n",
    "        ax.set_title('Digit'+str(i))\n",
    "fig.tight_layout()\n",
    "plt.show()"
   ]
  },
  {
   "cell_type": "markdown",
   "metadata": {},
   "source": [
    "#### Visualize encoded & decoded imgs"
   ]
  },
  {
   "cell_type": "code",
   "execution_count": 11,
   "metadata": {},
   "outputs": [
    {
     "data": {
      "image/png": "[encoded data removed]",
      "text/plain": [
       "<Figure size 720x720 with 3 Axes>"
      ]
     },
     "metadata": {
      "needs_background": "light"
     },
     "output_type": "display_data"
    }
   ],
   "source": [
    "fig = plt.figure(figsize=(10,10))\n",
    "ax = plt.subplot(131)\n",
    "plt.imshow(test_data[10].reshape((28, 28)))\n",
    "ax.set_title(\"Encoded Image\")\n",
    "ax = plt.subplot(132)\n",
    "plt.imshow(sim.data[p_out][10].reshape((28, 28)))\n",
    "ax.set_title(\"Decoded Image\")\n",
    "ax = plt.subplot(133)\n",
    "plt.imshow(test_data[10].reshape(28, 28) - sim.data[p_out][10].reshape((28, 28)) )\n",
    "ax.set_title(\"Residual\")\n",
    "plt.show()"
   ]
  },
  {
   "cell_type": "markdown",
   "metadata": {},
   "source": [
    "-------------------"
   ]
  },
  {
   "cell_type": "markdown",
   "metadata": {},
   "source": [
    "### Analyze bottleneck layer with PCA"
   ]
  },
  {
   "cell_type": "markdown",
   "metadata": {},
   "source": [
    "Visualize bottleneck layer by reducing its dimension by PCA. Show the spatioal location of the reduced dimension feature expression."
   ]
  },
  {
   "cell_type": "code",
   "execution_count": 12,
   "metadata": {},
   "outputs": [],
   "source": [
    "from sklearn.decomposition import PCA\n",
    "# num of cluster\n",
    "n_cluster = 10\n",
    "\n",
    "# get nparray \n",
    "bottleneck_layer = np.squeeze(sim.data[p_b])\n",
    "\n",
    "# Compute the clusters\n",
    "pca = PCA(n_components=n_cluster)\n",
    "features = pca.fit_transform(bottleneck_layer)"
   ]
  },
  {
   "cell_type": "code",
   "execution_count": 13,
   "metadata": {},
   "outputs": [],
   "source": [
    "import matplotlib  \n",
    "#.colors #import Colormap\n",
    "def _get_colors(n=-1, cmap_name='jet'):\n",
    "    # colormap\n",
    "    cmap = matplotlib.cm.get_cmap(cmap_name, n)\n",
    "    colors = []\n",
    "    for idx, i in enumerate(range(cmap.N)):\n",
    "        rgb = cmap(i)[:3]\n",
    "        #print(idx, matplotlib.colors.rgb2hex(rgb))\n",
    "        colors += [matplotlib.colors.rgb2hex(rgb)]\n",
    "    return colors"
   ]
  },
  {
   "cell_type": "code",
   "execution_count": 14,
   "metadata": {},
   "outputs": [
    {
     "data": {
      "text/plain": [
       "Text(0.5, 1.0, 'PCA to bottleneck layer')"
      ]
     },
     "execution_count": 14,
     "metadata": {},
     "output_type": "execute_result"
    },
    {
     "data": {
      "image/png": "[encoded data removed]",
      "text/plain": [
       "<Figure size 432x288 with 1 Axes>"
      ]
     },
     "metadata": {
      "needs_background": "light"
     },
     "output_type": "display_data"
    }
   ],
   "source": [
    "colors = _get_colors(n=n_cluster)\n",
    "for i in range(n_cluster):\n",
    "    cidx = np.where(test_label[:50] == i)\n",
    "    plt.scatter(features[cidx,0], features[cidx,1], label='d-'+str(i))\n",
    "plt.legend(ncol=2, loc='upper right')\n",
    "#plt.ylim(-300,300);plt.xlim(-400,300)\n",
    "plt.xlabel('PC-1')\n",
    "plt.ylabel('PC-2')\n",
    "plt.title('PCA to bottleneck layer')"
   ]
  }
 ],
 "metadata": {
  "kernelspec": {
   "display_name": "Python 3",
   "language": "python",
   "name": "python3"
  },
  "language_info": {
   "codemirror_mode": {
    "name": "ipython",
    "version": 3
   },
   "file_extension": ".py",
   "mimetype": "text/x-python",
   "name": "python",
   "nbconvert_exporter": "python",
   "pygments_lexer": "ipython3",
   "version": "3.6.8"
  }
 },
 "nbformat": 4,
 "nbformat_minor": 2
}
