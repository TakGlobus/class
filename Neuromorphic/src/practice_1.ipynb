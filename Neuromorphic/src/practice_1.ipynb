{
 "cells": [
  {
   "cell_type": "markdown",
   "metadata": {},
   "source": [
    "## Practice notebook for project"
   ]
  },
  {
   "cell_type": "markdown",
   "metadata": {},
   "source": [
    "### Usefil web resources\n",
    "1. [sppinaler-neiromophic-classifier](https://github.com/alandiamond/spinnaker-neuromorphic-classifier/blob/master/Spinn5-LargeModel-LiveSpiking/src/python/Classifier_LiveSpikingInput.py)\n",
    "2. [stdp-mnist](https://github.com/Hananel-Hazan/stdp-mnist/blob/master/code/train/snn_mnist.py)\n",
    "3. [SNN_from_scratch](http://www.mjrlab.org/wp-content/uploads/2014/05/network_python_tutorial2013.pdf)  \n",
    "4. [Nengo - pynn wrapper](http://compneuro.uwaterloo.ca/files/publications/bekolay.2014.pdf)\n",
    "5. [Nengo - paper combining DNN and Nengo](https://arxiv.org/pdf/1805.11144.pdf)\n",
    "6. [PyNN Official Documentation](http://neuralensemble.org/docs/PyNN/)"
   ]
  },
  {
   "cell_type": "code",
   "execution_count": null,
   "metadata": {},
   "outputs": [],
   "source": []
  }
 ],
 "metadata": {
  "kernelspec": {
   "display_name": "Python 3",
   "language": "python",
   "name": "python3"
  },
  "language_info": {
   "codemirror_mode": {
    "name": "ipython",
    "version": 3
   },
   "file_extension": ".py",
   "mimetype": "text/x-python",
   "name": "python",
   "nbconvert_exporter": "python",
   "pygments_lexer": "ipython3",
   "version": "3.5.2"
  }
 },
 "nbformat": 4,
 "nbformat_minor": 2
}
