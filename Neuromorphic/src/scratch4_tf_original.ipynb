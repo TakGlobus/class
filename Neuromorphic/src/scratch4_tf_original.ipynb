{
 "cells": [
  {
   "cell_type": "code",
   "execution_count": 1,
   "metadata": {},
   "outputs": [
    {
     "name": "stderr",
     "output_type": "stream",
     "text": [
      "/home/kurihana/miniconda3/envs/py3/lib/python3.6/site-packages/nengo_dl/version.py:32: UserWarning: This version of `nengo_dl` has not been tested with your `nengo` version (3.0.0.dev0). The latest fully supported version is 2.8.0.\n",
      "  ((nengo.version.version,) + latest_nengo_version))\n"
     ]
    }
   ],
   "source": [
    "%matplotlib inline\n",
    "%reload_ext autoreload\n",
    "%autoreload 2\n",
    "\n",
    "import gzip\n",
    "import os\n",
    "import pickle\n",
    "from urllib.request import urlretrieve\n",
    "\n",
    "import nengo\n",
    "import nengo_dl\n",
    "import numpy as np\n",
    "import matplotlib.pyplot as plt\n",
    "import tensorflow as tf"
   ]
  },
  {
   "cell_type": "markdown",
   "metadata": {},
   "source": [
    "### Download MNIST data"
   ]
  },
  {
   "cell_type": "code",
   "execution_count": 94,
   "metadata": {},
   "outputs": [],
   "source": [
    "# download MNIST dataset\n",
    "urlretrieve(\"http://deeplearning.net/data/mnist/mnist.pkl.gz\",\n",
    "            \"mnist.pkl.gz\")\n",
    "with gzip.open(\"mnist.pkl.gz\") as f:\n",
    "    (train_data, _), _, (test_data, _) = pickle.load(\n",
    "        f, encoding=\"latin1\")\n",
    "np.random.shuffle(train_data)\n",
    "\n",
    "n_epochs = 2"
   ]
  },
  {
   "cell_type": "markdown",
   "metadata": {},
   "source": [
    "###### Important! Reshape [5000,784] to [5000,1,784]"
   ]
  },
  {
   "cell_type": "code",
   "execution_count": 95,
   "metadata": {},
   "outputs": [],
   "source": [
    "train_data = train_data[:, None, :]\n",
    "test_data = test_data[:, None, :]"
   ]
  },
  {
   "cell_type": "code",
   "execution_count": 99,
   "metadata": {},
   "outputs": [
    {
     "data": {
      "text/plain": [
       "(50000, 1, 784)"
      ]
     },
     "execution_count": 99,
     "metadata": {},
     "output_type": "execute_result"
    }
   ],
   "source": [
    "train_data.shape"
   ]
  },
  {
   "cell_type": "code",
   "execution_count": 100,
   "metadata": {},
   "outputs": [
    {
     "data": {
      "text/plain": [
       "(10000, 1, 784)"
      ]
     },
     "execution_count": 100,
     "metadata": {},
     "output_type": "execute_result"
    }
   ],
   "source": [
    "test_data.shape"
   ]
  },
  {
   "cell_type": "markdown",
   "metadata": {},
   "source": [
    "### Params"
   ]
  },
  {
   "cell_type": "code",
   "execution_count": 6,
   "metadata": {},
   "outputs": [],
   "source": [
    "n_in = 784\n",
    "n_hidden = 64\n",
    "minibatch_size = 50"
   ]
  },
  {
   "cell_type": "markdown",
   "metadata": {},
   "source": [
    "### Network by Nengo-DL"
   ]
  },
  {
   "cell_type": "code",
   "execution_count": 43,
   "metadata": {},
   "outputs": [],
   "source": [
    "with nengo.Network() as auto_net:\n",
    "    # input\n",
    "    nengo_a = nengo.Node(np.zeros(n_in))\n",
    "\n",
    "    # first layer\n",
    "    nengo_b = nengo.Ensemble(\n",
    "        n_hidden, 1, neuron_type=nengo.RectifiedLinear())\n",
    "    nengo.Connection(\n",
    "        nengo_a, nengo_b.neurons, transform=nengo_dl.dists.Glorot())\n",
    "\n",
    "    # second layer\n",
    "    nengo_c = nengo.Ensemble(\n",
    "        n_in, 1, neuron_type=nengo.RectifiedLinear())\n",
    "    nengo.Connection(\n",
    "        nengo_b.neurons, nengo_c.neurons,\n",
    "        transform=nengo_dl.dists.Glorot())\n",
    "\n",
    "    # probes are used to collect data from the network\n",
    "    p_c = nengo.Probe(nengo_c.neurons)"
   ]
  },
  {
   "cell_type": "code",
   "execution_count": 51,
   "metadata": {},
   "outputs": [],
   "source": [
    "# set initial neuron gains to 1 and biases to 0\n",
    "for ens in auto_net.all_ensembles:\n",
    "    ens.gain = nengo.dists.Choice([1])\n",
    "    ens.bias = nengo.dists.Choice([0])\n",
    "\n",
    "# disable synaptic filtering on all connections\n",
    "for conn in auto_net.all_connections:\n",
    "    conn.synapse = None"
   ]
  },
  {
   "cell_type": "code",
   "execution_count": 45,
   "metadata": {},
   "outputs": [
    {
     "name": "stdout",
     "output_type": "stream",
     "text": [
      "Build finished in 0:00:00                                                      \n",
      "Optimization finished in 0:00:00                                               \n",
      "Construction finished in 0:00:00                                               ##################################################################################################################################################################################################################################################################################################################| ETA: 0:00:00\n",
      "Training finished in 0:00:24 (loss: 0.2176)                                    \n",
      "Calculation finished in 0:00:01                                                \n",
      "error: 0.22699942\n"
     ]
    },
    {
     "data": {
      "image/png": "[encoded data removed]",
      "text/plain": [
       "<Figure size 432x288 with 1 Axes>"
      ]
     },
     "metadata": {
      "needs_background": "light"
     },
     "output_type": "display_data"
    }
   ],
   "source": [
    "# define loss function (we could use the pre-defined\n",
    "# `nengo_dl.obj.mse`, but we define it explicitly here\n",
    "# for clarity)\n",
    "#def loss(outputs, targets):\n",
    "#    print(np.asarray(tf.square(outputs - targets)).shape)\n",
    "#    return tf.reduce_mean(tf.square(outputs - targets))\n",
    "\n",
    "def loss(outputs, targets):\n",
    "    \"\"\" binary crossentropy\n",
    "    \"\"\"\n",
    "    return tf.reduce_mean(tf.keras.backend.binary_crossentropy(\n",
    "        target=targets, output=outputs))\n",
    "\n",
    "with nengo_dl.Simulator(auto_net, minibatch_size=minibatch_size) as sim:\n",
    "    # sim.train automatically adds the necessary elements to the\n",
    "    # graph and runs the training loop\n",
    "    # note: the probe acts as the placeholder to feed in target values\n",
    "    sim.train({nengo_a: train_data, p_c: train_data},\n",
    "              tf.train.AdamOptimizer(1e-3),\n",
    "              objective={p_c: loss}, n_epochs=n_epochs)\n",
    "\n",
    "    # evaluate performance on test set\n",
    "    error = sim.loss({nengo_a: test_data, p_c: test_data},\n",
    "                     objective={p_c: loss})\n",
    "    print(\"error:\", error)\n",
    "\n",
    "    # display example output\n",
    "    sim.step(data={nengo_a: test_data[:minibatch_size]})\n",
    "    plt.figure()\n",
    "    plt.imshow(sim.data[p_c][0].reshape((28, 28)))"
   ]
  },
  {
   "cell_type": "markdown",
   "metadata": {},
   "source": [
    "------------------\n",
    "#### How about embedding layer?"
   ]
  },
  {
   "cell_type": "code",
   "execution_count": 96,
   "metadata": {},
   "outputs": [],
   "source": [
    "max_rate = 100\n",
    "amp = 1 / max_rate\n",
    "dt = 0.001\n",
    "presentation_time = 0.1"
   ]
  },
  {
   "cell_type": "code",
   "execution_count": 101,
   "metadata": {},
   "outputs": [
    {
     "data": {
      "text/plain": [
       "(1, 784)"
      ]
     },
     "execution_count": 101,
     "metadata": {},
     "output_type": "execute_result"
    }
   ],
   "source": [
    "test_data[0].shape"
   ]
  },
  {
   "cell_type": "code",
   "execution_count": 102,
   "metadata": {},
   "outputs": [],
   "source": [
    "with nengo.Network() as auto_net2:\n",
    "    # input\n",
    "    #nengo_a  = nengo.Node(np.zeros(n_in))\n",
    "    #out = nengo.Node(size_in=10)\n",
    "    nengo_a = nengo.Node(\n",
    "        nengo.processes.PresentInput(test_data[0], presentation_time),\n",
    "        size_out=28 * 28)\n",
    "\n",
    "    # first layer\n",
    "    nengo_b = nengo.Ensemble(\n",
    "        n_hidden, 1, neuron_type=nengo.SpikingRectifiedLinear(amplitude=amp))\n",
    "    nengo.Connection(\n",
    "        nengo_a, nengo_b.neurons, transform=nengo_dl.dists.Glorot())\n",
    "\n",
    "    # second layer\n",
    "    nengo_c = nengo.Ensemble(\n",
    "        n_in, 1, neuron_type=nengo.SpikingRectifiedLinear(amplitude=amp))\n",
    "    nengo.Connection(\n",
    "        nengo_b.neurons, nengo_c.neurons,\n",
    "        transform=nengo_dl.dists.Glorot())\n",
    "\n",
    "    # probes are used to collect data from the network\n",
    "    p_b = nengo.Probe(nengo_b.neurons)\n",
    "    p_c = nengo.Probe(nengo_c.neurons)\n",
    "    #out_p = \n",
    "    #out_p_filt = nengo.Probe(out, synapse=nengo.Alpha(0.01))\n",
    "    p_c_filt =  nengo.Probe(nengo_a, synapse=nengo.Alpha(0.01))"
   ]
  },
  {
   "cell_type": "code",
   "execution_count": 103,
   "metadata": {},
   "outputs": [],
   "source": [
    "# set initial neuron gains to 1 and biases to 0\n",
    "for ens in auto_net2.all_ensembles:\n",
    "    ens.gain = nengo.dists.Choice([1])\n",
    "    ens.bias = nengo.dists.Choice([0])\n",
    "\n",
    "# disable synaptic filtering on all connections\n",
    "for conn in auto_net2.all_connections:\n",
    "    conn.synapse = None"
   ]
  },
  {
   "cell_type": "code",
   "execution_count": 104,
   "metadata": {},
   "outputs": [],
   "source": [
    "x_train = {nengo_a : train_data[0][:, None, :],\n",
    "           p_c_filt : train_data[1][:, None, :]}"
   ]
  },
  {
   "cell_type": "code",
   "execution_count": 105,
   "metadata": {},
   "outputs": [],
   "source": [
    "x_test = {\n",
    "    nengo_a: np.tile(test_data[0][:, None, :],\n",
    "                 (1,int(presentation_time / dt), 1)),\n",
    "    p_c_filt: np.tile(test_data[1][:, None, :],\n",
    "                        (1,int(presentation_time / dt), 1))\n",
    "}"
   ]
  },
  {
   "cell_type": "code",
   "execution_count": 46,
   "metadata": {},
   "outputs": [
    {
     "data": {
      "text/plain": [
       "<matplotlib.image.AxesImage at 0x7fc0d4222978>"
      ]
     },
     "execution_count": 46,
     "metadata": {},
     "output_type": "execute_result"
    },
    {
     "data": {
      "image/png": "[encoded data removed]",
      "text/plain": [
       "<Figure size 432x288 with 1 Axes>"
      ]
     },
     "metadata": {
      "needs_background": "light"
     },
     "output_type": "display_data"
    }
   ],
   "source": [
    "a = test_data[0].reshape(28,28)\n",
    "plt.imshow(a)"
   ]
  },
  {
   "cell_type": "code",
   "execution_count": 85,
   "metadata": {},
   "outputs": [
    {
     "data": {
      "text/plain": [
       "(1, 784)"
      ]
     },
     "execution_count": 85,
     "metadata": {},
     "output_type": "execute_result"
    }
   ],
   "source": [
    "train_data[0].shape"
   ]
  },
  {
   "cell_type": "code",
   "execution_count": 106,
   "metadata": {},
   "outputs": [
    {
     "data": {
      "text/plain": [
       "(1, 1, 784)"
      ]
     },
     "execution_count": 106,
     "metadata": {},
     "output_type": "execute_result"
    }
   ],
   "source": [
    "x_train[nengo_a].shape"
   ]
  },
  {
   "cell_type": "code",
   "execution_count": 107,
   "metadata": {},
   "outputs": [
    {
     "name": "stdout",
     "output_type": "stream",
     "text": [
      "Build finished in 0:00:00                                                      \n",
      "Optimization finished in 0:00:00                                               \n",
      "|#########Constructing graph: creating base arrays (200%)########################################################################| ETA: 0:00:00"
     ]
    },
    {
     "name": "stderr",
     "output_type": "stream",
     "text": [
      "/home/kurihana/miniconda3/envs/py3/lib/python3.6/site-packages/nengo_dl/simulator.py:131: UserWarning: No GPU support detected. It is recommended that you install tensorflow-gpu (`pip install tensorflow-gpu`).\n",
      "  \"No GPU support detected. It is recommended that you \"\n"
     ]
    },
    {
     "name": "stdout",
     "output_type": "stream",
     "text": [
      "Construction finished in 0:00:01                                               \n",
      "Training finished in ETA:  --:--:-- (loss: ---)                                \n"
     ]
    },
    {
     "name": "stderr",
     "output_type": "stream",
     "text": [
      "/home/kurihana/miniconda3/envs/py3/lib/python3.6/site-packages/nengo_dl/simulator.py:529: UserWarning: Training for one timestep, but the network contains synaptic filters (which will introduce at least a one-timestep delay); did you mean to set synapse=None?\n",
      "  \"Training for one timestep, but the network contains \"\n"
     ]
    },
    {
     "ename": "ValidationError",
     "evalue": "data: Size of minibatch (1) for <Node (unlabeled) at 0x7fc118557ac8> data less than Simulation `minibatch_size` (50)",
     "output_type": "error",
     "traceback": [
      "\u001b[0;31m---------------------------------------------------------------------------\u001b[0m",
      "\u001b[0;31mValidationError\u001b[0m                           Traceback (most recent call last)",
      "\u001b[0;32m<ipython-input-107-d82873e58f7f>\u001b[0m in \u001b[0;36m<module>\u001b[0;34m\u001b[0m\n\u001b[1;32m     10\u001b[0m     sim.train(x_train,\n\u001b[1;32m     11\u001b[0m               \u001b[0mtf\u001b[0m\u001b[0;34m.\u001b[0m\u001b[0mtrain\u001b[0m\u001b[0;34m.\u001b[0m\u001b[0mAdamOptimizer\u001b[0m\u001b[0;34m(\u001b[0m\u001b[0;36m1e-3\u001b[0m\u001b[0;34m)\u001b[0m\u001b[0;34m,\u001b[0m\u001b[0;34m\u001b[0m\u001b[0;34m\u001b[0m\u001b[0m\n\u001b[0;32m---> 12\u001b[0;31m               objective={p_c: loss}, n_epochs=n_epochs)\n\u001b[0m\u001b[1;32m     13\u001b[0m \u001b[0;34m\u001b[0m\u001b[0m\n\u001b[1;32m     14\u001b[0m     \u001b[0;31m# evaluate performance on test set\u001b[0m\u001b[0;34m\u001b[0m\u001b[0;34m\u001b[0m\u001b[0;34m\u001b[0m\u001b[0m\n",
      "\u001b[0;32m~/miniconda3/envs/py3/lib/python3.6/site-packages/nengo_dl/simulator.py\u001b[0m in \u001b[0;36mtrain\u001b[0;34m(self, data, optimizer, n_epochs, objective, shuffle, truncation, summaries, profile, extra_feeds, progress_bar)\u001b[0m\n\u001b[1;32m    616\u001b[0m                 \u001b[0mextra_feeds\u001b[0m\u001b[0;34m=\u001b[0m\u001b[0mextra_feeds\u001b[0m\u001b[0;34m,\u001b[0m \u001b[0mextra_fetches\u001b[0m\u001b[0;34m=\u001b[0m\u001b[0mextra_fetches\u001b[0m\u001b[0;34m,\u001b[0m\u001b[0;34m\u001b[0m\u001b[0;34m\u001b[0m\u001b[0m\n\u001b[1;32m    617\u001b[0m                 \u001b[0mtruncation\u001b[0m\u001b[0;34m=\u001b[0m\u001b[0mtruncation\u001b[0m\u001b[0;34m,\u001b[0m \u001b[0mprofile\u001b[0m\u001b[0;34m=\u001b[0m\u001b[0mprofile\u001b[0m\u001b[0;34m,\u001b[0m \u001b[0mshuffle\u001b[0m\u001b[0;34m=\u001b[0m\u001b[0mshuffle\u001b[0m\u001b[0;34m,\u001b[0m\u001b[0;34m\u001b[0m\u001b[0;34m\u001b[0m\u001b[0m\n\u001b[0;32m--> 618\u001b[0;31m                 training=True, callback=callback)\n\u001b[0m\u001b[1;32m    619\u001b[0m \u001b[0;34m\u001b[0m\u001b[0m\n\u001b[1;32m    620\u001b[0m     def loss(self, data, objective=None, combine=np.mean, extra_feeds=None,\n",
      "\u001b[0;32m~/miniconda3/envs/py3/lib/python3.6/site-packages/nengo_dl/simulator.py\u001b[0m in \u001b[0;36mrun_batch\u001b[0;34m(self, data, outputs, extra_feeds, extra_fetches, n_epochs, truncation, shuffle, profile, training, callback, combine, isolate_state)\u001b[0m\n\u001b[1;32m    825\u001b[0m             \u001b[0;32mraise\u001b[0m \u001b[0mSimulatorClosed\u001b[0m\u001b[0;34m(\u001b[0m\u001b[0;34m\"Simulator cannot run because it is closed.\"\u001b[0m\u001b[0;34m)\u001b[0m\u001b[0;34m\u001b[0m\u001b[0;34m\u001b[0m\u001b[0m\n\u001b[1;32m    826\u001b[0m         \u001b[0;32mif\u001b[0m \u001b[0;32mnot\u001b[0m \u001b[0misinstance\u001b[0m\u001b[0;34m(\u001b[0m\u001b[0mdata\u001b[0m\u001b[0;34m,\u001b[0m \u001b[0mint\u001b[0m\u001b[0;34m)\u001b[0m\u001b[0;34m:\u001b[0m\u001b[0;34m\u001b[0m\u001b[0;34m\u001b[0m\u001b[0m\n\u001b[0;32m--> 827\u001b[0;31m             \u001b[0mself\u001b[0m\u001b[0;34m.\u001b[0m\u001b[0m_check_data\u001b[0m\u001b[0;34m(\u001b[0m\u001b[0mdata\u001b[0m\u001b[0;34m)\u001b[0m\u001b[0;34m\u001b[0m\u001b[0;34m\u001b[0m\u001b[0m\n\u001b[0m\u001b[1;32m    828\u001b[0m         \u001b[0;32mif\u001b[0m \u001b[0mn_steps\u001b[0m \u001b[0;34m%\u001b[0m \u001b[0mself\u001b[0m\u001b[0;34m.\u001b[0m\u001b[0munroll\u001b[0m \u001b[0;34m!=\u001b[0m \u001b[0;36m0\u001b[0m\u001b[0;34m:\u001b[0m\u001b[0;34m\u001b[0m\u001b[0;34m\u001b[0m\u001b[0m\n\u001b[1;32m    829\u001b[0m             raise ValidationError(\n",
      "\u001b[0;32m~/miniconda3/envs/py3/lib/python3.6/site-packages/nengo_dl/simulator.py\u001b[0m in \u001b[0;36m_check_data\u001b[0;34m(self, data, n_batch, n_steps)\u001b[0m\n\u001b[1;32m   1537\u001b[0m                     \"`minibatch_size` (%d)\" % (x.shape[0], n,\n\u001b[1;32m   1538\u001b[0m                                                self.minibatch_size),\n\u001b[0;32m-> 1539\u001b[0;31m                     \"data\")\n\u001b[0m\u001b[1;32m   1540\u001b[0m \u001b[0;34m\u001b[0m\u001b[0m\n\u001b[1;32m   1541\u001b[0m             \u001b[0md\u001b[0m \u001b[0;34m=\u001b[0m \u001b[0mn\u001b[0m\u001b[0;34m.\u001b[0m\u001b[0msize_out\u001b[0m \u001b[0;32mif\u001b[0m \u001b[0misinstance\u001b[0m\u001b[0;34m(\u001b[0m\u001b[0mn\u001b[0m\u001b[0;34m,\u001b[0m \u001b[0mNode\u001b[0m\u001b[0;34m)\u001b[0m \u001b[0;32melse\u001b[0m \u001b[0mn\u001b[0m\u001b[0;34m.\u001b[0m\u001b[0msize_in\u001b[0m\u001b[0;34m\u001b[0m\u001b[0;34m\u001b[0m\u001b[0m\n",
      "\u001b[0;31mValidationError\u001b[0m: data: Size of minibatch (1) for <Node (unlabeled) at 0x7fc118557ac8> data less than Simulation `minibatch_size` (50)"
     ]
    }
   ],
   "source": [
    "def loss(outputs, targets):\n",
    "    \"\"\" binary crossentropy\n",
    "    \"\"\"\n",
    "    return tf.reduce_mean(tf.keras.backend.binary_crossentropy(\n",
    "        target=targets, output=outputs))\n",
    "\n",
    "\n",
    "with nengo_dl.Simulator(auto_net2, minibatch_size=minibatch_size) as sim:\n",
    "    #sim.train({nengo_a: x_train, p_c: x_train},\n",
    "    sim.train(x_train,\n",
    "              tf.train.AdamOptimizer(1e-3),\n",
    "              objective={p_c: loss}, n_epochs=n_epochs)\n",
    "\n",
    "    # evaluate performance on test set\n",
    "    # error = sim.loss({nengo_a: test_data, p_c: test_data},\n",
    "    error = sim.loss({nengo_a: x_test[p_c_filt][:minibatch_size], p_c: x_test[p_c_filt][:minibatch_size]},\n",
    "                     objective={p_c: loss})\n",
    "    print(\"error:\", error)\n",
    "    # display example output\n",
    "    sim.step(data={nengo_a: x_test[p_c_filt][:minibatch_size]})\n",
    "    plt.figure()\n",
    "    plt.imshow(sim.data[p_c][0].reshape((28, 28)))"
   ]
  },
  {
   "cell_type": "code",
   "execution_count": 159,
   "metadata": {},
   "outputs": [
    {
     "name": "stdout",
     "output_type": "stream",
     "text": [
      "Build finished in 0:00:00                                                      \n",
      "Optimization finished in 0:00:00                                               \n",
      "|#                        Constructing graph                          | 0:00:00"
     ]
    },
    {
     "name": "stderr",
     "output_type": "stream",
     "text": [
      "/home/kurihana/miniconda3/envs/py3/lib/python3.6/site-packages/nengo_dl/simulator.py:131: UserWarning: No GPU support detected. It is recommended that you install tensorflow-gpu (`pip install tensorflow-gpu`).\n",
      "  \"No GPU support detected. It is recommended that you \"\n"
     ]
    },
    {
     "name": "stdout",
     "output_type": "stream",
     "text": [
      "Construction finished in 0:00:01                                               ##################################################################################################################################################################################################################################################################################################################| ETA: 0:00:00\n",
      "Simulation finished in 0:00:04                                                 \n"
     ]
    }
   ],
   "source": [
    "# run\n",
    "n_presentations = 50\n",
    "with nengo_dl.Simulator(auto_net2, dt=dt) as sim:\n",
    "    sim.run(n_presentations * presentation_time)\n",
    "\n",
    "    # check classification error\n",
    "    step = int(presentation_time / dt)\n",
    "    output = sim.data[p_c_filt][step - 1::step] "
   ]
  },
  {
   "cell_type": "code",
   "execution_count": 164,
   "metadata": {},
   "outputs": [
    {
     "data": {
      "text/plain": [
       "(1, 100, 784)"
      ]
     },
     "execution_count": 164,
     "metadata": {},
     "output_type": "execute_result"
    }
   ],
   "source": [
    "x_test[nengo_a].shape"
   ]
  },
  {
   "cell_type": "code",
   "execution_count": 165,
   "metadata": {},
   "outputs": [
    {
     "data": {
      "text/plain": [
       "(28, 280)"
      ]
     },
     "execution_count": 165,
     "metadata": {},
     "output_type": "execute_result"
    }
   ],
   "source": [
    "allimage.shape"
   ]
  },
  {
   "cell_type": "code",
   "execution_count": 170,
   "metadata": {},
   "outputs": [
    {
     "data": {
      "text/plain": [
       "(28, 28, 1)"
      ]
     },
     "execution_count": 170,
     "metadata": {},
     "output_type": "execute_result"
    }
   ],
   "source": [
    "ccc = x_test[nengo_a].reshape(-1, 28, 28, 1)[20]\n",
    "ccc.shape"
   ]
  },
  {
   "cell_type": "code",
   "execution_count": null,
   "metadata": {},
   "outputs": [],
   "source": []
  },
  {
   "cell_type": "code",
   "execution_count": 171,
   "metadata": {},
   "outputs": [
    {
     "data": {
      "text/plain": [
       "<matplotlib.image.AxesImage at 0x7f2568c78400>"
      ]
     },
     "execution_count": 171,
     "metadata": {},
     "output_type": "execute_result"
    },
    {
     "data": {
      "image/png": "[encoded data removed]",
      "text/plain": [
       "<Figure size 432x288 with 1 Axes>"
      ]
     },
     "metadata": {
      "needs_background": "light"
     },
     "output_type": "display_data"
    }
   ],
   "source": [
    "plt.imshow(ccc[:,:,0])"
   ]
  },
  {
   "cell_type": "code",
   "execution_count": 160,
   "metadata": {},
   "outputs": [
    {
     "data": {
      "image/png": "[encoded data removed]",
      "text/plain": [
       "<Figure size 432x288 with 2 Axes>"
      ]
     },
     "metadata": {
      "needs_background": "light"
     },
     "output_type": "display_data"
    }
   ],
   "source": [
    "n_plots = 10\n",
    "plt.figure()\n",
    "\n",
    "plt.subplot(2, 1, 1)\n",
    "images = x_test[nengo_a].reshape(-1, 28, 28, 1)[::step]\n",
    "ni, nj, nc = images[0].shape\n",
    "allimage = np.zeros((ni, nj * n_plots, nc), dtype=images.dtype)\n",
    "for i, image in enumerate(images[:n_plots]):\n",
    "    allimage[:, i * nj:(i + 1) * nj] = image\n",
    "if allimage.shape[-1] == 1:\n",
    "    allimage = allimage[:, :, 0]\n",
    "plt.imshow(allimage, aspect='auto', interpolation='none', cmap='gray')\n",
    "\n",
    "plt.subplot(2, 1, 2)\n",
    "plt.plot(sim.trange()[:n_plots * step], sim.data[p_c_filt][:n_plots * step])\n",
    "plt.legend(['%d' % i for i in range(10)], loc='best');"
   ]
  },
  {
   "cell_type": "code",
   "execution_count": 63,
   "metadata": {},
   "outputs": [
    {
     "data": {
      "text/plain": [
       "array([0.001])"
      ]
     },
     "execution_count": 63,
     "metadata": {},
     "output_type": "execute_result"
    }
   ],
   "source": [
    "sim.trange()"
   ]
  },
  {
   "cell_type": "code",
   "execution_count": 64,
   "metadata": {},
   "outputs": [
    {
     "data": {
      "text/plain": [
       "(50, 1, 64)"
      ]
     },
     "execution_count": 64,
     "metadata": {},
     "output_type": "execute_result"
    }
   ],
   "source": [
    "sim.data[p_b].shape"
   ]
  },
  {
   "cell_type": "code",
   "execution_count": 65,
   "metadata": {},
   "outputs": [],
   "source": [
    "bottleneck_layer = np.squeeze(sim.data[p_b])"
   ]
  },
  {
   "cell_type": "markdown",
   "metadata": {},
   "source": [
    "#### clustering to bottleneck layer"
   ]
  },
  {
   "cell_type": "code",
   "execution_count": 67,
   "metadata": {},
   "outputs": [
    {
     "name": "stdout",
     "output_type": "stream",
     "text": [
      "Collecting sklearn\n",
      "  Downloading https://files.pythonhosted.org/packages/1e/7a/dbb3be0ce9bd5c8b7e3d87328e79063f8b263b2b1bfa4774cb1147bfcd3f/sklearn-0.0.tar.gz\n",
      "Collecting scikit-learn (from sklearn)\n",
      "\u001b[?25l  Downloading https://files.pythonhosted.org/packages/85/04/49633f490f726da6e454fddc8e938bbb5bfed2001681118d3814c219b723/scikit_learn-0.21.2-cp36-cp36m-manylinux1_x86_64.whl (6.7MB)\n",
      "\u001b[K    100% |████████████████████████████████| 6.7MB 1.1MB/s ta 0:00:011\n",
      "\u001b[?25hCollecting joblib>=0.11 (from scikit-learn->sklearn)\n",
      "\u001b[?25l  Downloading https://files.pythonhosted.org/packages/cd/c1/50a758e8247561e58cb87305b1e90b171b8c767b15b12a1734001f41d356/joblib-0.13.2-py2.py3-none-any.whl (278kB)\n",
      "\u001b[K    100% |████████████████████████████████| 286kB 3.4MB/s ta 0:00:01\n",
      "\u001b[?25hRequirement already satisfied: scipy>=0.17.0 in /home/kurihana/miniconda3/envs/py3/lib/python3.6/site-packages (from scikit-learn->sklearn) (1.2.1)\n",
      "Requirement already satisfied: numpy>=1.11.0 in /home/kurihana/miniconda3/envs/py3/lib/python3.6/site-packages (from scikit-learn->sklearn) (1.16.3)\n",
      "Building wheels for collected packages: sklearn\n",
      "  Building wheel for sklearn (setup.py) ... \u001b[?25ldone\n",
      "\u001b[?25h  Stored in directory: /home/kurihana/.cache/pip/wheels/76/03/bb/589d421d27431bcd2c6da284d5f2286c8e3b2ea3cf1594c074\n",
      "Successfully built sklearn\n",
      "Installing collected packages: joblib, scikit-learn, sklearn\n",
      "Successfully installed joblib-0.13.2 scikit-learn-0.21.2 sklearn-0.0\n"
     ]
    }
   ],
   "source": [
    "! pip install sklearn"
   ]
  },
  {
   "cell_type": "code",
   "execution_count": 81,
   "metadata": {},
   "outputs": [],
   "source": [
    "from sklearn.manifold import TSNE"
   ]
  },
  {
   "cell_type": "markdown",
   "metadata": {},
   "source": [
    "Dimension reduction by TSNE"
   ]
  },
  {
   "cell_type": "code",
   "execution_count": 82,
   "metadata": {},
   "outputs": [],
   "source": [
    "# do tsne\n",
    "tsne = TSNE(n_components=2, init='random', random_state=0)\n",
    "digits_proj = tsne.fit_transform(bottleneck_layer)"
   ]
  },
  {
   "cell_type": "code",
   "execution_count": 105,
   "metadata": {},
   "outputs": [],
   "source": [
    "from sklearn.decomposition import PCA"
   ]
  },
  {
   "cell_type": "markdown",
   "metadata": {},
   "source": [
    "Apply PCA"
   ]
  },
  {
   "cell_type": "code",
   "execution_count": 106,
   "metadata": {},
   "outputs": [],
   "source": [
    "# Compute the clusters\n",
    "pca = PCA(n_components=n_cluster)\n",
    "features = pca.fit_transform(bottleneck_layer)"
   ]
  },
  {
   "cell_type": "markdown",
   "metadata": {},
   "source": [
    "Get lables for test data"
   ]
  },
  {
   "cell_type": "code",
   "execution_count": 70,
   "metadata": {},
   "outputs": [],
   "source": [
    "with gzip.open(\"mnist.pkl.gz\") as f:\n",
    "    (_, _), _, (test_data, test_label) = pickle.load(\n",
    "        f, encoding=\"latin1\")"
   ]
  },
  {
   "cell_type": "code",
   "execution_count": 71,
   "metadata": {},
   "outputs": [
    {
     "data": {
      "text/plain": [
       "(10000,)"
      ]
     },
     "execution_count": 71,
     "metadata": {},
     "output_type": "execute_result"
    }
   ],
   "source": [
    "test_label.shape"
   ]
  },
  {
   "cell_type": "code",
   "execution_count": 73,
   "metadata": {},
   "outputs": [
    {
     "data": {
      "text/plain": [
       "(10000, 784)"
      ]
     },
     "execution_count": 73,
     "metadata": {},
     "output_type": "execute_result"
    }
   ],
   "source": [
    "test_data.shape"
   ]
  },
  {
   "cell_type": "code",
   "execution_count": 74,
   "metadata": {},
   "outputs": [
    {
     "data": {
      "text/plain": [
       "<matplotlib.image.AxesImage at 0x7f256bc8e518>"
      ]
     },
     "execution_count": 74,
     "metadata": {},
     "output_type": "execute_result"
    },
    {
     "data": {
      "image/png": "[encoded data removed]",
      "text/plain": [
       "<Figure size 432x288 with 1 Axes>"
      ]
     },
     "metadata": {
      "needs_background": "light"
     },
     "output_type": "display_data"
    }
   ],
   "source": [
    "plt.imshow(test_data[0].reshape(28,28))"
   ]
  },
  {
   "cell_type": "markdown",
   "metadata": {},
   "source": [
    "Let's visualize"
   ]
  },
  {
   "cell_type": "markdown",
   "metadata": {},
   "source": [
    "1 t-SNE"
   ]
  },
  {
   "cell_type": "code",
   "execution_count": 97,
   "metadata": {},
   "outputs": [],
   "source": [
    "import matplotlib  \n",
    "#.colors #import Colormap\n",
    "def _get_colors(n=-1, cmap_name='jet'):\n",
    "    # colormap\n",
    "    cmap = matplotlib.cm.get_cmap(cmap_name, n)\n",
    "    colors = []\n",
    "    for idx, i in enumerate(range(cmap.N)):\n",
    "        rgb = cmap(i)[:3]\n",
    "        #print(idx, matplotlib.colors.rgb2hex(rgb))\n",
    "        colors += [matplotlib.colors.rgb2hex(rgb)]\n",
    "    return colors"
   ]
  },
  {
   "cell_type": "code",
   "execution_count": 115,
   "metadata": {},
   "outputs": [
    {
     "data": {
      "text/plain": [
       "Text(0.5, 1.0, 't-SNE to bottleneck layer')"
      ]
     },
     "execution_count": 115,
     "metadata": {},
     "output_type": "execute_result"
    },
    {
     "data": {
      "image/png": "[encoded data removed]",
      "text/plain": [
       "<Figure size 432x288 with 1 Axes>"
      ]
     },
     "metadata": {
      "needs_background": "light"
     },
     "output_type": "display_data"
    }
   ],
   "source": [
    "n_cluster = 10\n",
    "colors = _get_colors(n=n_cluster)\n",
    "for i in range(n_cluster):\n",
    "    cidx = np.where(test_label[:50] == i)\n",
    "    plt.scatter(digits_proj[cidx,0], digits_proj[cidx,1], label='d-'+str(i))\n",
    "plt.legend(ncol=1, loc='lower left')\n",
    "plt.ylim(-300,300);plt.xlim(-400,300)\n",
    "plt.title('t-SNE to bottleneck layer')"
   ]
  },
  {
   "cell_type": "markdown",
   "metadata": {},
   "source": [
    "2 PCA"
   ]
  },
  {
   "cell_type": "code",
   "execution_count": 117,
   "metadata": {},
   "outputs": [
    {
     "data": {
      "text/plain": [
       "Text(0.5, 1.0, 'PCA to bottleneck layer')"
      ]
     },
     "execution_count": 117,
     "metadata": {},
     "output_type": "execute_result"
    },
    {
     "data": {
      "image/png": "[encoded data removed]",
      "text/plain": [
       "<Figure size 432x288 with 1 Axes>"
      ]
     },
     "metadata": {
      "needs_background": "light"
     },
     "output_type": "display_data"
    }
   ],
   "source": [
    "n_cluster = 10\n",
    "colors = _get_colors(n=n_cluster)\n",
    "for i in range(n_cluster):\n",
    "    cidx = np.where(test_label[:50] == i)\n",
    "    plt.scatter(features[cidx,0], features[cidx,1], label='d-'+str(i))\n",
    "plt.legend(ncol=2, loc='upper right')\n",
    "#plt.ylim(-300,300);plt.xlim(-400,300)\n",
    "plt.xlabel('PC-1')\n",
    "plt.ylabel('PC-2')\n",
    "plt.title('PCA to bottleneck layer')"
   ]
  },
  {
   "cell_type": "markdown",
   "metadata": {},
   "source": [
    "#### Multiple time steps not temporal "
   ]
  },
  {
   "cell_type": "code",
   "execution_count": 108,
   "metadata": {},
   "outputs": [],
   "source": [
    "def conv_layer(x, *args, activation=True, **kwargs):\n",
    "    # create a Conv2D transform with the given arguments\n",
    "    conv = nengo.Convolution(*args, channels_last=False, **kwargs)\n",
    "\n",
    "    if activation:\n",
    "        # add an ensemble to implement the activation function\n",
    "        layer = nengo.Ensemble(conv.output_shape.size, 1).neurons\n",
    "    else:\n",
    "        # no nonlinearity, so we just use a node\n",
    "        layer = nengo.Node(size_in=conv.output_shape.size)\n",
    "\n",
    "    # connect up the input object to the new layer\n",
    "    nengo.Connection(x, layer, transform=conv)\n",
    "\n",
    "    # print out the shape information for our new layer\n",
    "    print(\"LAYER\")\n",
    "    print(conv.input_shape.shape, \"->\", conv.output_shape.shape)\n",
    "\n",
    "    return layer, conv"
   ]
  },
  {
   "cell_type": "code",
   "execution_count": 110,
   "metadata": {},
   "outputs": [
    {
     "name": "stdout",
     "output_type": "stream",
     "text": [
      "LAYER\n",
      "(1, 28, 28) -> (1, 28, 28)\n",
      "LAYER\n",
      "(1, 28, 28) -> (6, 13, 13)\n",
      "LAYER\n",
      "(6, 13, 13) -> (24, 6, 6)\n",
      "LAYER\n",
      "(1, 28, 28) -> (1, 28, 28)\n",
      "LAYER\n",
      "(1, 28, 28) -> (6, 13, 13)\n",
      "LAYER\n",
      "(6, 13, 13) -> (24, 6, 6)\n"
     ]
    }
   ],
   "source": [
    "dt = 0.001  # simulation timestep\n",
    "presentation_time = 0.1  # input presentation time\n",
    "max_rate = 100  # neuron firing rates\n",
    "# neuron spike amplitude (scaled so that the overall output is ~1)\n",
    "amp = 1 / max_rate\n",
    "# input image shape\n",
    "input_shape = (1, 28, 28)\n",
    "n_parallel = 2  # number of parallel network repetitions\n",
    "\n",
    "with nengo.Network(seed=0) as net:\n",
    "    # set up the default parameters for ensembles/connections\n",
    "    #nengo_loihi.add_params(net)\n",
    "    net.config[nengo.Ensemble].neuron_type = (\n",
    "        nengo.SpikingRectifiedLinear(amplitude=amp))\n",
    "    net.config[nengo.Ensemble].max_rates = nengo.dists.Choice([max_rate])\n",
    "    net.config[nengo.Ensemble].intercepts = nengo.dists.Choice([0])\n",
    "    net.config[nengo.Connection].synapse = None\n",
    "\n",
    "    # the input node that will be used to feed in input images\n",
    "    inp = nengo.Node(\n",
    "        nengo.processes.PresentInput(test_data[0], presentation_time),\n",
    "        size_out=28 * 28)\n",
    "\n",
    "    # the output node provides the 10-dimensional classification\n",
    "    out = nengo.Node(size_in=10)\n",
    "\n",
    "    # build parallel copies of the network\n",
    "    for _ in range(n_parallel):\n",
    "        layer, conv = conv_layer(\n",
    "            inp, 1, input_shape, kernel_size=(1, 1),\n",
    "            init=np.ones((1, 1, 1, 1)))\n",
    "        # first layer is off-chip to translate the images into spikes\n",
    "       # net.config[layer.ensemble].on_chip = False\n",
    "        layer, conv = conv_layer(layer, 6, conv.output_shape,\n",
    "                                 strides=(2, 2))\n",
    "        layer, conv = conv_layer(layer, 24, conv.output_shape,\n",
    "                                 strides=(2, 2))\n",
    "        nengo.Connection(layer, out, transform=nengo_dl.dists.Glorot())\n",
    "\n",
    "    out_p = nengo.Probe(out)\n",
    "    out_p_filt = nengo.Probe(out, synapse=nengo.Alpha(0.01))"
   ]
  }
 ],
 "metadata": {
  "kernelspec": {
   "display_name": "Python 3",
   "language": "python",
   "name": "python3"
  },
  "language_info": {
   "codemirror_mode": {
    "name": "ipython",
    "version": 3
   },
   "file_extension": ".py",
   "mimetype": "text/x-python",
   "name": "python",
   "nbconvert_exporter": "python",
   "pygments_lexer": "ipython3",
   "version": "3.6.8"
  }
 },
 "nbformat": 4,
 "nbformat_minor": 2
}
