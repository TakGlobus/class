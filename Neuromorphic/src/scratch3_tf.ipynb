{
 "cells": [
  {
   "cell_type": "markdown",
   "metadata": {},
   "source": [
    "# Nengo + Nengo_dl + Tensorflow"
   ]
  },
  {
   "cell_type": "code",
   "execution_count": 1,
   "metadata": {},
   "outputs": [
    {
     "name": "stderr",
     "output_type": "stream",
     "text": [
      "/home/kurihana/miniconda3/envs/py3/lib/python3.6/site-packages/nengo_dl/version.py:32: UserWarning: This version of `nengo_dl` has not been tested with your `nengo` version (3.0.0.dev0). The latest fully supported version is 2.8.0.\n",
      "  ((nengo.version.version,) + latest_nengo_version))\n"
     ]
    }
   ],
   "source": [
    "%matplotlib inline\n",
    "%reload_ext autoreload\n",
    "%autoreload 2\n",
    "\n",
    "import gzip\n",
    "import os\n",
    "import pickle\n",
    "from urllib.request import urlretrieve\n",
    "\n",
    "import nengo\n",
    "import nengo_dl\n",
    "import numpy as np\n",
    "import matplotlib.pyplot as plt\n",
    "import tensorflow as tf"
   ]
  },
  {
   "cell_type": "markdown",
   "metadata": {},
   "source": [
    "## Example in Nengo-DL website\n",
    "[NengoDL with Tnesorflow](https://www.nengo.ai/nengo-dl/v2.1.1/examples/from-tensorflow.html)"
   ]
  },
  {
   "cell_type": "markdown",
   "metadata": {},
   "source": [
    "Nengo DL How to"
   ]
  },
  {
   "cell_type": "code",
   "execution_count": 2,
   "metadata": {},
   "outputs": [
    {
     "name": "stdout",
     "output_type": "stream",
     "text": [
      "WARNING:tensorflow:From /home/kurihana/miniconda3/envs/py3/lib/python3.6/site-packages/nengo_dl/utils.py:158: py_func (from tensorflow.python.ops.script_ops) is deprecated and will be removed in a future version.\n",
      "Instructions for updating:\n",
      "tf.py_func is deprecated in TF V2. Instead, use\n",
      "    tf.py_function, which takes a python function which manipulates tf eager\n",
      "    tensors instead of numpy arrays. It's easy to convert a tf eager tensor to\n",
      "    an ndarray (just call tensor.numpy()) but having access to eager tensors\n",
      "    means `tf.py_function`s can use accelerators such as GPUs as well as\n",
      "    being differentiable using a gradient tape.\n",
      "    \n",
      "Build finished in 0:00:00                                                      \n",
      "Optimization finished in 0:00:00                                               \n",
      "|#                        Constructing graph                          | 0:00:00WARNING:tensorflow:From /home/kurihana/miniconda3/envs/py3/lib/python3.6/site-packages/tensorflow/python/framework/op_def_library.py:263: colocate_with (from tensorflow.python.framework.ops) is deprecated and will be removed in a future version.\n",
      "Instructions for updating:\n",
      "Colocations handled automatically by placer.\n"
     ]
    },
    {
     "name": "stderr",
     "output_type": "stream",
     "text": [
      "/home/kurihana/miniconda3/envs/py3/lib/python3.6/site-packages/nengo_dl/simulator.py:131: UserWarning: No GPU support detected. It is recommended that you install tensorflow-gpu (`pip install tensorflow-gpu`).\n",
      "  \"No GPU support detected. It is recommended that you \"\n",
      "WARNING:tensorflow:From /home/kurihana/miniconda3/envs/py3/lib/python3.6/site-packages/tensorflow/python/framework/op_def_library.py:263: colocate_with (from tensorflow.python.framework.ops) is deprecated and will be removed in a future version.\n",
      "Instructions for updating:\n",
      "Colocations handled automatically by placer.\n"
     ]
    },
    {
     "name": "stdout",
     "output_type": "stream",
     "text": [
      "Construction finished in 0:00:00                                               \n",
      "TensorNode input:\n",
      "t: 0.001\n",
      "x: [[ 0.5 -0.1]]\n",
      "t: 0.002\n",
      "x: [[ 0.5 -0.1]]\n",
      "t: 0.003\n",
      "x: [[ 0.5 -0.1]]\n",
      "t: 0.004\n",
      "x: [[ 0.5 -0.1]]\n",
      "t: 0.0050000004\n",
      "x: [[ 0.5 -0.1]]\n",
      "t: 0.006\n",
      "x: [[ 0.5 -0.1]]\n",
      "t: 0.007\n",
      "x: [[ 0.5 -0.1]]\n",
      "t: 0.008\n",
      "x: [[ 0.5 -0.1]]\n",
      "t: 0.009000001\n",
      "x: [[ 0.5 -0.1]]\n",
      "t: 0.010000001\n",
      "x: [[ 0.5 -0.1]]\n",
      "TensorNode output:\n",
      "[[ 0.501 -0.099]\n",
      " [ 0.502 -0.098]\n",
      " [ 0.503 -0.097]\n",
      " [ 0.504 -0.096]\n",
      " [ 0.505 -0.095]\n",
      " [ 0.506 -0.094]\n",
      " [ 0.507 -0.093]\n",
      " [ 0.508 -0.092]\n",
      " [ 0.509 -0.091]\n",
      " [ 0.51  -0.09 ]]\n"
     ]
    }
   ],
   "source": [
    "with nengo.Network() as net:\n",
    "    # node to provide an input value for the TensorNode\n",
    "    a = nengo.Node([0.5, -0.1])\n",
    "\n",
    "    # a TensorNode function to illustrate i/o\n",
    "    def tensor_func(t, x):\n",
    "        # print out the value of inputs t and x\n",
    "        t = nengo_dl.utils.print_op(t, \"t:\")\n",
    "        with tf.control_dependencies([t]):\n",
    "            x = nengo_dl.utils.print_op(x, \"x:\")\n",
    "\n",
    "        # output t + x\n",
    "        return tf.add(t, x)\n",
    "\n",
    "    # create the TensorNode\n",
    "    b = nengo_dl.TensorNode(tensor_func, size_in=2)\n",
    "    nengo.Connection(a, b, synapse=None)\n",
    "\n",
    "    p = nengo.Probe(b)\n",
    "\n",
    "with nengo_dl.Simulator(net) as sim:\n",
    "    print(\"TensorNode input:\")\n",
    "    sim.run_steps(10, progress_bar=False)\n",
    "    print(\"TensorNode output:\")\n",
    "    print(sim.data[p])"
   ]
  },
  {
   "cell_type": "code",
   "execution_count": 3,
   "metadata": {},
   "outputs": [
    {
     "name": "stdout",
     "output_type": "stream",
     "text": [
      "in pre_build, scope: SimTensorNodeBuilder\n",
      "in build, scope: while/iteration_0/SimTensorNodeBuilder\n",
      "in post_build, scope: SimTensorNodeBuilder_1\n"
     ]
    }
   ],
   "source": [
    "with nengo.Network() as net:\n",
    "    class TensorFunc:\n",
    "        def pre_build(self, shape_in, shape_out):\n",
    "            # shape_in and shape_out are the input and output shape of\n",
    "            # the TensorNode\n",
    "\n",
    "            print(\"in pre_build, scope:\",\n",
    "                  tf.get_default_graph().get_name_scope())\n",
    "\n",
    "        def __call__(self, t, x):\n",
    "            # this is the main tensornode function, equivalent to the\n",
    "            # tensor_func discussed above\n",
    "\n",
    "            print(\"in build, scope:\",\n",
    "                  tf.get_default_graph().get_name_scope())\n",
    "            return x\n",
    "\n",
    "        def post_build(self, sess, rng):\n",
    "            # post_build is called after the Simulator's underlying\n",
    "            # tf.Session is initialized, and that Session is passed\n",
    "            # in as `sess`. `rng` is the Simulator's random number\n",
    "            # generator.\n",
    "\n",
    "            print(\"in post_build, scope:\",\n",
    "                  tf.get_default_graph().get_name_scope())\n",
    "\n",
    "    a = nengo_dl.TensorNode(TensorFunc(), size_in=1, size_out=1)\n",
    "\n",
    "# build the network\n",
    "with nengo_dl.Simulator(net, progress_bar=False) as sim:\n",
    "    pass"
   ]
  },
  {
   "cell_type": "markdown",
   "metadata": {},
   "source": [
    "MNIST Nengo DL"
   ]
  },
  {
   "cell_type": "code",
   "execution_count": 4,
   "metadata": {},
   "outputs": [],
   "source": [
    "# download MNIST dataset\n",
    "urlretrieve(\"http://deeplearning.net/data/mnist/mnist.pkl.gz\",\n",
    "            \"mnist.pkl.gz\")\n",
    "with gzip.open(\"mnist.pkl.gz\") as f:\n",
    "    (train_data, _), _, (test_data, _) = pickle.load(\n",
    "        f, encoding=\"latin1\")\n",
    "np.random.shuffle(train_data)\n",
    "\n",
    "n_epochs = 2"
   ]
  },
  {
   "cell_type": "code",
   "execution_count": 8,
   "metadata": {},
   "outputs": [
    {
     "name": "stdout",
     "output_type": "stream",
     "text": [
      "WARNING:tensorflow:From <ipython-input-8-9b252fb177a3>:12: dense (from tensorflow.python.layers.core) is deprecated and will be removed in a future version.\n",
      "Instructions for updating:\n",
      "Use keras.layers.dense instead.\n"
     ]
    },
    {
     "name": "stderr",
     "output_type": "stream",
     "text": [
      "WARNING:tensorflow:From <ipython-input-8-9b252fb177a3>:12: dense (from tensorflow.python.layers.core) is deprecated and will be removed in a future version.\n",
      "Instructions for updating:\n",
      "Use keras.layers.dense instead.\n"
     ]
    }
   ],
   "source": [
    "n_in = 784\n",
    "n_hidden = 64\n",
    "minibatch_size = 50\n",
    "\n",
    "with tf.Graph().as_default() as auto_graph:\n",
    "    # input\n",
    "    tf_a = tf.placeholder(tf.float32, shape=(minibatch_size, n_in))\n",
    "\n",
    "    # first layer\n",
    "    tf_b = tf.layers.dense(\n",
    "        tf_a, n_hidden, activation=tf.nn.relu,\n",
    "        kernel_initializer=tf.initializers.glorot_uniform())\n",
    "\n",
    "    # second layer\n",
    "    tf_c = tf.layers.dense(\n",
    "        tf_b, n_in, activation=tf.nn.relu,\n",
    "        kernel_initializer=tf.initializers.glorot_uniform())"
   ]
  },
  {
   "cell_type": "code",
   "execution_count": 10,
   "metadata": {},
   "outputs": [],
   "source": [
    "with nengo.Network() as auto_net:\n",
    "    # input\n",
    "    nengo_a = nengo.Node(np.zeros(n_in))\n",
    "\n",
    "    # first layer\n",
    "    nengo_b = nengo.Ensemble(\n",
    "        n_hidden, 1, neuron_type=nengo.RectifiedLinear())\n",
    "    nengo.Connection(\n",
    "        nengo_a, nengo_b.neurons, transform=nengo_dl.dists.Glorot())\n",
    "\n",
    "    # second layer\n",
    "    nengo_c = nengo.Ensemble(\n",
    "        n_in, 1, neuron_type=nengo.RectifiedLinear())\n",
    "    nengo.Connection(\n",
    "        nengo_b.neurons, nengo_c.neurons,\n",
    "        transform=nengo_dl.dists.Glorot())\n",
    "\n",
    "    # probes are used to collect data from the network\n",
    "    p_c = nengo.Probe(nengo_c.neurons)"
   ]
  },
  {
   "cell_type": "markdown",
   "metadata": {},
   "source": [
    "Look into parameter shapes"
   ]
  },
  {
   "cell_type": "code",
   "execution_count": 16,
   "metadata": {},
   "outputs": [
    {
     "data": {
      "text/plain": [
       "(784, 64)"
      ]
     },
     "execution_count": 16,
     "metadata": {},
     "output_type": "execute_result"
    }
   ],
   "source": [
    "n_in, n_hidden"
   ]
  },
  {
   "cell_type": "code",
   "execution_count": 19,
   "metadata": {},
   "outputs": [
    {
     "data": {
      "text/plain": [
       "(nengo.ensemble.Ensemble, nengo.ensemble.Neurons, nengo.probe.Probe)"
      ]
     },
     "execution_count": 19,
     "metadata": {},
     "output_type": "execute_result"
    }
   ],
   "source": [
    "type(nengo_c), type(nengo_c.neurons),type(p_c)"
   ]
  },
  {
   "cell_type": "markdown",
   "metadata": {},
   "source": [
    "Simulation"
   ]
  },
  {
   "cell_type": "code",
   "execution_count": 11,
   "metadata": {},
   "outputs": [],
   "source": [
    "# set initial neuron gains to 1 and biases to 0\n",
    "for ens in auto_net.all_ensembles:\n",
    "    ens.gain = nengo.dists.Choice([1])\n",
    "    ens.bias = nengo.dists.Choice([0])\n",
    "\n",
    "# disable synaptic filtering on all connections\n",
    "for conn in auto_net.all_connections:\n",
    "    conn.synapse = None"
   ]
  },
  {
   "cell_type": "code",
   "execution_count": 13,
   "metadata": {},
   "outputs": [
    {
     "name": "stdout",
     "output_type": "stream",
     "text": [
      "Build finished in 0:00:00                                                      \n",
      "Optimization finished in 0:00:00                                               \n",
      "Construction finished in 0:00:00                                               ##################################################################################################################################################################################################################################################################################################################| ETA: 0:00:00\n",
      "|                   Training (0%)                  | ETA:  --:--:-- (loss: ---)WARNING:tensorflow:From /home/kurihana/miniconda3/envs/py3/lib/python3.6/site-packages/tensorflow/python/ops/array_grad.py:425: to_int32 (from tensorflow.python.ops.math_ops) is deprecated and will be removed in a future version.\n",
      "Instructions for updating:\n",
      "Use tf.cast instead.\n"
     ]
    },
    {
     "name": "stderr",
     "output_type": "stream",
     "text": [
      "WARNING:tensorflow:From /home/kurihana/miniconda3/envs/py3/lib/python3.6/site-packages/tensorflow/python/ops/array_grad.py:425: to_int32 (from tensorflow.python.ops.math_ops) is deprecated and will be removed in a future version.\n",
      "Instructions for updating:\n",
      "Use tf.cast instead.\n"
     ]
    },
    {
     "name": "stdout",
     "output_type": "stream",
     "text": [
      "|#################Training (99%)################# | ETA: 0:00:00 (loss: 0.0110)WARNING:tensorflow:From /home/kurihana/miniconda3/envs/py3/lib/python3.6/site-packages/tensorflow/python/training/saver.py:1266: checkpoint_exists (from tensorflow.python.training.checkpoint_management) is deprecated and will be removed in a future version.\n",
      "Instructions for updating:\n",
      "Use standard file APIs to check for files with this prefix.\n"
     ]
    },
    {
     "name": "stderr",
     "output_type": "stream",
     "text": [
      "WARNING:tensorflow:From /home/kurihana/miniconda3/envs/py3/lib/python3.6/site-packages/tensorflow/python/training/saver.py:1266: checkpoint_exists (from tensorflow.python.training.checkpoint_management) is deprecated and will be removed in a future version.\n",
      "Instructions for updating:\n",
      "Use standard file APIs to check for files with this prefix.\n"
     ]
    },
    {
     "name": "stdout",
     "output_type": "stream",
     "text": [
      "Training finished in 0:00:21 (loss: 0.0138)                                    \n",
      "Calculation finished in 0:00:01                                                \n",
      "error: 0.0129718995\n"
     ]
    },
    {
     "data": {
      "image/png": "[encoded data removed]",
      "text/plain": [
       "<Figure size 432x288 with 1 Axes>"
      ]
     },
     "metadata": {
      "needs_background": "light"
     },
     "output_type": "display_data"
    }
   ],
   "source": [
    "# define loss function (we could use the pre-defined\n",
    "# `nengo_dl.obj.mse`, but we define it explicitly here\n",
    "# for clarity)\n",
    "def loss(outputs, targets):\n",
    "    return tf.reduce_mean(tf.square(outputs - targets))\n",
    "\n",
    "with nengo_dl.Simulator(auto_net, minibatch_size=minibatch_size) as sim:\n",
    "    # sim.train automatically adds the necessary elements to the\n",
    "    # graph and runs the training loop\n",
    "    # note: the probe acts as the placeholder to feed in target values\n",
    "    sim.train({nengo_a: train_data, p_c: train_data},\n",
    "              tf.train.RMSPropOptimizer(1e-3),\n",
    "              objective={p_c: loss}, n_epochs=n_epochs)\n",
    "\n",
    "    # evaluate performance on test set\n",
    "    error = sim.loss({nengo_a: test_data, p_c: test_data},\n",
    "                     objective={p_c: loss})\n",
    "    print(\"error:\", error)\n",
    "\n",
    "    # display example output\n",
    "    sim.step(data={nengo_a: test_data[:minibatch_size]})\n",
    "    plt.figure()\n",
    "    plt.imshow(sim.data[p_c][0].reshape((28, 28)))"
   ]
  }
 ],
 "metadata": {
  "kernelspec": {
   "display_name": "Python 3",
   "language": "python",
   "name": "python3"
  },
  "language_info": {
   "codemirror_mode": {
    "name": "ipython",
    "version": 3
   },
   "file_extension": ".py",
   "mimetype": "text/x-python",
   "name": "python",
   "nbconvert_exporter": "python",
   "pygments_lexer": "ipython3",
   "version": "3.6.8"
  }
 },
 "nbformat": 4,
 "nbformat_minor": 2
}
